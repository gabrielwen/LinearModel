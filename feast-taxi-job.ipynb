{
 "cells": [
  {
   "cell_type": "markdown",
   "metadata": {},
   "source": [
    "## Taxi Ride Fare Prediction Using Kubeflow, Feast, and TFX\n",
    "\n",
    "* Predict taxi ride fares using Feast and Kubeflow"
   ]
  },
  {
   "cell_type": "markdown",
   "metadata": {},
   "source": [
    "Setup the notebook\n",
    "- Install `feast` with pip.\n",
    "- Activate user service account with credentials JSON.\n",
    "- Hacks to retrieve essential information for deployments and serving.\n",
    "\n",
    "**NOTE**: This code block might hangs for a long time."
   ]
  },
  {
   "cell_type": "code",
   "execution_count": 1,
   "metadata": {},
   "outputs": [],
   "source": [
    "import demo_util\n",
    "demo_util.notebook_setup()"
   ]
  },
  {
   "cell_type": "code",
   "execution_count": 2,
   "metadata": {},
   "outputs": [],
   "source": [
    "import importlib\n",
    "importlib.reload(demo_util)\n",
    "working_dir = \"/home/jovyan/LinearModel\""
   ]
  },
  {
   "cell_type": "code",
   "execution_count": 3,
   "metadata": {},
   "outputs": [
    {
     "name": "stdout",
     "output_type": "stream",
     "text": [
      "PROJECT = aliz-development\n",
      "APP_NAME = kubeflow-asia\n",
      "ZONE = asia-southeast1-a\n"
     ]
    }
   ],
   "source": [
    "PROJECT, ZONE, APP_NAME = demo_util.get_project_config()\n",
    "print('PROJECT =', PROJECT)\n",
    "print('APP_NAME =', APP_NAME)\n",
    "print('ZONE =', ZONE)"
   ]
  },
  {
   "cell_type": "code",
   "execution_count": 4,
   "metadata": {},
   "outputs": [
    {
     "name": "stderr",
     "output_type": "stream",
     "text": [
      "/opt/conda/lib/python3.6/site-packages/apache_beam/__init__.py:84: UserWarning: Running the Apache Beam SDK on Python 3 is not yet fully supported. You may encounter buggy behavior or missing features.\n",
      "  'Running the Apache Beam SDK on Python 3 is not yet fully supported. '\n"
     ]
    }
   ],
   "source": [
    "# fairing:include-cell\n",
    "from google.cloud import storage\n",
    "import datetime\n",
    "import demo_util\n",
    "import kfp\n",
    "import kfp.components as comp\n",
    "import kfp.gcp as gcp\n",
    "import kfp.dsl as dsl\n",
    "import kfp.compiler as compiler\n",
    "import sys\n",
    "import importlib\n",
    "import uuid\n",
    "import logging\n",
    "import os\n",
    "import json\n",
    "import requests\n",
    "import pandas as pd\n",
    "import numpy as np\n",
    "from retrying import retry\n",
    "from feast.sdk.resources.entity import Entity\n",
    "from feast.sdk.resources.storage import Storage\n",
    "from feast.sdk.resources.feature import Feature, Datastore, ValueType\n",
    "from feast.sdk.resources.feature_set import FeatureSet, FileType\n",
    "import feast.specs.FeatureSpec_pb2 as feature_pb\n",
    "\n",
    "from feast.sdk.importer import Importer\n",
    "from feast.sdk.client import Client\n",
    "import tensorflow as tf\n",
    "import tensorflow_data_validation as tfdv"
   ]
  },
  {
   "cell_type": "code",
   "execution_count": 5,
   "metadata": {},
   "outputs": [],
   "source": [
    "# Keep this imports separate because we don't want to import in the container built by fairing\n",
    "import fairing\n",
    "from fairing.deployers import job"
   ]
  },
  {
   "cell_type": "code",
   "execution_count": 6,
   "metadata": {},
   "outputs": [],
   "source": [
    "# fairing:include-cell\n",
    "class TaxiFeast(object):\n",
    "    \"\"\"Taxi code.\"\"\"\n",
    "    # Connect to the Feast deployment\n",
    "    FEAST_CORE_URL = '10.148.0.99:6565'\n",
    "    FEAST_SERVING_URL = '10.148.0.100:6566'\n",
    "    STAGING_LOCATION = 'gs://kubecon-19-gojek/staging'\n",
    "    \n",
    "    STATS_KEY = \"training_stats\"\n",
    "\n",
    "    def __init__(self):\n",
    "        self._fs = None\n",
    "        self._train_feature_set = None\n",
    "    @property\n",
    "    def fs(self):\n",
    "        if not self._fs:\n",
    "            self._fs = Client(core_url=self.FEAST_CORE_URL,serving_url=self.FEAST_SERVING_URL, verbose=True)\n",
    "        return self._fs\n",
    "    \n",
    "    def compute_training_stats(self, stats_path=None):\n",
    "        \"\"\"compute training stats.\"\"\"\n",
    "        dataset = self.fs.create_dataset(self.train_feature_set, \"2009-01-01\", \"2016-01-01\")\n",
    "        training_df = self.fs.download_dataset_to_df(dataset, self.STAGING_LOCATION)\n",
    "        training_stats = tfdv.generate_statistics_from_dataframe(training_df)\n",
    "        \n",
    "        if stats_path:\n",
    "            logging.info(\"Saving training stats to %s\", stats_path)\n",
    "            demo_util.save_proto(training_stats, stats_path)\n",
    "        else:\n",
    "            logging.info(\"No stats_path provided; not saving stats\")\n",
    "        return training_stats\n",
    "    \n",
    "    @property\n",
    "    def train_feature_set(self):\n",
    "        if not self._train_feature_set:\n",
    "            self._train_feature_set = FeatureSet(entity=ENTITY_ID, \n",
    "                                                 features=TRAINING_FEATURES_SET)\n",
    "        return self._train_feature_set\n",
    "            "
   ]
  },
  {
   "cell_type": "code",
   "execution_count": 7,
   "metadata": {},
   "outputs": [],
   "source": [
    "fshelper = TaxiFeast()"
   ]
  },
  {
   "cell_type": "markdown",
   "metadata": {},
   "source": [
    "## Load raw data"
   ]
  },
  {
   "cell_type": "code",
   "execution_count": 8,
   "metadata": {},
   "outputs": [
    {
     "data": {
      "text/html": [
       "<div>\n",
       "<style scoped>\n",
       "    .dataframe tbody tr th:only-of-type {\n",
       "        vertical-align: middle;\n",
       "    }\n",
       "\n",
       "    .dataframe tbody tr th {\n",
       "        vertical-align: top;\n",
       "    }\n",
       "\n",
       "    .dataframe thead th {\n",
       "        text-align: right;\n",
       "    }\n",
       "</style>\n",
       "<table border=\"1\" class=\"dataframe\">\n",
       "  <thead>\n",
       "    <tr style=\"text-align: right;\">\n",
       "      <th></th>\n",
       "      <th>ride_id</th>\n",
       "      <th>fare_amount</th>\n",
       "      <th>pickup_datetime</th>\n",
       "      <th>pickup_longitude</th>\n",
       "      <th>pickup_latitude</th>\n",
       "      <th>dropoff_longitude</th>\n",
       "      <th>dropoff_latitude</th>\n",
       "      <th>passenger_count</th>\n",
       "    </tr>\n",
       "  </thead>\n",
       "  <tbody>\n",
       "    <tr>\n",
       "      <th>0</th>\n",
       "      <td>20090615_172621</td>\n",
       "      <td>4.5</td>\n",
       "      <td>2009-06-15T17:26:21Z</td>\n",
       "      <td>-73.844311</td>\n",
       "      <td>40.721319</td>\n",
       "      <td>-73.841610</td>\n",
       "      <td>40.712278</td>\n",
       "      <td>1</td>\n",
       "    </tr>\n",
       "    <tr>\n",
       "      <th>1</th>\n",
       "      <td>20100105_165216</td>\n",
       "      <td>16.9</td>\n",
       "      <td>2010-01-05T16:52:16Z</td>\n",
       "      <td>-74.016048</td>\n",
       "      <td>40.711303</td>\n",
       "      <td>-73.979268</td>\n",
       "      <td>40.782004</td>\n",
       "      <td>1</td>\n",
       "    </tr>\n",
       "    <tr>\n",
       "      <th>2</th>\n",
       "      <td>20110818_003500</td>\n",
       "      <td>5.7</td>\n",
       "      <td>2011-08-18T00:35:00Z</td>\n",
       "      <td>-73.982738</td>\n",
       "      <td>40.761270</td>\n",
       "      <td>-73.991242</td>\n",
       "      <td>40.750562</td>\n",
       "      <td>2</td>\n",
       "    </tr>\n",
       "    <tr>\n",
       "      <th>3</th>\n",
       "      <td>20120421_043042</td>\n",
       "      <td>7.7</td>\n",
       "      <td>2012-04-21T04:30:42Z</td>\n",
       "      <td>-73.987130</td>\n",
       "      <td>40.733143</td>\n",
       "      <td>-73.991567</td>\n",
       "      <td>40.758092</td>\n",
       "      <td>1</td>\n",
       "    </tr>\n",
       "    <tr>\n",
       "      <th>4</th>\n",
       "      <td>20100309_075100</td>\n",
       "      <td>5.3</td>\n",
       "      <td>2010-03-09T07:51:00Z</td>\n",
       "      <td>-73.968095</td>\n",
       "      <td>40.768008</td>\n",
       "      <td>-73.956655</td>\n",
       "      <td>40.783762</td>\n",
       "      <td>1</td>\n",
       "    </tr>\n",
       "  </tbody>\n",
       "</table>\n",
       "</div>"
      ],
      "text/plain": [
       "           ride_id  fare_amount       pickup_datetime  pickup_longitude  \\\n",
       "0  20090615_172621          4.5  2009-06-15T17:26:21Z        -73.844311   \n",
       "1  20100105_165216         16.9  2010-01-05T16:52:16Z        -74.016048   \n",
       "2  20110818_003500          5.7  2011-08-18T00:35:00Z        -73.982738   \n",
       "3  20120421_043042          7.7  2012-04-21T04:30:42Z        -73.987130   \n",
       "4  20100309_075100          5.3  2010-03-09T07:51:00Z        -73.968095   \n",
       "\n",
       "   pickup_latitude  dropoff_longitude  dropoff_latitude  passenger_count  \n",
       "0        40.721319         -73.841610         40.712278                1  \n",
       "1        40.711303         -73.979268         40.782004                1  \n",
       "2        40.761270         -73.991242         40.750562                2  \n",
       "3        40.733143         -73.991567         40.758092                1  \n",
       "4        40.768008         -73.956655         40.783762                1  "
      ]
     },
     "execution_count": 8,
     "metadata": {},
     "output_type": "execute_result"
    }
   ],
   "source": [
    "df = pd.read_csv('taxi_ride.csv', index_col=False)\n",
    "df.head()"
   ]
  },
  {
   "cell_type": "markdown",
   "metadata": {},
   "source": [
    "## Extract more features"
   ]
  },
  {
   "cell_type": "code",
   "execution_count": 9,
   "metadata": {},
   "outputs": [
    {
     "data": {
      "text/html": [
       "<div>\n",
       "<style scoped>\n",
       "    .dataframe tbody tr th:only-of-type {\n",
       "        vertical-align: middle;\n",
       "    }\n",
       "\n",
       "    .dataframe tbody tr th {\n",
       "        vertical-align: top;\n",
       "    }\n",
       "\n",
       "    .dataframe thead th {\n",
       "        text-align: right;\n",
       "    }\n",
       "</style>\n",
       "<table border=\"1\" class=\"dataframe\">\n",
       "  <thead>\n",
       "    <tr style=\"text-align: right;\">\n",
       "      <th></th>\n",
       "      <th>ride_id</th>\n",
       "      <th>fare_amount</th>\n",
       "      <th>pickup_datetime</th>\n",
       "      <th>passenger_count</th>\n",
       "      <th>distance_haversine</th>\n",
       "      <th>distance_dummy_manhattan</th>\n",
       "      <th>direction</th>\n",
       "      <th>month</th>\n",
       "      <th>day_of_month</th>\n",
       "      <th>hour</th>\n",
       "      <th>day_of_week</th>\n",
       "    </tr>\n",
       "  </thead>\n",
       "  <tbody>\n",
       "    <tr>\n",
       "      <th>0</th>\n",
       "      <td>20090615_172621</td>\n",
       "      <td>4.5</td>\n",
       "      <td>2009-06-15 17:26:21</td>\n",
       "      <td>1</td>\n",
       "      <td>1.030764</td>\n",
       "      <td>1.232937</td>\n",
       "      <td>167.240469</td>\n",
       "      <td>6</td>\n",
       "      <td>15</td>\n",
       "      <td>17</td>\n",
       "      <td>0</td>\n",
       "    </tr>\n",
       "    <tr>\n",
       "      <th>1</th>\n",
       "      <td>20100105_165216</td>\n",
       "      <td>16.9</td>\n",
       "      <td>2010-01-05 16:52:16</td>\n",
       "      <td>1</td>\n",
       "      <td>8.450134</td>\n",
       "      <td>10.961646</td>\n",
       "      <td>21.498365</td>\n",
       "      <td>1</td>\n",
       "      <td>5</td>\n",
       "      <td>16</td>\n",
       "      <td>1</td>\n",
       "    </tr>\n",
       "    <tr>\n",
       "      <th>2</th>\n",
       "      <td>20110818_003500</td>\n",
       "      <td>5.7</td>\n",
       "      <td>2011-08-18 00:35:00</td>\n",
       "      <td>2</td>\n",
       "      <td>1.389525</td>\n",
       "      <td>1.906909</td>\n",
       "      <td>-148.966789</td>\n",
       "      <td>8</td>\n",
       "      <td>18</td>\n",
       "      <td>0</td>\n",
       "      <td>3</td>\n",
       "    </tr>\n",
       "    <tr>\n",
       "      <th>3</th>\n",
       "      <td>20120421_043042</td>\n",
       "      <td>7.7</td>\n",
       "      <td>2012-04-21 04:30:42</td>\n",
       "      <td>1</td>\n",
       "      <td>2.799270</td>\n",
       "      <td>3.148058</td>\n",
       "      <td>-7.672164</td>\n",
       "      <td>4</td>\n",
       "      <td>21</td>\n",
       "      <td>4</td>\n",
       "      <td>5</td>\n",
       "    </tr>\n",
       "    <tr>\n",
       "      <th>4</th>\n",
       "      <td>20100309_075100</td>\n",
       "      <td>5.3</td>\n",
       "      <td>2010-03-09 07:51:00</td>\n",
       "      <td>1</td>\n",
       "      <td>1.999157</td>\n",
       "      <td>2.715180</td>\n",
       "      <td>28.802783</td>\n",
       "      <td>3</td>\n",
       "      <td>9</td>\n",
       "      <td>7</td>\n",
       "      <td>1</td>\n",
       "    </tr>\n",
       "  </tbody>\n",
       "</table>\n",
       "</div>"
      ],
      "text/plain": [
       "           ride_id  fare_amount     pickup_datetime  passenger_count  \\\n",
       "0  20090615_172621          4.5 2009-06-15 17:26:21                1   \n",
       "1  20100105_165216         16.9 2010-01-05 16:52:16                1   \n",
       "2  20110818_003500          5.7 2011-08-18 00:35:00                2   \n",
       "3  20120421_043042          7.7 2012-04-21 04:30:42                1   \n",
       "4  20100309_075100          5.3 2010-03-09 07:51:00                1   \n",
       "\n",
       "   distance_haversine  distance_dummy_manhattan   direction  month  \\\n",
       "0            1.030764                  1.232937  167.240469      6   \n",
       "1            8.450134                 10.961646   21.498365      1   \n",
       "2            1.389525                  1.906909 -148.966789      8   \n",
       "3            2.799270                  3.148058   -7.672164      4   \n",
       "4            1.999157                  2.715180   28.802783      3   \n",
       "\n",
       "   day_of_month  hour  day_of_week  \n",
       "0            15    17            0  \n",
       "1             5    16            1  \n",
       "2            18     0            3  \n",
       "3            21     4            5  \n",
       "4             9     7            1  "
      ]
     },
     "execution_count": 9,
     "metadata": {},
     "output_type": "execute_result"
    }
   ],
   "source": [
    "from distance_utils import haversine_array, dummy_manhattan_distance, bearing_array  \n",
    "\n",
    "# location features\n",
    "df.loc[:, 'distance_haversine'] = haversine_array(\n",
    "    df['pickup_latitude'].values, \n",
    "    df['pickup_longitude'].values, \n",
    "    df['dropoff_latitude'].values, \n",
    "    df['dropoff_longitude'].values)\n",
    "\n",
    "df.loc[:, 'distance_dummy_manhattan'] =  dummy_manhattan_distance(\n",
    "    df['pickup_latitude'].values, \n",
    "    df['pickup_longitude'].values, \n",
    "    df['dropoff_latitude'].values, \n",
    "    df['dropoff_longitude'].values)\n",
    "\n",
    "df.loc[:, 'direction'] = bearing_array(\n",
    "    df['pickup_latitude'].values, \n",
    "    df['pickup_longitude'].values, \n",
    "    df['dropoff_latitude'].values, \n",
    "    df['dropoff_longitude'].values)\n",
    "\n",
    "# time features\n",
    "df['pickup_datetime'] = pd.to_datetime(df['pickup_datetime']).apply(lambda d: d.replace(tzinfo=None))\n",
    "df['month'] = df['pickup_datetime'].dt.month\n",
    "df['day_of_month'] = df['pickup_datetime'].dt.day\n",
    "df['hour'] = df['pickup_datetime'].dt.hour\n",
    "df['day_of_week'] = df['pickup_datetime'].dt.dayofweek\n",
    "\n",
    "# drop unused columns\n",
    "df = df.drop(columns=['pickup_latitude', 'pickup_longitude', 'dropoff_latitude', 'dropoff_longitude'], axis=1)\n",
    "\n",
    "df.head()"
   ]
  },
  {
   "cell_type": "markdown",
   "metadata": {},
   "source": [
    "## Register entity and features"
   ]
  },
  {
   "cell_type": "code",
   "execution_count": 10,
   "metadata": {},
   "outputs": [
    {
     "name": "stdout",
     "output_type": "stream",
     "text": [
      "Successfully applied entity with name: taxi_ride\n",
      "---\n",
      "name: taxi_ride\n",
      "description: entity level description\n",
      "\n",
      "Successfully applied feature with id: taxi_ride.fare_amount\n",
      "---\n",
      "id: taxi_ride.fare_amount\n",
      "name: fare_amount\n",
      "owner: user@website.com\n",
      "description: feature level description\n",
      "valueType: DOUBLE\n",
      "entity: taxi_ride\n",
      "dataStores:\n",
      "  serving:\n",
      "    id: SERVING\n",
      "  warehouse:\n",
      "    id: WAREHOUSE\n",
      "\n",
      "Successfully applied feature with id: taxi_ride.passenger_count\n",
      "---\n",
      "id: taxi_ride.passenger_count\n",
      "name: passenger_count\n",
      "owner: user@website.com\n",
      "description: feature level description\n",
      "valueType: INT64\n",
      "entity: taxi_ride\n",
      "dataStores:\n",
      "  serving:\n",
      "    id: SERVING\n",
      "  warehouse:\n",
      "    id: WAREHOUSE\n",
      "\n",
      "Successfully applied feature with id: taxi_ride.distance_haversine\n",
      "---\n",
      "id: taxi_ride.distance_haversine\n",
      "name: distance_haversine\n",
      "owner: user@website.com\n",
      "description: feature level description\n",
      "valueType: DOUBLE\n",
      "entity: taxi_ride\n",
      "dataStores:\n",
      "  serving:\n",
      "    id: SERVING\n",
      "  warehouse:\n",
      "    id: WAREHOUSE\n",
      "\n",
      "Successfully applied feature with id: taxi_ride.distance_dummy_manhattan\n",
      "---\n",
      "id: taxi_ride.distance_dummy_manhattan\n",
      "name: distance_dummy_manhattan\n",
      "owner: user@website.com\n",
      "description: feature level description\n",
      "valueType: DOUBLE\n",
      "entity: taxi_ride\n",
      "dataStores:\n",
      "  serving:\n",
      "    id: SERVING\n",
      "  warehouse:\n",
      "    id: WAREHOUSE\n",
      "\n",
      "Successfully applied feature with id: taxi_ride.direction\n",
      "---\n",
      "id: taxi_ride.direction\n",
      "name: direction\n",
      "owner: user@website.com\n",
      "description: feature level description\n",
      "valueType: DOUBLE\n",
      "entity: taxi_ride\n",
      "dataStores:\n",
      "  serving:\n",
      "    id: SERVING\n",
      "  warehouse:\n",
      "    id: WAREHOUSE\n",
      "\n",
      "Successfully applied feature with id: taxi_ride.month\n",
      "---\n",
      "id: taxi_ride.month\n",
      "name: month\n",
      "owner: user@website.com\n",
      "description: feature level description\n",
      "valueType: INT64\n",
      "entity: taxi_ride\n",
      "dataStores:\n",
      "  serving:\n",
      "    id: SERVING\n",
      "  warehouse:\n",
      "    id: WAREHOUSE\n",
      "\n",
      "Successfully applied feature with id: taxi_ride.day_of_month\n",
      "---\n",
      "id: taxi_ride.day_of_month\n",
      "name: day_of_month\n",
      "owner: user@website.com\n",
      "description: feature level description\n",
      "valueType: INT64\n",
      "entity: taxi_ride\n",
      "dataStores:\n",
      "  serving:\n",
      "    id: SERVING\n",
      "  warehouse:\n",
      "    id: WAREHOUSE\n",
      "\n",
      "Successfully applied feature with id: taxi_ride.hour\n",
      "---\n",
      "id: taxi_ride.hour\n",
      "name: hour\n",
      "owner: user@website.com\n",
      "description: feature level description\n",
      "valueType: INT64\n",
      "entity: taxi_ride\n",
      "dataStores:\n",
      "  serving:\n",
      "    id: SERVING\n",
      "  warehouse:\n",
      "    id: WAREHOUSE\n",
      "\n",
      "Successfully applied feature with id: taxi_ride.day_of_week\n",
      "---\n",
      "id: taxi_ride.day_of_week\n",
      "name: day_of_week\n",
      "owner: user@website.com\n",
      "description: feature level description\n",
      "valueType: INT64\n",
      "entity: taxi_ride\n",
      "dataStores:\n",
      "  serving:\n",
      "    id: SERVING\n",
      "  warehouse:\n",
      "    id: WAREHOUSE\n",
      "\n",
      "Staging file to remote path gs://kubecon-19-gojek/staging/tmp_taxi_ride_1558589690709.csv\n",
      "Submitting job with spec:\n",
      " type: file.csv\n",
      "sourceOptions:\n",
      "  path: gs://kubecon-19-gojek/staging/tmp_taxi_ride_1558589690709.csv\n",
      "entities:\n",
      "- taxi_ride\n",
      "schema:\n",
      "  entityIdColumn: ride_id\n",
      "  fields:\n",
      "  - name: ride_id\n",
      "  - featureId: taxi_ride.fare_amount\n",
      "    name: fare_amount\n",
      "  - name: pickup_datetime\n",
      "  - featureId: taxi_ride.passenger_count\n",
      "    name: passenger_count\n",
      "  - featureId: taxi_ride.distance_haversine\n",
      "    name: distance_haversine\n",
      "  - featureId: taxi_ride.distance_dummy_manhattan\n",
      "    name: distance_dummy_manhattan\n",
      "  - featureId: taxi_ride.direction\n",
      "    name: direction\n",
      "  - featureId: taxi_ride.month\n",
      "    name: month\n",
      "  - featureId: taxi_ride.day_of_month\n",
      "    name: day_of_month\n",
      "  - featureId: taxi_ride.hour\n",
      "    name: hour\n",
      "  - featureId: taxi_ride.day_of_week\n",
      "    name: day_of_week\n",
      "  timestampColumn: pickup_datetime\n",
      "\n",
      "Submitted job with id: feastimport1558589692518\n"
     ]
    },
    {
     "data": {
      "text/plain": [
       "'feastimport1558589692518'"
      ]
     },
     "execution_count": 10,
     "metadata": {},
     "output_type": "execute_result"
    }
   ],
   "source": [
    "# Create importer\n",
    "importer = Importer.from_df(df, \n",
    "                           entity='taxi_ride', \n",
    "                           owner='user@website.com',  \n",
    "                           staging_location=fshelper.STAGING_LOCATION,\n",
    "                           id_column='ride_id', \n",
    "                           timestamp_column='pickup_datetime',\n",
    "                           serving_store=Datastore(id='SERVING'),\n",
    "                           warehouse_store=Datastore(id='WAREHOUSE'))\n",
    "\n",
    "# Update feature and entity metadata. Ideally you want to update these manually\n",
    "# so that they contain adequate information for the next user\n",
    "importer.entity.description = 'entity level description' \n",
    "for feature_id in importer.features:\n",
    "    importer.features[feature_id].description = 'feature level description'\n",
    "    \n",
    "# Ingest the feature data into the store\n",
    "fshelper.fs.run(importer, apply_features=True, apply_entity=True)"
   ]
  },
  {
   "cell_type": "markdown",
   "metadata": {},
   "source": [
    "## Define a Feature Set for this project"
   ]
  },
  {
   "cell_type": "code",
   "execution_count": 11,
   "metadata": {},
   "outputs": [],
   "source": [
    "# fairing:include-cell\n",
    "ENTITY_ID = 'taxi_ride'\n",
    "TRAINING_FEATURES_SET = [\n",
    "    'taxi_ride.passenger_count',\n",
    "    'taxi_ride.distance_haversine',\n",
    "    'taxi_ride.distance_dummy_manhattan',\n",
    "    'taxi_ride.direction',\n",
    "    'taxi_ride.month',\n",
    "    'taxi_ride.day_of_month',\n",
    "    'taxi_ride.day_of_week',\n",
    "    'taxi_ride.hour',\n",
    "    'taxi_ride.fare_amount'\n",
    "]"
   ]
  },
  {
   "cell_type": "code",
   "execution_count": 12,
   "metadata": {},
   "outputs": [],
   "source": [
    "feature_set = FeatureSet(entity=ENTITY_ID, \n",
    "                         features=TRAINING_FEATURES_SET)"
   ]
  },
  {
   "cell_type": "markdown",
   "metadata": {},
   "source": [
    "## Retrieve a Training Set from Feast"
   ]
  },
  {
   "cell_type": "code",
   "execution_count": 13,
   "metadata": {},
   "outputs": [
    {
     "name": "stdout",
     "output_type": "stream",
     "text": [
      "creating training dataset for features: ['taxi_ride.passenger_count', 'taxi_ride.distance_haversine', 'taxi_ride.distance_dummy_manhattan', 'taxi_ride.direction', 'taxi_ride.month', 'taxi_ride.day_of_month', 'taxi_ride.day_of_week', 'taxi_ride.hour', 'taxi_ride.fare_amount']\n",
      "created dataset taxi_ride_1558589707563_20090101_20160101: aliz-development.fs_taxi_ride.1558589707563_20090101_20160101\n"
     ]
    },
    {
     "data": {
      "text/html": [
       "<div>\n",
       "<style scoped>\n",
       "    .dataframe tbody tr th:only-of-type {\n",
       "        vertical-align: middle;\n",
       "    }\n",
       "\n",
       "    .dataframe tbody tr th {\n",
       "        vertical-align: top;\n",
       "    }\n",
       "\n",
       "    .dataframe thead th {\n",
       "        text-align: right;\n",
       "    }\n",
       "</style>\n",
       "<table border=\"1\" class=\"dataframe\">\n",
       "  <thead>\n",
       "    <tr style=\"text-align: right;\">\n",
       "      <th></th>\n",
       "      <th>id</th>\n",
       "      <th>event_timestamp</th>\n",
       "      <th>fare_amount</th>\n",
       "      <th>passenger_count</th>\n",
       "      <th>distance_haversine</th>\n",
       "      <th>distance_dummy_manhattan</th>\n",
       "      <th>direction</th>\n",
       "      <th>month</th>\n",
       "      <th>day_of_month</th>\n",
       "      <th>hour</th>\n",
       "      <th>day_of_week</th>\n",
       "    </tr>\n",
       "  </thead>\n",
       "  <tbody>\n",
       "    <tr>\n",
       "      <th>0</th>\n",
       "      <td>20090119_103800</td>\n",
       "      <td>2009-01-19 10:38:00 UTC</td>\n",
       "      <td>3.7</td>\n",
       "      <td>1</td>\n",
       "      <td>0.605668</td>\n",
       "      <td>0.823081</td>\n",
       "      <td>-151.064653</td>\n",
       "      <td>1</td>\n",
       "      <td>19</td>\n",
       "      <td>10</td>\n",
       "      <td>0</td>\n",
       "    </tr>\n",
       "    <tr>\n",
       "      <th>1</th>\n",
       "      <td>20090119_103800</td>\n",
       "      <td>2009-01-19 10:38:00 UTC</td>\n",
       "      <td>3.7</td>\n",
       "      <td>1</td>\n",
       "      <td>0.605668</td>\n",
       "      <td>0.823081</td>\n",
       "      <td>-151.064653</td>\n",
       "      <td>1</td>\n",
       "      <td>19</td>\n",
       "      <td>10</td>\n",
       "      <td>0</td>\n",
       "    </tr>\n",
       "    <tr>\n",
       "      <th>2</th>\n",
       "      <td>20090119_103800</td>\n",
       "      <td>2009-01-19 10:38:00 UTC</td>\n",
       "      <td>3.7</td>\n",
       "      <td>1</td>\n",
       "      <td>0.605668</td>\n",
       "      <td>0.823081</td>\n",
       "      <td>-151.064653</td>\n",
       "      <td>1</td>\n",
       "      <td>19</td>\n",
       "      <td>10</td>\n",
       "      <td>0</td>\n",
       "    </tr>\n",
       "    <tr>\n",
       "      <th>3</th>\n",
       "      <td>20090119_103800</td>\n",
       "      <td>2009-01-19 10:38:00 UTC</td>\n",
       "      <td>3.7</td>\n",
       "      <td>1</td>\n",
       "      <td>0.605668</td>\n",
       "      <td>0.823081</td>\n",
       "      <td>-151.064653</td>\n",
       "      <td>1</td>\n",
       "      <td>19</td>\n",
       "      <td>10</td>\n",
       "      <td>0</td>\n",
       "    </tr>\n",
       "    <tr>\n",
       "      <th>4</th>\n",
       "      <td>20090119_103800</td>\n",
       "      <td>2009-01-19 10:38:00 UTC</td>\n",
       "      <td>3.7</td>\n",
       "      <td>1</td>\n",
       "      <td>0.605668</td>\n",
       "      <td>0.823081</td>\n",
       "      <td>-151.064653</td>\n",
       "      <td>1</td>\n",
       "      <td>19</td>\n",
       "      <td>10</td>\n",
       "      <td>0</td>\n",
       "    </tr>\n",
       "  </tbody>\n",
       "</table>\n",
       "</div>"
      ],
      "text/plain": [
       "                id          event_timestamp  fare_amount  passenger_count  \\\n",
       "0  20090119_103800  2009-01-19 10:38:00 UTC          3.7                1   \n",
       "1  20090119_103800  2009-01-19 10:38:00 UTC          3.7                1   \n",
       "2  20090119_103800  2009-01-19 10:38:00 UTC          3.7                1   \n",
       "3  20090119_103800  2009-01-19 10:38:00 UTC          3.7                1   \n",
       "4  20090119_103800  2009-01-19 10:38:00 UTC          3.7                1   \n",
       "\n",
       "   distance_haversine  distance_dummy_manhattan   direction  month  \\\n",
       "0            0.605668                  0.823081 -151.064653      1   \n",
       "1            0.605668                  0.823081 -151.064653      1   \n",
       "2            0.605668                  0.823081 -151.064653      1   \n",
       "3            0.605668                  0.823081 -151.064653      1   \n",
       "4            0.605668                  0.823081 -151.064653      1   \n",
       "\n",
       "   day_of_month  hour  day_of_week  \n",
       "0            19    10            0  \n",
       "1            19    10            0  \n",
       "2            19    10            0  \n",
       "3            19    10            0  \n",
       "4            19    10            0  "
      ]
     },
     "execution_count": 13,
     "metadata": {},
     "output_type": "execute_result"
    }
   ],
   "source": [
    "# Retrieve feature data for training from Feast\n",
    "dataset = fshelper.fs.create_dataset(feature_set, \"2009-01-01\", \"2016-01-01\")\n",
    "training_df =  fshelper.fs.download_dataset_to_df(dataset, fshelper.STAGING_LOCATION)\n",
    "\n",
    "training_df.head()"
   ]
  },
  {
   "cell_type": "markdown",
   "metadata": {},
   "source": [
    "## Visualize statistics with TFDV"
   ]
  },
  {
   "cell_type": "code",
   "execution_count": 14,
   "metadata": {},
   "outputs": [
    {
     "name": "stdout",
     "output_type": "stream",
     "text": [
      "creating training dataset for features: ['taxi_ride.passenger_count', 'taxi_ride.distance_haversine', 'taxi_ride.distance_dummy_manhattan', 'taxi_ride.direction', 'taxi_ride.month', 'taxi_ride.day_of_month', 'taxi_ride.day_of_week', 'taxi_ride.hour', 'taxi_ride.fare_amount']\n",
      "created dataset taxi_ride_1558589718119_20090101_20160101: aliz-development.fs_taxi_ride.1558589718119_20090101_20160101\n"
     ]
    },
    {
     "name": "stderr",
     "output_type": "stream",
     "text": [
      "INFO:root:Saving training stats to gs://kubecon-19-gojek/data/training_stats/190523_053518/training_stats.hdf5\n",
      "INFO:root:Saving proto to /tmp/training_stats.hdf5\n",
      "INFO:root:Uploading proto to gs://kubecon-19-gojek/data/training_stats/190523_053518/training_stats.hdf5\n",
      "INFO:root:Saved proto to gs://kubecon-19-gojek/data/training_stats/190523_053518/training_stats.hdf5\n"
     ]
    },
    {
     "data": {
      "text/html": [
       "<iframe id='facets-iframe' width=\"100%\" height=\"500px\"></iframe>\n",
       "        <script>\n",
       "        facets_iframe = document.getElementById('facets-iframe');\n",
       "        facets_html = '<link rel=\"import\" href=\"https://raw.githubusercontent.com/PAIR-code/facets/master/facets-dist/facets-jupyter.html\"><facets-overview proto-input=\"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\"></facets-overview>';\n",
       "        facets_iframe.contentWindow.document.write(facets_html);\n",
       "         facets_iframe.id = \"\";\n",
       "         setTimeout(() => {\n",
       "           facets_iframe.setAttribute('height', facets_iframe.contentWindow.document.body.offsetHeight + 'px')\n",
       "         }, 1500)\n",
       "         </script>"
      ],
      "text/plain": [
       "<IPython.core.display.HTML object>"
      ]
     },
     "metadata": {},
     "output_type": "display_data"
    }
   ],
   "source": [
    "now = datetime.datetime.now().strftime(\"%y%m%d_%H%M%S\")\n",
    "training_stats_path = \"gs://kubecon-19-gojek/data/training_stats/{0}/training_stats.hdf5\".format(now)\n",
    "\n",
    "training_stats = fshelper.compute_training_stats(training_stats_path)\n",
    "tfdv.visualize_statistics(training_stats)"
   ]
  },
  {
   "cell_type": "markdown",
   "metadata": {},
   "source": [
    "## Train Linear Model"
   ]
  },
  {
   "cell_type": "code",
   "execution_count": 15,
   "metadata": {},
   "outputs": [],
   "source": [
    "# fairing:include-cell\n",
    "class TaxiRideModel(TaxiFeast):\n",
    "  \"\"\"Model class.\"\"\"\n",
    "  SERVING_FEATURE_SET = [\n",
    "        'taxi_ride.passenger_count',\n",
    "        'taxi_ride.distance_haversine',\n",
    "        'taxi_ride.distance_dummy_manhattan',\n",
    "        'taxi_ride.direction',\n",
    "        'taxi_ride.month',\n",
    "        'taxi_ride.day_of_month',\n",
    "        'taxi_ride.day_of_week',\n",
    "        'taxi_ride.hour']\n",
    "\n",
    "  def __init__(self):\n",
    "    super(TaxiRideModel, self).__init__()\n",
    "    self.m = None\n",
    "    self.b = None\n",
    "    self.serving_fs = None\n",
    "\n",
    "    logging.basicConfig(level=logging.INFO,\n",
    "        format=('%(levelname)s|%(asctime)s'\n",
    "                '|%(pathname)s|%(lineno)d| %(message)s'),\n",
    "        datefmt='%Y-%m-%dT%H:%M:%S',\n",
    "        )\n",
    "    logging.getLogger().setLevel(logging.INFO)\n",
    "\n",
    "  # Train model \n",
    "  def train(self, training_df, model_path):\n",
    "    np.set_printoptions(precision=3)\n",
    "    train_data = training_df[[x.split('.')[1] for x in TRAINING_FEATURES_SET]].to_numpy()\n",
    "    train_data[:, len(train_data[0]) - 1] = 1\n",
    "    Y = training_df['fare_amount'].to_numpy()\n",
    "\n",
    "    x = np.linalg.lstsq(train_data, Y, rcond=0)[0]\n",
    "    m, b = x[:len(train_data[0])-1], x[len(train_data[0])-1]\n",
    "\n",
    "    self.m = m\n",
    "    self.b = b\n",
    "    \n",
    "    self.save_model(model_path)\n",
    "    \n",
    "    return m,b\n",
    "\n",
    "  def train_on_time_range(self, start_day, end_day, model_path):\n",
    "    dataset = self.fs.create_dataset(self.train_feature_set, start_day, end_day)\n",
    "    training_df =  self.fs.download_dataset_to_df(dataset, self.STAGING_LOCATION)\n",
    "    return self.train(training_df, model_path)\n",
    "    \n",
    "  def predict(self, feature_id, feature_names):\n",
    "    logging.info('feature_id = %s', feature_id)\n",
    "    logging.info('feature_names = %s', feature_names)\n",
    "    if any([i is None for i in [self.m, self.b, self.fs, self.serving_fs]]):      \n",
    "      with open('simple_model.dat', 'r') as f:\n",
    "        model = json.load(f)\n",
    "        self.m = np.array(model.get('m', []))\n",
    "        self.b = float(model.get('b', 0))\n",
    "\n",
    "        _FEAST_CORE_URL = model['FEAST_CORE_URL']\n",
    "        _FEAST_SERVING_URL = model['FEAST_SERVING_URL']\n",
    "        _ENTITY_ID = model['ENTITY_ID']\n",
    "\n",
    "        logging.info('FEAST_CORE_URL: %s', _FEAST_CORE_URL)\n",
    "        logging.info('FEAST_SERVING_URL: %s', _FEAST_SERVING_URL)\n",
    "        logging.info('ENTITY_ID: %s', _ENTITY_ID)\n",
    "        logging.info('FEATURES_SET: %s', self.SERVING_FEATURE_SET)\n",
    "\n",
    "        self.serving_fs = FeatureSet(\n",
    "            entity=_ENTITY_ID,\n",
    "            features=self.SERVING_FEATURE_SET)\n",
    "\n",
    "    features = self.fs.get_serving_data(\n",
    "        self.serving_fs,\n",
    "        entity_keys=[feature_id])\n",
    "    X = features.to_numpy()[0][1:]\n",
    "    logging.info('X: %s', str(X))\n",
    "\n",
    "    return [sum(self.m * X) + self.b]\n",
    "\n",
    "  def save_model(self, model_path):\n",
    "    \"\"\"Save the model to a json file.\"\"\"\n",
    "    MODEL_FILE = 'simple_model.dat'\n",
    "\n",
    "    model = {\n",
    "        'm': self.m.tolist(),\n",
    "        'b': self.b,\n",
    "        'FEAST_CORE_URL': self.FEAST_CORE_URL,\n",
    "        'FEAST_SERVING_URL': self.FEAST_SERVING_URL,\n",
    "        'ENTITY_ID': ENTITY_ID,\n",
    "    }\n",
    "    \n",
    "    logging.info('Saving model to %s', model_path)\n",
    "\n",
    "    demo_util.save_as_json(model, model_path)\n",
    "  \n",
    "  def preprocess(self):\n",
    "    pass\n",
    "\n",
    "  def validate(self):\n",
    "    pass\n",
    "\n"
   ]
  },
  {
   "cell_type": "markdown",
   "metadata": {},
   "source": [
    "## Train Locally"
   ]
  },
  {
   "cell_type": "code",
   "execution_count": 30,
   "metadata": {},
   "outputs": [
    {
     "name": "stderr",
     "output_type": "stream",
     "text": [
      "INFO:root:Saving model to gs://kubecon-19-gojek/models/linear_model/190523_075439/model.json\n",
      "INFO:root:Saving data to: /tmp/model.json\n",
      "INFO:root:Uploading data to gs://kubecon-19-gojek/models/linear_model/190523_075439/model.json\n"
     ]
    },
    {
     "name": "stdout",
     "output_type": "stream",
     "text": [
      "[ 1.764e-01  1.292e+01 -8.776e+00  4.971e-03  8.376e-02 -3.989e-03\n",
      "  1.175e-01 -5.744e-03] 5.57130154307549\n"
     ]
    }
   ],
   "source": [
    "now = datetime.datetime.now().strftime(\"%y%m%d_%H%M%S\")\n",
    "model_path = 'gs://kubecon-19-gojek/models/linear_model/{0}/model.json'.format(now)\n",
    "\n",
    "model = TaxiRideModel()\n",
    "m, b = model.train(training_df, model_path)\n",
    "print(m, b)"
   ]
  },
  {
   "cell_type": "markdown",
   "metadata": {},
   "source": [
    "## Local Prediction"
   ]
  },
  {
   "cell_type": "code",
   "execution_count": 31,
   "metadata": {},
   "outputs": [
    {
     "name": "stderr",
     "output_type": "stream",
     "text": [
      "INFO:root:feature_id = 20090202_084343\n",
      "INFO:root:feature_names = None\n",
      "INFO:root:FEAST_CORE_URL: 10.148.0.99:6565\n",
      "INFO:root:FEAST_SERVING_URL: 10.148.0.100:6566\n",
      "INFO:root:ENTITY_ID: taxi_ride\n",
      "INFO:root:FEATURES_SET: ['taxi_ride.passenger_count', 'taxi_ride.distance_haversine', 'taxi_ride.distance_dummy_manhattan', 'taxi_ride.direction', 'taxi_ride.month', 'taxi_ride.day_of_month', 'taxi_ride.day_of_week', 'taxi_ride.hour']\n",
      "INFO:root:X: [1 8.677072903409417 10.460815704762517 13.462847407418641 2 2 0 8]\n"
     ]
    },
    {
     "data": {
      "text/plain": [
       "[26.20793146551558]"
      ]
     },
     "execution_count": 31,
     "metadata": {},
     "output_type": "execute_result"
    }
   ],
   "source": [
    "model.predict('20090202_084343', None)\n"
   ]
  },
  {
   "cell_type": "markdown",
   "metadata": {},
   "source": [
    "## Train and Deploy on Kubernetes"
   ]
  },
  {
   "cell_type": "markdown",
   "metadata": {},
   "source": [
    "### Use fairing to build the docker image\n",
    "\n",
    "* This uses the append builder to rapidly build docker images"
   ]
  },
  {
   "cell_type": "code",
   "execution_count": 18,
   "metadata": {},
   "outputs": [],
   "source": [
    "GCP_PROJECT = fairing.cloud.gcp.guess_project_name()\n",
    "DOCKER_REGISTRY = 'gcr.io/{}/fairing-job'.format(GCP_PROJECT)\n",
    "base_image = \"gcr.io/aliz-development/kubecon-demo/notebook:v20190521-2a6d5e9-dirty-20b776\""
   ]
  },
  {
   "cell_type": "code",
   "execution_count": 36,
   "metadata": {
    "scrolled": true
   },
   "outputs": [
    {
     "name": "stderr",
     "output_type": "stream",
     "text": [
      "WARNING:fairing.builders.append.append:Building image...\n",
      "INFO:root:Creating docker context: /tmp/fairing.context.tar.gz\n",
      "INFO:root:Adding files to context: [PosixPath('feast-taxi-job.py'), 'simple_model.dat', 'demo_util.py']\n",
      "INFO:root:Context: /tmp/fairing.context.tar.gz, Adding /home/jovyan/LinearModel/fairing/fairing/__init__.py at /app/fairing/__init__.py\n",
      "INFO:root:Context: /tmp/fairing.context.tar.gz, Adding /home/jovyan/LinearModel/fairing/fairing/runtime_config.py at /app/fairing/runtime_config.py\n",
      "INFO:root:Context: /tmp/fairing.context.tar.gz, Adding feast-taxi-job.py at /app/feast-taxi-job.py\n",
      "INFO:root:Context: /tmp/fairing.context.tar.gz, Adding simple_model.dat at /app/simple_model.dat\n",
      "INFO:root:Context: /tmp/fairing.context.tar.gz, Adding demo_util.py at /app/demo_util.py\n",
      "INFO:root:Loading Docker credentials for repository 'gcr.io/aliz-development/kubecon-demo/notebook:v20190521-2a6d5e9-dirty-20b776'\n",
      "INFO:root:Invoking 'docker-credential-gcloud' to obtain Docker credentials.\n",
      "INFO:root:Successfully obtained Docker credentials.\n",
      "WARNING:fairing.builders.append.append:Image successfully built in 2.384853712981567s.\n",
      "WARNING:fairing.builders.append.append:Pushing image gcr.io/aliz-development/fairing-job/fairing-job:4D2CFD85...\n",
      "INFO:root:Loading Docker credentials for repository 'gcr.io/aliz-development/fairing-job/fairing-job:4D2CFD85'\n",
      "INFO:root:Invoking 'docker-credential-gcloud' to obtain Docker credentials.\n",
      "INFO:root:Successfully obtained Docker credentials.\n",
      "WARNING:fairing.builders.append.append:Uploading gcr.io/aliz-development/fairing-job/fairing-job:4D2CFD85\n",
      "INFO:root:Tag points to the right manifest, skipping push.\n",
      "INFO:root:Finished upload of: gcr.io/aliz-development/fairing-job/fairing-job:4D2CFD85\n",
      "WARNING:fairing.builders.append.append:Pushed image gcr.io/aliz-development/fairing-job/fairing-job:4D2CFD85 in 2.0844060900853947s.\n"
     ]
    }
   ],
   "source": [
    "from fairing.builders import append\n",
    "import fairing_util\n",
    "preprocessor = fairing_util.ConvertNotebookPreprocessorWithFire(\"TaxiRideModel\")\n",
    "\n",
    "if not preprocessor.input_files:\n",
    "    preprocessor.input_files = set()\n",
    "\n",
    "# Bake the model into the container    \n",
    "input_files=[\"simple_model.dat\", \"demo_util.py\"]\n",
    "preprocessor.input_files =  set([os.path.normpath(f) for f in input_files])\n",
    "preprocessor.preprocess()\n",
    "builder = append.append.AppendBuilder(registry=DOCKER_REGISTRY,\n",
    "                                      base_image=base_image, preprocessor=preprocessor)\n",
    "builder.build()\n"
   ]
  },
  {
   "cell_type": "markdown",
   "metadata": {},
   "source": [
    "### Launch a K8s job to compute the stats"
   ]
  },
  {
   "cell_type": "code",
   "execution_count": 37,
   "metadata": {},
   "outputs": [
    {
     "name": "stderr",
     "output_type": "stream",
     "text": [
      "WARNING:fairing.deployers.job.job:Training job fairing-job-brm9x launched.\n",
      "WARNING:fairing.kubernetes.manager:Waiting for fairing-job-brm9x-hdqr6 to start...\n",
      "WARNING:fairing.kubernetes.manager:Waiting for fairing-job-brm9x-hdqr6 to start...\n",
      "WARNING:fairing.kubernetes.manager:Waiting for fairing-job-brm9x-hdqr6 to start...\n",
      "INFO:fairing.kubernetes.manager:Pod started running True\n"
     ]
    },
    {
     "name": "stdout",
     "output_type": "stream",
     "text": [
      "/opt/conda/lib/python3.6/site-packages/apache_beam/__init__.py:84: UserWarning: Running the Apache Beam SDK on Python 3 is not yet fully supported. You may encounter buggy behavior or missing features.\n",
      "  'Running the Apache Beam SDK on Python 3 is not yet fully supported. '\n",
      "Saving model to gs://kubecon-19-gojek/model/190523_081748/model.json\n",
      "Saving data to: /tmp/model.json\n",
      "Uploading data to gs://kubecon-19-gojek/model/190523_081748/model.json\n",
      "creating training dataset for features: ['taxi_ride.passenger_count', 'taxi_ride.distance_haversine', 'taxi_ride.distance_dummy_manhattan', 'taxi_ride.direction', 'taxi_ride.month', 'taxi_ride.day_of_month', 'taxi_ride.day_of_week', 'taxi_ride.hour', 'taxi_ride.fare_amount']\n",
      "created dataset taxi_ride_1558599475091_20090101_20160101: aliz-development.fs_taxi_ride.1558599475091_20090101_20160101\n",
      "(array([ 1.764e-01,  1.292e+01, -8.776e+00,  4.971e-03,  8.376e-02,        -3.989e-03,  1.175e-01, -5.744e-03]), 5.5713015430754265)\n"
     ]
    }
   ],
   "source": [
    "now = datetime.datetime.now().strftime(\"%y%m%d_%H%M%S\")\n",
    "training_model_path = 'gs://kubecon-19-gojek/model/{0}/model.json'.format(now)\n",
    "pod_spec = builder.generate_pod_spec()\n",
    "train_deployer = job.job.Job(namespace=\"kubeflow\", \n",
    "                             cleanup=False,\n",
    "                             pod_spec_mutators=[\n",
    "                             fairing.cloud.gcp.add_gcp_credentials_if_exists,])\n",
    "\n",
    "# Add command line arguments\n",
    "pod_spec.containers[0].command.extend([\"train-on-time-range\", \"2009-01-01\", \"2016-01-01\", training_model_path])\n",
    "result = train_deployer.deploy(pod_spec)"
   ]
  },
  {
   "cell_type": "code",
   "execution_count": 21,
   "metadata": {},
   "outputs": [
    {
     "name": "stdout",
     "output_type": "stream",
     "text": [
      "apiVersion: v1\r\n",
      "items:\r\n",
      "- apiVersion: batch/v1\r\n",
      "  kind: Job\r\n",
      "  metadata:\r\n",
      "    creationTimestamp: \"2019-05-23T05:35:42Z\"\r\n",
      "    generateName: fairing-job-\r\n",
      "    labels:\r\n",
      "      fairing-deployer: job\r\n",
      "      fairing-id: 9ac50782-7d1c-11e9-9848-a6a881dd7379\r\n",
      "    name: fairing-job-4xrgz\r\n",
      "    namespace: kubeflow\r\n",
      "    resourceVersion: \"3260172\"\r\n",
      "    selfLink: /apis/batch/v1/namespaces/kubeflow/jobs/fairing-job-4xrgz\r\n",
      "    uid: 9ace3618-7d1c-11e9-852c-42010a9400a1\r\n",
      "  spec:\r\n",
      "    backoffLimit: 6\r\n",
      "    completions: 1\r\n",
      "    parallelism: 1\r\n",
      "    selector:\r\n",
      "      matchLabels:\r\n",
      "        controller-uid: 9ace3618-7d1c-11e9-852c-42010a9400a1\r\n",
      "    template:\r\n",
      "      metadata:\r\n",
      "        creationTimestamp: null\r\n",
      "        labels:\r\n",
      "          controller-uid: 9ace3618-7d1c-11e9-852c-42010a9400a1\r\n",
      "          fairing-deployer: job\r\n",
      "          fairing-id: 9ac50782-7d1c-11e9-9848-a6a881dd7379\r\n",
      "          job-name: fairing-job-4xrgz\r\n",
      "        name: fairing-deployer\r\n",
      "      spec:\r\n",
      "        containers:\r\n",
      "        - command:\r\n",
      "          - python\r\n",
      "          - /app/feast-taxi-job.py\r\n",
      "          - train-on-time-range\r\n",
      "          - \"2009-01-01\"\r\n",
      "          - \"2016-01-01\"\r\n",
      "          - gs://kubecon-19-gojek/model/190523_053542/model.json\r\n",
      "          env:\r\n",
      "          - name: FAIRING_RUNTIME\r\n",
      "            value: \"1\"\r\n",
      "          - name: GOOGLE_APPLICATION_CREDENTIALS\r\n",
      "            value: /etc/secrets/user-gcp-sa.json\r\n",
      "          image: gcr.io/aliz-development/fairing-job/fairing-job:4D2CFD85\r\n",
      "          imagePullPolicy: IfNotPresent\r\n",
      "          name: model\r\n",
      "          resources: {}\r\n",
      "          securityContext:\r\n",
      "            runAsUser: 0\r\n",
      "          terminationMessagePath: /dev/termination-log\r\n",
      "          terminationMessagePolicy: File\r\n",
      "          volumeMounts:\r\n",
      "          - mountPath: /etc/secrets\r\n",
      "            name: user-gcp-sa\r\n",
      "            readOnly: true\r\n",
      "          workingDir: /app\r\n",
      "        dnsPolicy: ClusterFirst\r\n",
      "        restartPolicy: Never\r\n",
      "        schedulerName: default-scheduler\r\n",
      "        securityContext: {}\r\n",
      "        terminationGracePeriodSeconds: 30\r\n",
      "        volumes:\r\n",
      "        - name: user-gcp-sa\r\n",
      "          secret:\r\n",
      "            defaultMode: 420\r\n",
      "            secretName: user-gcp-sa\r\n",
      "  status:\r\n",
      "    completionTime: \"2019-05-23T05:36:05Z\"\r\n",
      "    conditions:\r\n",
      "    - lastProbeTime: \"2019-05-23T05:36:05Z\"\r\n",
      "      lastTransitionTime: \"2019-05-23T05:36:05Z\"\r\n",
      "      status: \"True\"\r\n",
      "      type: Complete\r\n",
      "    startTime: \"2019-05-23T05:35:42Z\"\r\n",
      "    succeeded: 1\r\n",
      "kind: List\r\n",
      "metadata:\r\n",
      "  resourceVersion: \"\"\r\n",
      "  selfLink: \"\"\r\n"
     ]
    }
   ],
   "source": [
    "!kubectl get jobs -l fairing-id={train_deployer.job_id} -o yaml"
   ]
  },
  {
   "cell_type": "markdown",
   "metadata": {},
   "source": [
    "## Deploy with Kubeflow"
   ]
  },
  {
   "cell_type": "code",
   "execution_count": 38,
   "metadata": {},
   "outputs": [
    {
     "name": "stderr",
     "output_type": "stream",
     "text": [
      "INFO:root:Cluster endpoint: http://fairing-service-822pw.kubeflow.svc.cluster.local\n",
      "INFO:root:Created deployment None\n"
     ]
    },
    {
     "name": "stdout",
     "output_type": "stream",
     "text": [
      "fairing-deployer-46pmk\n"
     ]
    }
   ],
   "source": [
    "from fairing.deployers import serving\n",
    "import fairing_util\n",
    "pod_spec = builder.generate_pod_spec()\n",
    "\n",
    "module_name = os.path.splitext(preprocessor.executable.name)[0]\n",
    "deployer = serving.serving.Serving(module_name + \".TaxiRideModel\",\n",
    "                                   service_type=\"ClusterIP\",\n",
    "                                   labels={\"app\": \"ames\"})\n",
    "\n",
    "url = deployer.deploy(pod_spec)\n",
    "\n",
    "logging.info(\"Created deployment %s\", print(deployer.deployment.metadata.name))"
   ]
  },
  {
   "cell_type": "code",
   "execution_count": 23,
   "metadata": {},
   "outputs": [
    {
     "name": "stdout",
     "output_type": "stream",
     "text": [
      "apiVersion: extensions/v1beta1\r\n",
      "kind: Deployment\r\n",
      "metadata:\r\n",
      "  annotations:\r\n",
      "    deployment.kubernetes.io/revision: \"1\"\r\n",
      "  creationTimestamp: \"2019-05-23T05:36:11Z\"\r\n",
      "  generateName: fairing-deployer-\r\n",
      "  generation: 1\r\n",
      "  labels:\r\n",
      "    app: ames\r\n",
      "    fairing-deployer: serving\r\n",
      "    fairing-id: ac541240-7d1c-11e9-9848-a6a881dd7379\r\n",
      "  name: fairing-deployer-qg4m5\r\n",
      "  namespace: kubeflow\r\n",
      "  resourceVersion: \"3260213\"\r\n",
      "  selfLink: /apis/extensions/v1beta1/namespaces/kubeflow/deployments/fairing-deployer-qg4m5\r\n",
      "  uid: ac56f775-7d1c-11e9-852c-42010a9400a1\r\n",
      "spec:\r\n",
      "  progressDeadlineSeconds: 600\r\n",
      "  replicas: 1\r\n",
      "  revisionHistoryLimit: 10\r\n",
      "  selector:\r\n",
      "    matchLabels:\r\n",
      "      app: ames\r\n",
      "      fairing-deployer: serving\r\n",
      "      fairing-id: ac541240-7d1c-11e9-9848-a6a881dd7379\r\n",
      "  strategy:\r\n",
      "    rollingUpdate:\r\n",
      "      maxSurge: 25%\r\n",
      "      maxUnavailable: 25%\r\n",
      "    type: RollingUpdate\r\n",
      "  template:\r\n",
      "    metadata:\r\n",
      "      creationTimestamp: null\r\n",
      "      labels:\r\n",
      "        app: ames\r\n",
      "        fairing-deployer: serving\r\n",
      "        fairing-id: ac541240-7d1c-11e9-9848-a6a881dd7379\r\n",
      "      name: fairing-deployer\r\n",
      "    spec:\r\n",
      "      containers:\r\n",
      "      - command:\r\n",
      "        - seldon-core-microservice\r\n",
      "        - feast-taxi-job.TaxiRideModel\r\n",
      "        - REST\r\n",
      "        - --service-type=MODEL\r\n",
      "        - --persistence=0\r\n",
      "        env:\r\n",
      "        - name: FAIRING_RUNTIME\r\n",
      "          value: \"1\"\r\n",
      "        image: gcr.io/aliz-development/fairing-job/fairing-job:4D2CFD85\r\n",
      "        imagePullPolicy: IfNotPresent\r\n",
      "        name: model\r\n",
      "        resources: {}\r\n",
      "        securityContext:\r\n",
      "          runAsUser: 0\r\n",
      "        terminationMessagePath: /dev/termination-log\r\n",
      "        terminationMessagePolicy: File\r\n",
      "        workingDir: /app\r\n",
      "      dnsPolicy: ClusterFirst\r\n",
      "      restartPolicy: Always\r\n",
      "      schedulerName: default-scheduler\r\n",
      "      securityContext: {}\r\n",
      "      terminationGracePeriodSeconds: 30\r\n",
      "status:\r\n",
      "  conditions:\r\n",
      "  - lastTransitionTime: \"2019-05-23T05:36:11Z\"\r\n",
      "    lastUpdateTime: \"2019-05-23T05:36:11Z\"\r\n",
      "    message: Deployment does not have minimum availability.\r\n",
      "    reason: MinimumReplicasUnavailable\r\n",
      "    status: \"False\"\r\n",
      "    type: Available\r\n",
      "  - lastTransitionTime: \"2019-05-23T05:36:11Z\"\r\n",
      "    lastUpdateTime: \"2019-05-23T05:36:11Z\"\r\n",
      "    message: ReplicaSet \"fairing-deployer-qg4m5-6c464cd7cf\" is progressing.\r\n",
      "    reason: ReplicaSetUpdated\r\n",
      "    status: \"True\"\r\n",
      "    type: Progressing\r\n",
      "  observedGeneration: 1\r\n",
      "  replicas: 1\r\n",
      "  unavailableReplicas: 1\r\n",
      "  updatedReplicas: 1\r\n"
     ]
    }
   ],
   "source": [
    "!kubectl get deploy -o yaml {deployer.deployment.metadata.name}"
   ]
  },
  {
   "cell_type": "markdown",
   "metadata": {},
   "source": [
    "## Call the prediction endpoint"
   ]
  },
  {
   "cell_type": "code",
   "execution_count": 24,
   "metadata": {},
   "outputs": [],
   "source": [
    "@retry(wait_exponential_multiplier=1000, wait_exponential_max=5000,\n",
    "       stop_max_delay=2*60*1000)\n",
    "def predict(url, id):\n",
    "    pdata={\n",
    "        'strData': id,\n",
    "    }\n",
    "    serialized_data = json.dumps(pdata)\n",
    "    r = requests.post(url, data={'json':serialized_data}, timeout=5)\n",
    "    return r"
   ]
  },
  {
   "cell_type": "code",
   "execution_count": 25,
   "metadata": {
    "scrolled": true
   },
   "outputs": [
    {
     "name": "stderr",
     "output_type": "stream",
     "text": [
      "INFO:root:Response: b'{\"data\":{\"tensor\":{\"shape\":[1],\"values\":[26.20793146551558]}},\"meta\":{}}\\n'\n"
     ]
    }
   ],
   "source": [
    "full_url = url + \":5000/predict\"\n",
    "r = predict(full_url, '20090202_084343')\n",
    "if r.ok:\n",
    "    logging.info(\"Response: %s\", r.content)\n",
    "else:\n",
    "    logging.error(\"Prediction failed; %s\", r.content)"
   ]
  },
  {
   "cell_type": "markdown",
   "metadata": {},
   "source": [
    "## Pipelines"
   ]
  },
  {
   "cell_type": "code",
   "execution_count": 35,
   "metadata": {},
   "outputs": [
    {
     "data": {
      "text/html": [
       "Experiment link <a href=\"/pipeline/#/experiments/details/e3d17242-1f95-4006-a69e-f66414e592cb\" target=\"_blank\" >here</a>"
      ],
      "text/plain": [
       "<IPython.core.display.HTML object>"
      ]
     },
     "metadata": {},
     "output_type": "display_data"
    },
    {
     "data": {
      "text/html": [
       "Run link <a href=\"/pipeline/#/runs/details/7fff31ea-7d30-11e9-852c-42010a9400a1\" target=\"_blank\" >here</a>"
      ],
      "text/plain": [
       "<IPython.core.display.HTML object>"
      ]
     },
     "metadata": {},
     "output_type": "display_data"
    }
   ],
   "source": [
    "CICD_EXPERIMENT_NAME = 'Taxi Cab CICD'\n",
    "@dsl.pipeline(\n",
    "   name='Taxi CICD pipeline',\n",
    "   description='A pipeline that trains a linear model for Taxi cab dataset.'\n",
    ")\n",
    "def cicd_pipeline(\n",
    "   model_path = 'gs://kubecon-19-gojek/models/linear_model/model.json',\n",
    "):  \n",
    "    command=[\"python\", preprocessor.executable.name, \"preprocess\"]\n",
    "    preprocess = dsl.ContainerOp(\n",
    "            name=\"preprocess\", \n",
    "            image=builder.image_tag,        \n",
    "            command=command,\n",
    "            ).apply(\n",
    "                gcp.use_gcp_secret('user-gcp-sa'),\n",
    "            )\n",
    "    preprocess.container.working_dir = \"/app\"    \n",
    "    \n",
    "    command=[\"python\", preprocessor.executable.name, \"train-on-time-range\", \"2009-01-01\", \"2016-01-01\", model_path]\n",
    "    train_op = dsl.ContainerOp(\n",
    "            name=\"train\", \n",
    "            image=builder.image_tag,        \n",
    "            command=command,\n",
    "            ).apply(\n",
    "                gcp.use_gcp_secret('user-gcp-sa'),\n",
    "            )\n",
    "    train_op.container.working_dir = \"/app\"    \n",
    "\n",
    "    train_op.after(preprocess)\n",
    "    \n",
    "    command=[\"python\", preprocessor.executable.name, \"validate\"]\n",
    "    validate = dsl.ContainerOp(\n",
    "            name=\"validate\",\n",
    "            image=builder.image_tag,        \n",
    "            command=command,\n",
    "            ).apply(\n",
    "                gcp.use_gcp_secret('user-gcp-sa'),\n",
    "            )\n",
    "    validate.container.working_dir = \"/app\"    \n",
    "    \n",
    "    validate.after(train_op)\n",
    "    \n",
    "pipeline_func = cicd_pipeline\n",
    "pipeline_filename = pipeline_func.__name__ + '.pipeline.zip'\n",
    "compiler.Compiler().compile(pipeline_func, pipeline_filename)\n",
    "\n",
    "import datetime\n",
    "gcs_model_file = 'gs://kubecon-19-gojek/models/' + datetime.datetime.now().strftime(\"%y%m%d_%H%M%S\") + 'linear_model/model.json'\n",
    "\n",
    "#Specify pipeline argument values\n",
    "arguments = {\"model_path\": gcs_model_file}\n",
    "\n",
    "# Get or create an experiment and submit a pipeline run\n",
    "client = kfp.Client()\n",
    "experiment = client.create_experiment(CICD_EXPERIMENT_NAME)\n",
    "\n",
    "#Submit a pipeline run\n",
    "run_name = pipeline_func.__name__ + ' run'\n",
    "run_result = client.run_pipeline(experiment.id, run_name, pipeline_filename, arguments)\n"
   ]
  }
 ],
 "metadata": {
  "kernelspec": {
   "display_name": "Python 3",
   "language": "python",
   "name": "python3"
  },
  "language_info": {
   "codemirror_mode": {
    "name": "ipython",
    "version": 3
   },
   "file_extension": ".py",
   "mimetype": "text/x-python",
   "name": "python",
   "nbconvert_exporter": "python",
   "pygments_lexer": "ipython3",
   "version": "3.6.7"
  }
 },
 "nbformat": 4,
 "nbformat_minor": 2
}
