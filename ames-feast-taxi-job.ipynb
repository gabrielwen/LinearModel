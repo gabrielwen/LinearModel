{
 "cells": [
  {
   "cell_type": "markdown",
   "metadata": {},
   "source": [
    "## Taxi Ride Fare Prediction Using Kubeflow, Feast, and TFX\n",
    "\n",
    "* Predict taxi ride fares using Feast and Kubeflow"
   ]
  },
  {
   "cell_type": "markdown",
   "metadata": {},
   "source": [
    "Setup the notebook\n",
    "- Install `feast` with pip.\n",
    "- Activate user service account with credentials JSON.\n",
    "- Hacks to retrieve essential information for deployments and serving.\n",
    "\n",
    "**NOTE**: This code block might hangs for a long time."
   ]
  },
  {
   "cell_type": "code",
   "execution_count": 1,
   "metadata": {},
   "outputs": [],
   "source": [
    "import demo_util\n",
    "demo_util.notebook_setup()"
   ]
  },
  {
   "cell_type": "code",
   "execution_count": 2,
   "metadata": {},
   "outputs": [],
   "source": [
    "import importlib\n",
    "importlib.reload(demo_util)\n",
    "working_dir = \"/home/jovyan/LinearModel\""
   ]
  },
  {
   "cell_type": "code",
   "execution_count": 3,
   "metadata": {},
   "outputs": [
    {
     "name": "stdout",
     "output_type": "stream",
     "text": [
      "PROJECT = aliz-development\n",
      "APP_NAME = kubeflow-asia\n",
      "ZONE = asia-southeast1-a\n"
     ]
    }
   ],
   "source": [
    "PROJECT, ZONE, APP_NAME = demo_util.get_project_config()\n",
    "print('PROJECT =', PROJECT)\n",
    "print('APP_NAME =', APP_NAME)\n",
    "print('ZONE =', ZONE)"
   ]
  },
  {
   "cell_type": "code",
   "execution_count": 4,
   "metadata": {},
   "outputs": [
    {
     "name": "stderr",
     "output_type": "stream",
     "text": [
      "/opt/conda/lib/python3.6/site-packages/apache_beam/__init__.py:84: UserWarning: Running the Apache Beam SDK on Python 3 is not yet fully supported. You may encounter buggy behavior or missing features.\n",
      "  'Running the Apache Beam SDK on Python 3 is not yet fully supported. '\n"
     ]
    }
   ],
   "source": [
    "# fairing:include-cell\n",
    "from google.cloud import storage\n",
    "import datetime\n",
    "import demo_util\n",
    "import kfp\n",
    "import kfp.components as comp\n",
    "import kfp.gcp as gcp\n",
    "import kfp.dsl as dsl\n",
    "import kfp.compiler as compiler\n",
    "import sys\n",
    "import importlib\n",
    "import uuid\n",
    "import logging\n",
    "import os\n",
    "import json\n",
    "import requests\n",
    "import pandas as pd\n",
    "import numpy as np\n",
    "from retrying import retry\n",
    "from feast.sdk.resources.entity import Entity\n",
    "from feast.sdk.resources.storage import Storage\n",
    "from feast.sdk.resources.feature import Feature, Datastore, ValueType\n",
    "from feast.sdk.resources.feature_set import FeatureSet, FileType\n",
    "import feast.specs.FeatureSpec_pb2 as feature_pb\n",
    "\n",
    "from feast.sdk.importer import Importer\n",
    "from feast.sdk.client import Client\n",
    "import tensorflow as tf\n",
    "import tensorflow_data_validation as tfdv"
   ]
  },
  {
   "cell_type": "code",
   "execution_count": 5,
   "metadata": {},
   "outputs": [],
   "source": [
    "# Keep this imports separate because we don't want to import in the container built by fairing\n",
    "import fairing\n",
    "from fairing.deployers import job"
   ]
  },
  {
   "cell_type": "code",
   "execution_count": 6,
   "metadata": {},
   "outputs": [],
   "source": [
    "# fairing:include-cell\n",
    "class TaxiFeast(object):\n",
    "    \"\"\"Taxi code.\"\"\"\n",
    "    # Connect to the Feast deployment\n",
    "    FEAST_CORE_URL = '10.148.0.99:6565'\n",
    "    FEAST_SERVING_URL = '10.148.0.100:6566'\n",
    "    STAGING_LOCATION = 'gs://kubecon-19-gojek/staging'\n",
    "    \n",
    "    STATS_KEY = \"training_stats\"\n",
    "\n",
    "    def __init__(self):\n",
    "        self._fs = None\n",
    "        self._train_feature_set = None\n",
    "    @property\n",
    "    def fs(self):\n",
    "        if not self._fs:\n",
    "            self._fs = Client(core_url=self.FEAST_CORE_URL,serving_url=self.FEAST_SERVING_URL, verbose=True)\n",
    "        return self._fs\n",
    "    \n",
    "    def compute_training_stats(self, stats_path=None):\n",
    "        \"\"\"compute training stats.\"\"\"\n",
    "        dataset = self.fs.create_dataset(self.train_feature_set, \"2009-01-01\", \"2016-01-01\")\n",
    "        training_df = self.fs.download_dataset_to_df(dataset, self.STAGING_LOCATION)\n",
    "        training_stats = tfdv.generate_statistics_from_dataframe(training_df)\n",
    "        \n",
    "        if stats_path:\n",
    "            logging.info(\"Saving training stats to %s\", stats_path)\n",
    "            demo_util.save_proto(training_stats, stats_path)\n",
    "        else:\n",
    "            logging.info(\"No stats_path provided; not saving stats\")\n",
    "        return training_stats\n",
    "    \n",
    "    @property\n",
    "    def train_feature_set(self):\n",
    "        if not self._train_feature_set:\n",
    "            self._train_feature_set = FeatureSet(entity=ENTITY_ID, \n",
    "                                                 features=TRAINING_FEATURES_SET)\n",
    "        return self._train_feature_set\n",
    "            "
   ]
  },
  {
   "cell_type": "code",
   "execution_count": 7,
   "metadata": {},
   "outputs": [],
   "source": [
    "fshelper = TaxiFeast()"
   ]
  },
  {
   "cell_type": "markdown",
   "metadata": {},
   "source": [
    "## Load raw data"
   ]
  },
  {
   "cell_type": "code",
   "execution_count": 8,
   "metadata": {},
   "outputs": [
    {
     "data": {
      "text/html": [
       "<div>\n",
       "<style scoped>\n",
       "    .dataframe tbody tr th:only-of-type {\n",
       "        vertical-align: middle;\n",
       "    }\n",
       "\n",
       "    .dataframe tbody tr th {\n",
       "        vertical-align: top;\n",
       "    }\n",
       "\n",
       "    .dataframe thead th {\n",
       "        text-align: right;\n",
       "    }\n",
       "</style>\n",
       "<table border=\"1\" class=\"dataframe\">\n",
       "  <thead>\n",
       "    <tr style=\"text-align: right;\">\n",
       "      <th></th>\n",
       "      <th>ride_id</th>\n",
       "      <th>fare_amount</th>\n",
       "      <th>pickup_datetime</th>\n",
       "      <th>pickup_longitude</th>\n",
       "      <th>pickup_latitude</th>\n",
       "      <th>dropoff_longitude</th>\n",
       "      <th>dropoff_latitude</th>\n",
       "      <th>passenger_count</th>\n",
       "    </tr>\n",
       "  </thead>\n",
       "  <tbody>\n",
       "    <tr>\n",
       "      <th>0</th>\n",
       "      <td>20090615_172621</td>\n",
       "      <td>4.5</td>\n",
       "      <td>2009-06-15T17:26:21Z</td>\n",
       "      <td>-73.844311</td>\n",
       "      <td>40.721319</td>\n",
       "      <td>-73.841610</td>\n",
       "      <td>40.712278</td>\n",
       "      <td>1</td>\n",
       "    </tr>\n",
       "    <tr>\n",
       "      <th>1</th>\n",
       "      <td>20100105_165216</td>\n",
       "      <td>16.9</td>\n",
       "      <td>2010-01-05T16:52:16Z</td>\n",
       "      <td>-74.016048</td>\n",
       "      <td>40.711303</td>\n",
       "      <td>-73.979268</td>\n",
       "      <td>40.782004</td>\n",
       "      <td>1</td>\n",
       "    </tr>\n",
       "    <tr>\n",
       "      <th>2</th>\n",
       "      <td>20110818_003500</td>\n",
       "      <td>5.7</td>\n",
       "      <td>2011-08-18T00:35:00Z</td>\n",
       "      <td>-73.982738</td>\n",
       "      <td>40.761270</td>\n",
       "      <td>-73.991242</td>\n",
       "      <td>40.750562</td>\n",
       "      <td>2</td>\n",
       "    </tr>\n",
       "    <tr>\n",
       "      <th>3</th>\n",
       "      <td>20120421_043042</td>\n",
       "      <td>7.7</td>\n",
       "      <td>2012-04-21T04:30:42Z</td>\n",
       "      <td>-73.987130</td>\n",
       "      <td>40.733143</td>\n",
       "      <td>-73.991567</td>\n",
       "      <td>40.758092</td>\n",
       "      <td>1</td>\n",
       "    </tr>\n",
       "    <tr>\n",
       "      <th>4</th>\n",
       "      <td>20100309_075100</td>\n",
       "      <td>5.3</td>\n",
       "      <td>2010-03-09T07:51:00Z</td>\n",
       "      <td>-73.968095</td>\n",
       "      <td>40.768008</td>\n",
       "      <td>-73.956655</td>\n",
       "      <td>40.783762</td>\n",
       "      <td>1</td>\n",
       "    </tr>\n",
       "  </tbody>\n",
       "</table>\n",
       "</div>"
      ],
      "text/plain": [
       "           ride_id  fare_amount       pickup_datetime  pickup_longitude  \\\n",
       "0  20090615_172621          4.5  2009-06-15T17:26:21Z        -73.844311   \n",
       "1  20100105_165216         16.9  2010-01-05T16:52:16Z        -74.016048   \n",
       "2  20110818_003500          5.7  2011-08-18T00:35:00Z        -73.982738   \n",
       "3  20120421_043042          7.7  2012-04-21T04:30:42Z        -73.987130   \n",
       "4  20100309_075100          5.3  2010-03-09T07:51:00Z        -73.968095   \n",
       "\n",
       "   pickup_latitude  dropoff_longitude  dropoff_latitude  passenger_count  \n",
       "0        40.721319         -73.841610         40.712278                1  \n",
       "1        40.711303         -73.979268         40.782004                1  \n",
       "2        40.761270         -73.991242         40.750562                2  \n",
       "3        40.733143         -73.991567         40.758092                1  \n",
       "4        40.768008         -73.956655         40.783762                1  "
      ]
     },
     "execution_count": 8,
     "metadata": {},
     "output_type": "execute_result"
    }
   ],
   "source": [
    "df = pd.read_csv('taxi_ride.csv', index_col=False)\n",
    "df.head()"
   ]
  },
  {
   "cell_type": "markdown",
   "metadata": {},
   "source": [
    "## Extract more features"
   ]
  },
  {
   "cell_type": "code",
   "execution_count": 9,
   "metadata": {},
   "outputs": [
    {
     "data": {
      "text/html": [
       "<div>\n",
       "<style scoped>\n",
       "    .dataframe tbody tr th:only-of-type {\n",
       "        vertical-align: middle;\n",
       "    }\n",
       "\n",
       "    .dataframe tbody tr th {\n",
       "        vertical-align: top;\n",
       "    }\n",
       "\n",
       "    .dataframe thead th {\n",
       "        text-align: right;\n",
       "    }\n",
       "</style>\n",
       "<table border=\"1\" class=\"dataframe\">\n",
       "  <thead>\n",
       "    <tr style=\"text-align: right;\">\n",
       "      <th></th>\n",
       "      <th>ride_id</th>\n",
       "      <th>fare_amount</th>\n",
       "      <th>pickup_datetime</th>\n",
       "      <th>passenger_count</th>\n",
       "      <th>distance_haversine</th>\n",
       "      <th>distance_dummy_manhattan</th>\n",
       "      <th>direction</th>\n",
       "      <th>month</th>\n",
       "      <th>day_of_month</th>\n",
       "      <th>hour</th>\n",
       "      <th>day_of_week</th>\n",
       "    </tr>\n",
       "  </thead>\n",
       "  <tbody>\n",
       "    <tr>\n",
       "      <th>0</th>\n",
       "      <td>20090615_172621</td>\n",
       "      <td>4.5</td>\n",
       "      <td>2009-06-15 17:26:21</td>\n",
       "      <td>1</td>\n",
       "      <td>1.030764</td>\n",
       "      <td>1.232937</td>\n",
       "      <td>167.240469</td>\n",
       "      <td>6</td>\n",
       "      <td>15</td>\n",
       "      <td>17</td>\n",
       "      <td>0</td>\n",
       "    </tr>\n",
       "    <tr>\n",
       "      <th>1</th>\n",
       "      <td>20100105_165216</td>\n",
       "      <td>16.9</td>\n",
       "      <td>2010-01-05 16:52:16</td>\n",
       "      <td>1</td>\n",
       "      <td>8.450134</td>\n",
       "      <td>10.961646</td>\n",
       "      <td>21.498365</td>\n",
       "      <td>1</td>\n",
       "      <td>5</td>\n",
       "      <td>16</td>\n",
       "      <td>1</td>\n",
       "    </tr>\n",
       "    <tr>\n",
       "      <th>2</th>\n",
       "      <td>20110818_003500</td>\n",
       "      <td>5.7</td>\n",
       "      <td>2011-08-18 00:35:00</td>\n",
       "      <td>2</td>\n",
       "      <td>1.389525</td>\n",
       "      <td>1.906909</td>\n",
       "      <td>-148.966789</td>\n",
       "      <td>8</td>\n",
       "      <td>18</td>\n",
       "      <td>0</td>\n",
       "      <td>3</td>\n",
       "    </tr>\n",
       "    <tr>\n",
       "      <th>3</th>\n",
       "      <td>20120421_043042</td>\n",
       "      <td>7.7</td>\n",
       "      <td>2012-04-21 04:30:42</td>\n",
       "      <td>1</td>\n",
       "      <td>2.799270</td>\n",
       "      <td>3.148058</td>\n",
       "      <td>-7.672164</td>\n",
       "      <td>4</td>\n",
       "      <td>21</td>\n",
       "      <td>4</td>\n",
       "      <td>5</td>\n",
       "    </tr>\n",
       "    <tr>\n",
       "      <th>4</th>\n",
       "      <td>20100309_075100</td>\n",
       "      <td>5.3</td>\n",
       "      <td>2010-03-09 07:51:00</td>\n",
       "      <td>1</td>\n",
       "      <td>1.999157</td>\n",
       "      <td>2.715180</td>\n",
       "      <td>28.802783</td>\n",
       "      <td>3</td>\n",
       "      <td>9</td>\n",
       "      <td>7</td>\n",
       "      <td>1</td>\n",
       "    </tr>\n",
       "  </tbody>\n",
       "</table>\n",
       "</div>"
      ],
      "text/plain": [
       "           ride_id  fare_amount     pickup_datetime  passenger_count  \\\n",
       "0  20090615_172621          4.5 2009-06-15 17:26:21                1   \n",
       "1  20100105_165216         16.9 2010-01-05 16:52:16                1   \n",
       "2  20110818_003500          5.7 2011-08-18 00:35:00                2   \n",
       "3  20120421_043042          7.7 2012-04-21 04:30:42                1   \n",
       "4  20100309_075100          5.3 2010-03-09 07:51:00                1   \n",
       "\n",
       "   distance_haversine  distance_dummy_manhattan   direction  month  \\\n",
       "0            1.030764                  1.232937  167.240469      6   \n",
       "1            8.450134                 10.961646   21.498365      1   \n",
       "2            1.389525                  1.906909 -148.966789      8   \n",
       "3            2.799270                  3.148058   -7.672164      4   \n",
       "4            1.999157                  2.715180   28.802783      3   \n",
       "\n",
       "   day_of_month  hour  day_of_week  \n",
       "0            15    17            0  \n",
       "1             5    16            1  \n",
       "2            18     0            3  \n",
       "3            21     4            5  \n",
       "4             9     7            1  "
      ]
     },
     "execution_count": 9,
     "metadata": {},
     "output_type": "execute_result"
    }
   ],
   "source": [
    "from distance_utils import haversine_array, dummy_manhattan_distance, bearing_array  \n",
    "\n",
    "# location features\n",
    "df.loc[:, 'distance_haversine'] = haversine_array(\n",
    "    df['pickup_latitude'].values, \n",
    "    df['pickup_longitude'].values, \n",
    "    df['dropoff_latitude'].values, \n",
    "    df['dropoff_longitude'].values)\n",
    "\n",
    "df.loc[:, 'distance_dummy_manhattan'] =  dummy_manhattan_distance(\n",
    "    df['pickup_latitude'].values, \n",
    "    df['pickup_longitude'].values, \n",
    "    df['dropoff_latitude'].values, \n",
    "    df['dropoff_longitude'].values)\n",
    "\n",
    "df.loc[:, 'direction'] = bearing_array(\n",
    "    df['pickup_latitude'].values, \n",
    "    df['pickup_longitude'].values, \n",
    "    df['dropoff_latitude'].values, \n",
    "    df['dropoff_longitude'].values)\n",
    "\n",
    "# time features\n",
    "df['pickup_datetime'] = pd.to_datetime(df['pickup_datetime']).apply(lambda d: d.replace(tzinfo=None))\n",
    "df['month'] = df['pickup_datetime'].dt.month\n",
    "df['day_of_month'] = df['pickup_datetime'].dt.day\n",
    "df['hour'] = df['pickup_datetime'].dt.hour\n",
    "df['day_of_week'] = df['pickup_datetime'].dt.dayofweek\n",
    "\n",
    "# drop unused columns\n",
    "df = df.drop(columns=['pickup_latitude', 'pickup_longitude', 'dropoff_latitude', 'dropoff_longitude'], axis=1)\n",
    "\n",
    "df.head()"
   ]
  },
  {
   "cell_type": "markdown",
   "metadata": {},
   "source": [
    "## Register entity and features"
   ]
  },
  {
   "cell_type": "code",
   "execution_count": 10,
   "metadata": {},
   "outputs": [
    {
     "name": "stdout",
     "output_type": "stream",
     "text": [
      "Successfully applied entity with name: taxi_ride\n",
      "---\n",
      "name: taxi_ride\n",
      "description: entity level description\n",
      "\n",
      "Successfully applied feature with id: taxi_ride.fare_amount\n",
      "---\n",
      "id: taxi_ride.fare_amount\n",
      "name: fare_amount\n",
      "owner: user@website.com\n",
      "description: feature level description\n",
      "valueType: DOUBLE\n",
      "entity: taxi_ride\n",
      "dataStores:\n",
      "  serving:\n",
      "    id: SERVING\n",
      "  warehouse:\n",
      "    id: WAREHOUSE\n",
      "\n",
      "Successfully applied feature with id: taxi_ride.passenger_count\n",
      "---\n",
      "id: taxi_ride.passenger_count\n",
      "name: passenger_count\n",
      "owner: user@website.com\n",
      "description: feature level description\n",
      "valueType: INT64\n",
      "entity: taxi_ride\n",
      "dataStores:\n",
      "  serving:\n",
      "    id: SERVING\n",
      "  warehouse:\n",
      "    id: WAREHOUSE\n",
      "\n",
      "Successfully applied feature with id: taxi_ride.distance_haversine\n",
      "---\n",
      "id: taxi_ride.distance_haversine\n",
      "name: distance_haversine\n",
      "owner: user@website.com\n",
      "description: feature level description\n",
      "valueType: DOUBLE\n",
      "entity: taxi_ride\n",
      "dataStores:\n",
      "  serving:\n",
      "    id: SERVING\n",
      "  warehouse:\n",
      "    id: WAREHOUSE\n",
      "\n",
      "Successfully applied feature with id: taxi_ride.distance_dummy_manhattan\n",
      "---\n",
      "id: taxi_ride.distance_dummy_manhattan\n",
      "name: distance_dummy_manhattan\n",
      "owner: user@website.com\n",
      "description: feature level description\n",
      "valueType: DOUBLE\n",
      "entity: taxi_ride\n",
      "dataStores:\n",
      "  serving:\n",
      "    id: SERVING\n",
      "  warehouse:\n",
      "    id: WAREHOUSE\n",
      "\n",
      "Successfully applied feature with id: taxi_ride.direction\n",
      "---\n",
      "id: taxi_ride.direction\n",
      "name: direction\n",
      "owner: user@website.com\n",
      "description: feature level description\n",
      "valueType: DOUBLE\n",
      "entity: taxi_ride\n",
      "dataStores:\n",
      "  serving:\n",
      "    id: SERVING\n",
      "  warehouse:\n",
      "    id: WAREHOUSE\n",
      "\n",
      "Successfully applied feature with id: taxi_ride.month\n",
      "---\n",
      "id: taxi_ride.month\n",
      "name: month\n",
      "owner: user@website.com\n",
      "description: feature level description\n",
      "valueType: INT64\n",
      "entity: taxi_ride\n",
      "dataStores:\n",
      "  serving:\n",
      "    id: SERVING\n",
      "  warehouse:\n",
      "    id: WAREHOUSE\n",
      "\n",
      "Successfully applied feature with id: taxi_ride.day_of_month\n",
      "---\n",
      "id: taxi_ride.day_of_month\n",
      "name: day_of_month\n",
      "owner: user@website.com\n",
      "description: feature level description\n",
      "valueType: INT64\n",
      "entity: taxi_ride\n",
      "dataStores:\n",
      "  serving:\n",
      "    id: SERVING\n",
      "  warehouse:\n",
      "    id: WAREHOUSE\n",
      "\n",
      "Successfully applied feature with id: taxi_ride.hour\n",
      "---\n",
      "id: taxi_ride.hour\n",
      "name: hour\n",
      "owner: user@website.com\n",
      "description: feature level description\n",
      "valueType: INT64\n",
      "entity: taxi_ride\n",
      "dataStores:\n",
      "  serving:\n",
      "    id: SERVING\n",
      "  warehouse:\n",
      "    id: WAREHOUSE\n",
      "\n",
      "Successfully applied feature with id: taxi_ride.day_of_week\n",
      "---\n",
      "id: taxi_ride.day_of_week\n",
      "name: day_of_week\n",
      "owner: user@website.com\n",
      "description: feature level description\n",
      "valueType: INT64\n",
      "entity: taxi_ride\n",
      "dataStores:\n",
      "  serving:\n",
      "    id: SERVING\n",
      "  warehouse:\n",
      "    id: WAREHOUSE\n",
      "\n",
      "Staging file to remote path gs://kubecon-19-gojek/staging/tmp_taxi_ride_1558543668903.csv\n",
      "Submitting job with spec:\n",
      " type: file.csv\n",
      "sourceOptions:\n",
      "  path: gs://kubecon-19-gojek/staging/tmp_taxi_ride_1558543668903.csv\n",
      "entities:\n",
      "- taxi_ride\n",
      "schema:\n",
      "  entityIdColumn: ride_id\n",
      "  fields:\n",
      "  - name: ride_id\n",
      "  - featureId: taxi_ride.fare_amount\n",
      "    name: fare_amount\n",
      "  - name: pickup_datetime\n",
      "  - featureId: taxi_ride.passenger_count\n",
      "    name: passenger_count\n",
      "  - featureId: taxi_ride.distance_haversine\n",
      "    name: distance_haversine\n",
      "  - featureId: taxi_ride.distance_dummy_manhattan\n",
      "    name: distance_dummy_manhattan\n",
      "  - featureId: taxi_ride.direction\n",
      "    name: direction\n",
      "  - featureId: taxi_ride.month\n",
      "    name: month\n",
      "  - featureId: taxi_ride.day_of_month\n",
      "    name: day_of_month\n",
      "  - featureId: taxi_ride.hour\n",
      "    name: hour\n",
      "  - featureId: taxi_ride.day_of_week\n",
      "    name: day_of_week\n",
      "  timestampColumn: pickup_datetime\n",
      "\n",
      "Submitted job with id: feastimport1558543670935\n"
     ]
    },
    {
     "data": {
      "text/plain": [
       "'feastimport1558543670935'"
      ]
     },
     "execution_count": 10,
     "metadata": {},
     "output_type": "execute_result"
    }
   ],
   "source": [
    "# Create importer\n",
    "importer = Importer.from_df(df, \n",
    "                           entity='taxi_ride', \n",
    "                           owner='user@website.com',  \n",
    "                           staging_location=fshelper.STAGING_LOCATION,\n",
    "                           id_column='ride_id', \n",
    "                           timestamp_column='pickup_datetime',\n",
    "                           serving_store=Datastore(id='SERVING'),\n",
    "                           warehouse_store=Datastore(id='WAREHOUSE'))\n",
    "\n",
    "# Update feature and entity metadata. Ideally you want to update these manually\n",
    "# so that they contain adequate information for the next user\n",
    "importer.entity.description = 'entity level description' \n",
    "for feature_id in importer.features:\n",
    "    importer.features[feature_id].description = 'feature level description'\n",
    "    \n",
    "# Ingest the feature data into the store\n",
    "fshelper.fs.run(importer, apply_features=True, apply_entity=True)"
   ]
  },
  {
   "cell_type": "markdown",
   "metadata": {},
   "source": [
    "## Define a Feature Set for this project"
   ]
  },
  {
   "cell_type": "code",
   "execution_count": 11,
   "metadata": {},
   "outputs": [],
   "source": [
    "# fairing:include-cell\n",
    "ENTITY_ID = 'taxi_ride'\n",
    "TRAINING_FEATURES_SET = [\n",
    "    'taxi_ride.passenger_count',\n",
    "    'taxi_ride.distance_haversine',\n",
    "    'taxi_ride.distance_dummy_manhattan',\n",
    "    'taxi_ride.direction',\n",
    "    'taxi_ride.month',\n",
    "    'taxi_ride.day_of_month',\n",
    "    'taxi_ride.day_of_week',\n",
    "    'taxi_ride.hour',\n",
    "    'taxi_ride.fare_amount'\n",
    "]"
   ]
  },
  {
   "cell_type": "code",
   "execution_count": 12,
   "metadata": {},
   "outputs": [],
   "source": [
    "feature_set = FeatureSet(entity=ENTITY_ID, \n",
    "                         features=TRAINING_FEATURES_SET)"
   ]
  },
  {
   "cell_type": "markdown",
   "metadata": {},
   "source": [
    "## Retrieve a Training Set from Feast"
   ]
  },
  {
   "cell_type": "code",
   "execution_count": 13,
   "metadata": {},
   "outputs": [
    {
     "name": "stdout",
     "output_type": "stream",
     "text": [
      "creating training dataset for features: ['taxi_ride.passenger_count', 'taxi_ride.distance_haversine', 'taxi_ride.distance_dummy_manhattan', 'taxi_ride.direction', 'taxi_ride.month', 'taxi_ride.day_of_month', 'taxi_ride.day_of_week', 'taxi_ride.hour', 'taxi_ride.fare_amount']\n",
      "created dataset taxi_ride_1558543683588_20090101_20160101: aliz-development.fs_taxi_ride.1558543683588_20090101_20160101\n"
     ]
    },
    {
     "data": {
      "text/html": [
       "<div>\n",
       "<style scoped>\n",
       "    .dataframe tbody tr th:only-of-type {\n",
       "        vertical-align: middle;\n",
       "    }\n",
       "\n",
       "    .dataframe tbody tr th {\n",
       "        vertical-align: top;\n",
       "    }\n",
       "\n",
       "    .dataframe thead th {\n",
       "        text-align: right;\n",
       "    }\n",
       "</style>\n",
       "<table border=\"1\" class=\"dataframe\">\n",
       "  <thead>\n",
       "    <tr style=\"text-align: right;\">\n",
       "      <th></th>\n",
       "      <th>id</th>\n",
       "      <th>event_timestamp</th>\n",
       "      <th>fare_amount</th>\n",
       "      <th>passenger_count</th>\n",
       "      <th>distance_haversine</th>\n",
       "      <th>distance_dummy_manhattan</th>\n",
       "      <th>direction</th>\n",
       "      <th>month</th>\n",
       "      <th>day_of_month</th>\n",
       "      <th>hour</th>\n",
       "      <th>day_of_week</th>\n",
       "    </tr>\n",
       "  </thead>\n",
       "  <tbody>\n",
       "    <tr>\n",
       "      <th>0</th>\n",
       "      <td>20090119_103800</td>\n",
       "      <td>2009-01-19 10:38:00 UTC</td>\n",
       "      <td>3.7</td>\n",
       "      <td>1</td>\n",
       "      <td>0.605668</td>\n",
       "      <td>0.823081</td>\n",
       "      <td>-151.064653</td>\n",
       "      <td>1</td>\n",
       "      <td>19</td>\n",
       "      <td>10</td>\n",
       "      <td>0</td>\n",
       "    </tr>\n",
       "    <tr>\n",
       "      <th>1</th>\n",
       "      <td>20090119_103800</td>\n",
       "      <td>2009-01-19 10:38:00 UTC</td>\n",
       "      <td>3.7</td>\n",
       "      <td>1</td>\n",
       "      <td>0.605668</td>\n",
       "      <td>0.823081</td>\n",
       "      <td>-151.064653</td>\n",
       "      <td>1</td>\n",
       "      <td>19</td>\n",
       "      <td>10</td>\n",
       "      <td>0</td>\n",
       "    </tr>\n",
       "    <tr>\n",
       "      <th>2</th>\n",
       "      <td>20090119_103800</td>\n",
       "      <td>2009-01-19 10:38:00 UTC</td>\n",
       "      <td>3.7</td>\n",
       "      <td>1</td>\n",
       "      <td>0.605668</td>\n",
       "      <td>0.823081</td>\n",
       "      <td>-151.064653</td>\n",
       "      <td>1</td>\n",
       "      <td>19</td>\n",
       "      <td>10</td>\n",
       "      <td>0</td>\n",
       "    </tr>\n",
       "    <tr>\n",
       "      <th>3</th>\n",
       "      <td>20090119_103800</td>\n",
       "      <td>2009-01-19 10:38:00 UTC</td>\n",
       "      <td>3.7</td>\n",
       "      <td>1</td>\n",
       "      <td>0.605668</td>\n",
       "      <td>0.823081</td>\n",
       "      <td>-151.064653</td>\n",
       "      <td>1</td>\n",
       "      <td>19</td>\n",
       "      <td>10</td>\n",
       "      <td>0</td>\n",
       "    </tr>\n",
       "    <tr>\n",
       "      <th>4</th>\n",
       "      <td>20090119_103800</td>\n",
       "      <td>2009-01-19 10:38:00 UTC</td>\n",
       "      <td>3.7</td>\n",
       "      <td>1</td>\n",
       "      <td>0.605668</td>\n",
       "      <td>0.823081</td>\n",
       "      <td>-151.064653</td>\n",
       "      <td>1</td>\n",
       "      <td>19</td>\n",
       "      <td>10</td>\n",
       "      <td>0</td>\n",
       "    </tr>\n",
       "  </tbody>\n",
       "</table>\n",
       "</div>"
      ],
      "text/plain": [
       "                id          event_timestamp  fare_amount  passenger_count  \\\n",
       "0  20090119_103800  2009-01-19 10:38:00 UTC          3.7                1   \n",
       "1  20090119_103800  2009-01-19 10:38:00 UTC          3.7                1   \n",
       "2  20090119_103800  2009-01-19 10:38:00 UTC          3.7                1   \n",
       "3  20090119_103800  2009-01-19 10:38:00 UTC          3.7                1   \n",
       "4  20090119_103800  2009-01-19 10:38:00 UTC          3.7                1   \n",
       "\n",
       "   distance_haversine  distance_dummy_manhattan   direction  month  \\\n",
       "0            0.605668                  0.823081 -151.064653      1   \n",
       "1            0.605668                  0.823081 -151.064653      1   \n",
       "2            0.605668                  0.823081 -151.064653      1   \n",
       "3            0.605668                  0.823081 -151.064653      1   \n",
       "4            0.605668                  0.823081 -151.064653      1   \n",
       "\n",
       "   day_of_month  hour  day_of_week  \n",
       "0            19    10            0  \n",
       "1            19    10            0  \n",
       "2            19    10            0  \n",
       "3            19    10            0  \n",
       "4            19    10            0  "
      ]
     },
     "execution_count": 13,
     "metadata": {},
     "output_type": "execute_result"
    }
   ],
   "source": [
    "# Retrieve feature data for training from Feast\n",
    "dataset = fshelper.fs.create_dataset(feature_set, \"2009-01-01\", \"2016-01-01\")\n",
    "training_df =  fshelper.fs.download_dataset_to_df(dataset, fshelper.STAGING_LOCATION)\n",
    "\n",
    "training_df.head()"
   ]
  },
  {
   "cell_type": "markdown",
   "metadata": {},
   "source": [
    "## Visualize statistics with TFDV"
   ]
  },
  {
   "cell_type": "code",
   "execution_count": 14,
   "metadata": {},
   "outputs": [
    {
     "name": "stdout",
     "output_type": "stream",
     "text": [
      "creating training dataset for features: ['taxi_ride.passenger_count', 'taxi_ride.distance_haversine', 'taxi_ride.distance_dummy_manhattan', 'taxi_ride.direction', 'taxi_ride.month', 'taxi_ride.day_of_month', 'taxi_ride.day_of_week', 'taxi_ride.hour', 'taxi_ride.fare_amount']\n",
      "created dataset taxi_ride_1558543694901_20090101_20160101: aliz-development.fs_taxi_ride.1558543694901_20090101_20160101\n"
     ]
    },
    {
     "name": "stderr",
     "output_type": "stream",
     "text": [
      "INFO:root:Saving training stats to gs://kubecon-19-gojek/data/training_stats/190522_164814/training_stats.hdf5\n",
      "INFO:root:Saving proto to /tmp/training_stats.hdf5\n",
      "INFO:root:Uploading proto to gs://kubecon-19-gojek/data/training_stats/190522_164814/training_stats.hdf5\n",
      "INFO:root:Saved proto to gs://kubecon-19-gojek/data/training_stats/190522_164814/training_stats.hdf5\n"
     ]
    },
    {
     "data": {
      "text/html": [
       "<iframe id='facets-iframe' width=\"100%\" height=\"500px\"></iframe>\n",
       "        <script>\n",
       "        facets_iframe = document.getElementById('facets-iframe');\n",
       "        facets_html = '<link rel=\"import\" href=\"https://raw.githubusercontent.com/PAIR-code/facets/master/facets-dist/facets-jupyter.html\"><facets-overview proto-input=\"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\"></facets-overview>';\n",
       "        facets_iframe.contentWindow.document.write(facets_html);\n",
       "         facets_iframe.id = \"\";\n",
       "         setTimeout(() => {\n",
       "           facets_iframe.setAttribute('height', facets_iframe.contentWindow.document.body.offsetHeight + 'px')\n",
       "         }, 1500)\n",
       "         </script>"
      ],
      "text/plain": [
       "<IPython.core.display.HTML object>"
      ]
     },
     "metadata": {},
     "output_type": "display_data"
    }
   ],
   "source": [
    "now = datetime.datetime.now().strftime(\"%y%m%d_%H%M%S\")\n",
    "training_stats_path = \"gs://kubecon-19-gojek/data/training_stats/{0}/training_stats.hdf5\".format(now)\n",
    "\n",
    "training_stats = fshelper.compute_training_stats(training_stats_path)\n",
    "tfdv.visualize_statistics(training_stats)"
   ]
  },
  {
   "cell_type": "markdown",
   "metadata": {},
   "source": [
    "## Train Linear Model"
   ]
  },
  {
   "cell_type": "code",
   "execution_count": 15,
   "metadata": {},
   "outputs": [],
   "source": [
    "# fairing:include-cell\n",
    "class TaxiRideModel(TaxiFeast):\n",
    "  \"\"\"Model class.\"\"\"\n",
    "  SERVING_FEATURE_SET = [\n",
    "        'taxi_ride.passenger_count',\n",
    "        'taxi_ride.distance_haversine',\n",
    "        'taxi_ride.distance_dummy_manhattan',\n",
    "        'taxi_ride.direction',\n",
    "        'taxi_ride.month',\n",
    "        'taxi_ride.day_of_month',\n",
    "        'taxi_ride.day_of_week',\n",
    "        'taxi_ride.hour']\n",
    "\n",
    "  def __init__(self):\n",
    "    super(TaxiRideModel, self).__init__()\n",
    "    self.m = None\n",
    "    self.b = None\n",
    "    self.serving_fs = None\n",
    "\n",
    "    logging.basicConfig(level=logging.INFO,\n",
    "        format=('%(levelname)s|%(asctime)s'\n",
    "                '|%(pathname)s|%(lineno)d| %(message)s'),\n",
    "        datefmt='%Y-%m-%dT%H:%M:%S',\n",
    "        )\n",
    "    logging.getLogger().setLevel(logging.INFO)\n",
    "\n",
    "  # Train model \n",
    "  def train(self, training_df, model_path):\n",
    "    np.set_printoptions(precision=3)\n",
    "    train_data = training_df[[x.split('.')[1] for x in TRAINING_FEATURES_SET]].to_numpy()\n",
    "    train_data[:, len(train_data[0]) - 1] = 1\n",
    "    Y = training_df['fare_amount'].to_numpy()\n",
    "\n",
    "    x = np.linalg.lstsq(train_data, Y, rcond=0)[0]\n",
    "    m, b = x[:len(train_data[0])-1], x[len(train_data[0])-1]\n",
    "\n",
    "    self.m = m\n",
    "    self.b = b\n",
    "    \n",
    "    self.save_model(model_path)\n",
    "    \n",
    "    return m,b\n",
    "\n",
    "  def train_on_time_range(self, start_day, end_day, model_path):\n",
    "    dataset = self.fs.create_dataset(self.train_feature_set, start_day, end_day)\n",
    "    training_df =  self.fs.download_dataset_to_df(dataset, self.STAGING_LOCATION)\n",
    "    return self.train(training_df, model_path)\n",
    "    \n",
    "  def predict(self, feature_id, feature_names):\n",
    "    logging.info('feature_id = %s', feature_id)\n",
    "    logging.info('feature_names = %s', feature_names)\n",
    "    if any([i is None for i in [self.m, self.b, self.fs, self.serving_fs]]):      \n",
    "      with open('simple_model.dat', 'r') as f:\n",
    "        model = json.load(f)\n",
    "        self.m = np.array(model.get('m', []))\n",
    "        self.b = float(model.get('b', 0))\n",
    "\n",
    "        _FEAST_CORE_URL = model['FEAST_CORE_URL']\n",
    "        _FEAST_SERVING_URL = model['FEAST_SERVING_URL']\n",
    "        _ENTITY_ID = model['ENTITY_ID']\n",
    "\n",
    "        logging.info('FEAST_CORE_URL: %s', _FEAST_CORE_URL)\n",
    "        logging.info('FEAST_SERVING_URL: %s', _FEAST_SERVING_URL)\n",
    "        logging.info('ENTITY_ID: %s', _ENTITY_ID)\n",
    "        logging.info('FEATURES_SET: %s', self.SERVING_FEATURE_SET)\n",
    "\n",
    "        self.serving_fs = FeatureSet(\n",
    "            entity=_ENTITY_ID,\n",
    "            features=self.SERVING_FEATURE_SET)\n",
    "\n",
    "    features = self.fs.get_serving_data(\n",
    "        self.serving_fs,\n",
    "        entity_keys=[feature_id])\n",
    "    X = features.to_numpy()[0][1:]\n",
    "    logging.info('X: %s', str(X))\n",
    "\n",
    "    return [sum(self.m * X) + self.b]\n",
    "\n",
    "  def save_model(self, model_path):\n",
    "    \"\"\"Save the model to a json file.\"\"\"\n",
    "    MODEL_FILE = 'simple_model.dat'\n",
    "\n",
    "    model = {\n",
    "        'm': self.m.tolist(),\n",
    "        'b': self.b,\n",
    "        'FEAST_CORE_URL': self.FEAST_CORE_URL,\n",
    "        'FEAST_SERVING_URL': self.FEAST_SERVING_URL,\n",
    "        'ENTITY_ID': ENTITY_ID,\n",
    "    }\n",
    "    \n",
    "    logging.info('Saving model to %s', model_path)\n",
    "\n",
    "    demo_util.save_as_json(model, model_path)\n",
    "  \n",
    "  def preprocess(self):\n",
    "    pass\n",
    "\n",
    "  def validate(self):\n",
    "    pass\n",
    "\n"
   ]
  },
  {
   "cell_type": "markdown",
   "metadata": {},
   "source": [
    "## Train Locally"
   ]
  },
  {
   "cell_type": "code",
   "execution_count": 41,
   "metadata": {},
   "outputs": [
    {
     "name": "stderr",
     "output_type": "stream",
     "text": [
      "INFO:root:Saving model to gs://kubecon-19-gojek/models/linear_model/190523_052138/model.json\n",
      "INFO:root:Saving data to: /tmp/model.json\n",
      "INFO:root:Uploading data to gs://kubecon-19-gojek/models/linear_model/190523_052138/model.json\n"
     ]
    },
    {
     "name": "stdout",
     "output_type": "stream",
     "text": [
      "[ 1.764e-01  1.292e+01 -8.776e+00  4.971e-03  8.376e-02 -3.989e-03\n",
      "  1.175e-01 -5.744e-03] 5.571301543075601\n"
     ]
    }
   ],
   "source": [
    "now = datetime.datetime.now().strftime(\"%y%m%d_%H%M%S\")\n",
    "model_path = 'gs://kubecon-19-gojek/models/linear_model/{0}/model.json'.format(now)\n",
    "\n",
    "model = TaxiRideModel()\n",
    "m, b = model.train(training_df, model_path)\n",
    "print(m, b)"
   ]
  },
  {
   "cell_type": "markdown",
   "metadata": {},
   "source": [
    "## Local Prediction"
   ]
  },
  {
   "cell_type": "code",
   "execution_count": 42,
   "metadata": {},
   "outputs": [
    {
     "name": "stderr",
     "output_type": "stream",
     "text": [
      "INFO:root:feature_id = 20090202_084343\n",
      "INFO:root:feature_names = None\n",
      "INFO:root:FEAST_CORE_URL: 10.148.0.99:6565\n",
      "INFO:root:FEAST_SERVING_URL: 10.148.0.100:6566\n",
      "INFO:root:ENTITY_ID: taxi_ride\n",
      "INFO:root:FEATURES_SET: ['taxi_ride.passenger_count', 'taxi_ride.distance_haversine', 'taxi_ride.distance_dummy_manhattan', 'taxi_ride.direction', 'taxi_ride.month', 'taxi_ride.day_of_month', 'taxi_ride.day_of_week', 'taxi_ride.hour']\n",
      "INFO:root:X: [1 8.677072903409417 10.460815704762517 13.462847407418641 2 2 0 8]\n"
     ]
    },
    {
     "data": {
      "text/plain": [
       "[26.20793146551558]"
      ]
     },
     "execution_count": 42,
     "metadata": {},
     "output_type": "execute_result"
    }
   ],
   "source": [
    "model.predict('20090202_084343', None)\n"
   ]
  },
  {
   "cell_type": "markdown",
   "metadata": {},
   "source": [
    "## Train and Deploy on Kubernetes"
   ]
  },
  {
   "cell_type": "markdown",
   "metadata": {},
   "source": [
    "### Use fairing to build the docker image\n",
    "\n",
    "* This uses the append builder to rapidly build docker images"
   ]
  },
  {
   "cell_type": "code",
   "execution_count": 19,
   "metadata": {},
   "outputs": [],
   "source": [
    "GCP_PROJECT = fairing.cloud.gcp.guess_project_name()\n",
    "DOCKER_REGISTRY = 'gcr.io/{}/fairing-job'.format(GCP_PROJECT)\n",
    "base_image = \"gcr.io/aliz-development/kubecon-demo/notebook:v20190521-2a6d5e9-dirty-20b776\""
   ]
  },
  {
   "cell_type": "code",
   "execution_count": 43,
   "metadata": {
    "scrolled": true
   },
   "outputs": [
    {
     "name": "stderr",
     "output_type": "stream",
     "text": [
      "WARNING:fairing.builders.append.append:Building image...\n",
      "INFO:root:Creating docker context: /tmp/fairing.context.tar.gz\n",
      "INFO:root:Adding files to context: [PosixPath('ames-feast-taxi-job.py'), 'simple_model.dat', 'demo_util.py']\n",
      "INFO:root:Context: /tmp/fairing.context.tar.gz, Adding /home/jovyan/LinearModel/fairing/fairing/__init__.py at /app/fairing/__init__.py\n",
      "INFO:root:Context: /tmp/fairing.context.tar.gz, Adding /home/jovyan/LinearModel/fairing/fairing/runtime_config.py at /app/fairing/runtime_config.py\n",
      "INFO:root:Context: /tmp/fairing.context.tar.gz, Adding ames-feast-taxi-job.py at /app/ames-feast-taxi-job.py\n",
      "INFO:root:Context: /tmp/fairing.context.tar.gz, Adding simple_model.dat at /app/simple_model.dat\n",
      "INFO:root:Context: /tmp/fairing.context.tar.gz, Adding demo_util.py at /app/demo_util.py\n",
      "INFO:root:Loading Docker credentials for repository 'gcr.io/aliz-development/kubecon-demo/notebook:v20190521-2a6d5e9-dirty-20b776'\n",
      "INFO:root:Invoking 'docker-credential-gcloud' to obtain Docker credentials.\n",
      "INFO:root:Successfully obtained Docker credentials.\n",
      "WARNING:fairing.builders.append.append:Image successfully built in 2.522656336077489s.\n",
      "WARNING:fairing.builders.append.append:Pushing image gcr.io/aliz-development/fairing-job/fairing-job:1F65303B...\n",
      "INFO:root:Loading Docker credentials for repository 'gcr.io/aliz-development/fairing-job/fairing-job:1F65303B'\n",
      "INFO:root:Invoking 'docker-credential-gcloud' to obtain Docker credentials.\n",
      "INFO:root:Successfully obtained Docker credentials.\n",
      "WARNING:fairing.builders.append.append:Uploading gcr.io/aliz-development/fairing-job/fairing-job:1F65303B\n",
      "INFO:root:Tag points to the right manifest, skipping push.\n",
      "INFO:root:Finished upload of: gcr.io/aliz-development/fairing-job/fairing-job:1F65303B\n",
      "WARNING:fairing.builders.append.append:Pushed image gcr.io/aliz-development/fairing-job/fairing-job:1F65303B in 2.0617876949254423s.\n"
     ]
    }
   ],
   "source": [
    "from fairing.builders import append\n",
    "import fairing_util\n",
    "preprocessor = fairing_util.ConvertNotebookPreprocessorWithFire(\"TaxiRideModel\")\n",
    "\n",
    "if not preprocessor.input_files:\n",
    "    preprocessor.input_files = set()\n",
    "\n",
    "# Bake the model into the container    \n",
    "input_files=[\"simple_model.dat\", \"demo_util.py\"]\n",
    "preprocessor.input_files =  set([os.path.normpath(f) for f in input_files])\n",
    "preprocessor.preprocess()\n",
    "builder = append.append.AppendBuilder(registry=DOCKER_REGISTRY,\n",
    "                                      base_image=base_image, preprocessor=preprocessor)\n",
    "builder.build()\n"
   ]
  },
  {
   "cell_type": "markdown",
   "metadata": {},
   "source": [
    "### Launch a K8s job to compute the stats"
   ]
  },
  {
   "cell_type": "code",
   "execution_count": 44,
   "metadata": {},
   "outputs": [
    {
     "name": "stderr",
     "output_type": "stream",
     "text": [
      "WARNING:fairing.deployers.job.job:Training job fairing-job-pqcqn launched.\n",
      "WARNING:fairing.kubernetes.manager:Waiting for fairing-job-pqcqn-rnb2h to start...\n",
      "WARNING:fairing.kubernetes.manager:Waiting for fairing-job-pqcqn-rnb2h to start...\n",
      "WARNING:fairing.kubernetes.manager:Waiting for fairing-job-pqcqn-rnb2h to start...\n",
      "INFO:fairing.kubernetes.manager:Pod started running True\n"
     ]
    },
    {
     "name": "stdout",
     "output_type": "stream",
     "text": [
      "/opt/conda/lib/python3.6/site-packages/apache_beam/__init__.py:84: UserWarning: Running the Apache Beam SDK on Python 3 is not yet fully supported. You may encounter buggy behavior or missing features.\n",
      "  'Running the Apache Beam SDK on Python 3 is not yet fully supported. '\n",
      "Saving model to gs://kubecon-19-gojek/model/190523_052403/model.json\n",
      "Saving data to: /tmp/model.json\n",
      "Uploading data to gs://kubecon-19-gojek/model/190523_052403/model.json\n",
      "creating training dataset for features: ['taxi_ride.passenger_count', 'taxi_ride.distance_haversine', 'taxi_ride.distance_dummy_manhattan', 'taxi_ride.direction', 'taxi_ride.month', 'taxi_ride.day_of_month', 'taxi_ride.day_of_week', 'taxi_ride.hour', 'taxi_ride.fare_amount']\n",
      "created dataset taxi_ride_1558589052083_20090101_20160101: aliz-development.fs_taxi_ride.1558589052083_20090101_20160101\n",
      "(array([ 1.764e-01,  1.292e+01, -8.776e+00,  4.971e-03,  8.376e-02,        -3.989e-03,  1.175e-01, -5.744e-03]), 5.571301543075475)\n"
     ]
    }
   ],
   "source": [
    "now = datetime.datetime.now().strftime(\"%y%m%d_%H%M%S\")\n",
    "training_model_path = 'gs://kubecon-19-gojek/model/{0}/model.json'.format(now)\n",
    "pod_spec = builder.generate_pod_spec()\n",
    "train_deployer = job.job.Job(namespace=\"kubeflow\", \n",
    "                             cleanup=False,\n",
    "                             pod_spec_mutators=[\n",
    "                             fairing.cloud.gcp.add_gcp_credentials_if_exists,])\n",
    "\n",
    "# Add command line arguments\n",
    "pod_spec.containers[0].command.extend([\"train-on-time-range\", \"2009-01-01\", \"2016-01-01\", training_model_path])\n",
    "result = train_deployer.deploy(pod_spec)"
   ]
  },
  {
   "cell_type": "code",
   "execution_count": 22,
   "metadata": {},
   "outputs": [
    {
     "name": "stdout",
     "output_type": "stream",
     "text": [
      "apiVersion: v1\r\n",
      "items:\r\n",
      "- apiVersion: batch/v1\r\n",
      "  kind: Job\r\n",
      "  metadata:\r\n",
      "    creationTimestamp: \"2019-05-22T16:49:01Z\"\r\n",
      "    generateName: fairing-job-\r\n",
      "    labels:\r\n",
      "      fairing-deployer: job\r\n",
      "      fairing-id: 8076441a-7cb1-11e9-8ecc-a6a881dd7379\r\n",
      "    name: fairing-job-smgl8\r\n",
      "    namespace: kubeflow\r\n",
      "    resourceVersion: \"3045599\"\r\n",
      "    selfLink: /apis/batch/v1/namespaces/kubeflow/jobs/fairing-job-smgl8\r\n",
      "    uid: 80804235-7cb1-11e9-852c-42010a9400a1\r\n",
      "  spec:\r\n",
      "    backoffLimit: 6\r\n",
      "    completions: 1\r\n",
      "    parallelism: 1\r\n",
      "    selector:\r\n",
      "      matchLabels:\r\n",
      "        controller-uid: 80804235-7cb1-11e9-852c-42010a9400a1\r\n",
      "    template:\r\n",
      "      metadata:\r\n",
      "        creationTimestamp: null\r\n",
      "        labels:\r\n",
      "          controller-uid: 80804235-7cb1-11e9-852c-42010a9400a1\r\n",
      "          fairing-deployer: job\r\n",
      "          fairing-id: 8076441a-7cb1-11e9-8ecc-a6a881dd7379\r\n",
      "          job-name: fairing-job-smgl8\r\n",
      "        name: fairing-deployer\r\n",
      "      spec:\r\n",
      "        containers:\r\n",
      "        - command:\r\n",
      "          - python\r\n",
      "          - /app/ames-feast-taxi-job.py\r\n",
      "          - train-on-time-range\r\n",
      "          - \"2009-01-01\"\r\n",
      "          - \"2016-01-01\"\r\n",
      "          - gs://kubecon-19-gojek/model/190522_164901/model.json\r\n",
      "          env:\r\n",
      "          - name: FAIRING_RUNTIME\r\n",
      "            value: \"1\"\r\n",
      "          - name: GOOGLE_APPLICATION_CREDENTIALS\r\n",
      "            value: /etc/secrets/user-gcp-sa.json\r\n",
      "          image: gcr.io/aliz-development/fairing-job/fairing-job:F52D3912\r\n",
      "          imagePullPolicy: IfNotPresent\r\n",
      "          name: model\r\n",
      "          resources: {}\r\n",
      "          securityContext:\r\n",
      "            runAsUser: 0\r\n",
      "          terminationMessagePath: /dev/termination-log\r\n",
      "          terminationMessagePolicy: File\r\n",
      "          volumeMounts:\r\n",
      "          - mountPath: /etc/secrets\r\n",
      "            name: user-gcp-sa\r\n",
      "            readOnly: true\r\n",
      "          workingDir: /app\r\n",
      "        dnsPolicy: ClusterFirst\r\n",
      "        restartPolicy: Never\r\n",
      "        schedulerName: default-scheduler\r\n",
      "        securityContext: {}\r\n",
      "        terminationGracePeriodSeconds: 30\r\n",
      "        volumes:\r\n",
      "        - name: user-gcp-sa\r\n",
      "          secret:\r\n",
      "            defaultMode: 420\r\n",
      "            secretName: user-gcp-sa\r\n",
      "  status:\r\n",
      "    completionTime: \"2019-05-22T16:49:22Z\"\r\n",
      "    conditions:\r\n",
      "    - lastProbeTime: \"2019-05-22T16:49:22Z\"\r\n",
      "      lastTransitionTime: \"2019-05-22T16:49:22Z\"\r\n",
      "      status: \"True\"\r\n",
      "      type: Complete\r\n",
      "    startTime: \"2019-05-22T16:49:01Z\"\r\n",
      "    succeeded: 1\r\n",
      "kind: List\r\n",
      "metadata:\r\n",
      "  resourceVersion: \"\"\r\n",
      "  selfLink: \"\"\r\n"
     ]
    }
   ],
   "source": [
    "!kubectl get jobs -l fairing-id={train_deployer.job_id} -o yaml"
   ]
  },
  {
   "cell_type": "markdown",
   "metadata": {},
   "source": [
    "## Deploy with Kubeflow"
   ]
  },
  {
   "cell_type": "code",
   "execution_count": 45,
   "metadata": {},
   "outputs": [
    {
     "name": "stderr",
     "output_type": "stream",
     "text": [
      "INFO:root:Cluster endpoint: http://fairing-service-t4sb4.kubeflow.svc.cluster.local\n",
      "INFO:root:Created deployment None\n"
     ]
    },
    {
     "name": "stdout",
     "output_type": "stream",
     "text": [
      "fairing-deployer-474ws\n"
     ]
    }
   ],
   "source": [
    "from fairing.deployers import serving\n",
    "import fairing_util\n",
    "pod_spec = builder.generate_pod_spec()\n",
    "\n",
    "module_name = os.path.splitext(preprocessor.executable.name)[0]\n",
    "deployer = serving.serving.Serving(module_name + \".TaxiRideModel\",\n",
    "                                   service_type=\"ClusterIP\",\n",
    "                                   labels={\"app\": \"ames\"})\n",
    "\n",
    "url = deployer.deploy(pod_spec)\n",
    "\n",
    "logging.info(\"Created deployment %s\", print(deployer.deployment.metadata.name))"
   ]
  },
  {
   "cell_type": "code",
   "execution_count": 24,
   "metadata": {},
   "outputs": [
    {
     "name": "stdout",
     "output_type": "stream",
     "text": [
      "apiVersion: extensions/v1beta1\r\n",
      "kind: Deployment\r\n",
      "metadata:\r\n",
      "  annotations:\r\n",
      "    deployment.kubernetes.io/revision: \"1\"\r\n",
      "  creationTimestamp: \"2019-05-22T16:49:27Z\"\r\n",
      "  generateName: fairing-deployer-\r\n",
      "  generation: 1\r\n",
      "  labels:\r\n",
      "    app: ames\r\n",
      "    fairing-deployer: serving\r\n",
      "    fairing-id: 9011d858-7cb1-11e9-8ecc-a6a881dd7379\r\n",
      "  name: fairing-deployer-gdd2c\r\n",
      "  namespace: kubeflow\r\n",
      "  resourceVersion: \"3045634\"\r\n",
      "  selfLink: /apis/extensions/v1beta1/namespaces/kubeflow/deployments/fairing-deployer-gdd2c\r\n",
      "  uid: 901475d3-7cb1-11e9-852c-42010a9400a1\r\n",
      "spec:\r\n",
      "  progressDeadlineSeconds: 600\r\n",
      "  replicas: 1\r\n",
      "  revisionHistoryLimit: 10\r\n",
      "  selector:\r\n",
      "    matchLabels:\r\n",
      "      app: ames\r\n",
      "      fairing-deployer: serving\r\n",
      "      fairing-id: 9011d858-7cb1-11e9-8ecc-a6a881dd7379\r\n",
      "  strategy:\r\n",
      "    rollingUpdate:\r\n",
      "      maxSurge: 25%\r\n",
      "      maxUnavailable: 25%\r\n",
      "    type: RollingUpdate\r\n",
      "  template:\r\n",
      "    metadata:\r\n",
      "      creationTimestamp: null\r\n",
      "      labels:\r\n",
      "        app: ames\r\n",
      "        fairing-deployer: serving\r\n",
      "        fairing-id: 9011d858-7cb1-11e9-8ecc-a6a881dd7379\r\n",
      "      name: fairing-deployer\r\n",
      "    spec:\r\n",
      "      containers:\r\n",
      "      - command:\r\n",
      "        - seldon-core-microservice\r\n",
      "        - ames-feast-taxi-job.TaxiRideModel\r\n",
      "        - REST\r\n",
      "        - --service-type=MODEL\r\n",
      "        - --persistence=0\r\n",
      "        env:\r\n",
      "        - name: FAIRING_RUNTIME\r\n",
      "          value: \"1\"\r\n",
      "        image: gcr.io/aliz-development/fairing-job/fairing-job:F52D3912\r\n",
      "        imagePullPolicy: IfNotPresent\r\n",
      "        name: model\r\n",
      "        resources: {}\r\n",
      "        securityContext:\r\n",
      "          runAsUser: 0\r\n",
      "        terminationMessagePath: /dev/termination-log\r\n",
      "        terminationMessagePolicy: File\r\n",
      "        workingDir: /app\r\n",
      "      dnsPolicy: ClusterFirst\r\n",
      "      restartPolicy: Always\r\n",
      "      schedulerName: default-scheduler\r\n",
      "      securityContext: {}\r\n",
      "      terminationGracePeriodSeconds: 30\r\n",
      "status:\r\n",
      "  conditions:\r\n",
      "  - lastTransitionTime: \"2019-05-22T16:49:28Z\"\r\n",
      "    lastUpdateTime: \"2019-05-22T16:49:28Z\"\r\n",
      "    message: Deployment does not have minimum availability.\r\n",
      "    reason: MinimumReplicasUnavailable\r\n",
      "    status: \"False\"\r\n",
      "    type: Available\r\n",
      "  - lastTransitionTime: \"2019-05-22T16:49:28Z\"\r\n",
      "    lastUpdateTime: \"2019-05-22T16:49:28Z\"\r\n",
      "    message: ReplicaSet \"fairing-deployer-gdd2c-79467c857d\" is progressing.\r\n",
      "    reason: ReplicaSetUpdated\r\n",
      "    status: \"True\"\r\n",
      "    type: Progressing\r\n",
      "  observedGeneration: 1\r\n",
      "  replicas: 1\r\n",
      "  unavailableReplicas: 1\r\n",
      "  updatedReplicas: 1\r\n"
     ]
    }
   ],
   "source": [
    "!kubectl get deploy -o yaml {deployer.deployment.metadata.name}"
   ]
  },
  {
   "cell_type": "markdown",
   "metadata": {},
   "source": [
    "## Call the prediction endpoint"
   ]
  },
  {
   "cell_type": "code",
   "execution_count": 25,
   "metadata": {},
   "outputs": [],
   "source": [
    "@retry(wait_exponential_multiplier=1000, wait_exponential_max=5000,\n",
    "       stop_max_delay=2*60*1000)\n",
    "def predict(url, id):\n",
    "    pdata={\n",
    "        'strData': id,\n",
    "    }\n",
    "    serialized_data = json.dumps(pdata)\n",
    "    r = requests.post(url, data={'json':serialized_data}, timeout=5)\n",
    "    return r"
   ]
  },
  {
   "cell_type": "code",
   "execution_count": 26,
   "metadata": {
    "scrolled": true
   },
   "outputs": [
    {
     "name": "stderr",
     "output_type": "stream",
     "text": [
      "INFO:root:Response: b'{\"data\":{\"tensor\":{\"shape\":[1],\"values\":[26.20793146551558]}},\"meta\":{}}\\n'\n"
     ]
    }
   ],
   "source": [
    "full_url = url + \":5000/predict\"\n",
    "r = predict(full_url, '20090202_084343')\n",
    "if r.ok:\n",
    "    logging.info(\"Response: %s\", r.content)\n",
    "else:\n",
    "    logging.error(\"Prediction failed; %s\", r.content)"
   ]
  },
  {
   "cell_type": "markdown",
   "metadata": {},
   "source": [
    "## Pipelines"
   ]
  },
  {
   "cell_type": "code",
   "execution_count": 46,
   "metadata": {},
   "outputs": [
    {
     "name": "stderr",
     "output_type": "stream",
     "text": [
      "INFO:root:Creating experiment Taxi Cab CICD.\n"
     ]
    },
    {
     "data": {
      "text/html": [
       "Experiment link <a href=\"/pipeline/#/experiments/details/e3d17242-1f95-4006-a69e-f66414e592cb\" target=\"_blank\" >here</a>"
      ],
      "text/plain": [
       "<IPython.core.display.HTML object>"
      ]
     },
     "metadata": {},
     "output_type": "display_data"
    },
    {
     "data": {
      "text/html": [
       "Run link <a href=\"/pipeline/#/runs/details/559108d5-7d1b-11e9-852c-42010a9400a1\" target=\"_blank\" >here</a>"
      ],
      "text/plain": [
       "<IPython.core.display.HTML object>"
      ]
     },
     "metadata": {},
     "output_type": "display_data"
    }
   ],
   "source": [
    "CICD_EXPERIMENT_NAME = 'Taxi Cab CICD'\n",
    "@dsl.pipeline(\n",
    "   name='Taxi CICD pipeline',\n",
    "   description='A pipeline that trains a linear model for Taxi cab dataset.'\n",
    ")\n",
    "def cicd_pipeline(\n",
    "   model_path = 'gs://kubecon-19-gojek/models/linear_model/model.json',\n",
    "):  \n",
    "    command=[\"python\", preprocessor.executable.name, \"preprocess\"]\n",
    "    preprocess = dsl.ContainerOp(\n",
    "            name=\"preprocess\", \n",
    "            image=builder.image_tag,        \n",
    "            command=command,\n",
    "            ).apply(\n",
    "                gcp.use_gcp_secret('user-gcp-sa'),\n",
    "            )\n",
    "    preprocess.container.working_dir = \"/app\"    \n",
    "    \n",
    "    command=[\"python\", preprocessor.executable.name, \"train-on-time-range\", \"2009-01-01\", \"2016-01-01\", model_path]\n",
    "    train_op = dsl.ContainerOp(\n",
    "            name=\"train\", \n",
    "            image=builder.image_tag,        \n",
    "            command=command,\n",
    "            ).apply(\n",
    "                gcp.use_gcp_secret('user-gcp-sa'),\n",
    "            )\n",
    "    train_op.container.working_dir = \"/app\"    \n",
    "\n",
    "    train_op.after(preprocess)\n",
    "    \n",
    "    command=[\"python\", preprocessor.executable.name, \"validate\"]\n",
    "    validate = dsl.ContainerOp(\n",
    "            name=\"validate\",\n",
    "            image=builder.image_tag,        \n",
    "            command=command,\n",
    "            ).apply(\n",
    "                gcp.use_gcp_secret('user-gcp-sa'),\n",
    "            )\n",
    "    validate.container.working_dir = \"/app\"    \n",
    "    \n",
    "    validate.after(train_op)\n",
    "    \n",
    "pipeline_func = cicd_pipeline\n",
    "pipeline_filename = pipeline_func.__name__ + '.pipeline.zip'\n",
    "compiler.Compiler().compile(pipeline_func, pipeline_filename)\n",
    "\n",
    "import datetime\n",
    "gcs_model_file = 'gs://kubecon-19-gojek/models/' + datetime.datetime.now().strftime(\"%y%m%d_%H%M%S\") + 'linear_model/model.json'\n",
    "\n",
    "#Specify pipeline argument values\n",
    "arguments = {\"model_path\": gcs_model_file}\n",
    "\n",
    "# Get or create an experiment and submit a pipeline run\n",
    "client = kfp.Client()\n",
    "experiment = client.create_experiment(CICD_EXPERIMENT_NAME)\n",
    "\n",
    "#Submit a pipeline run\n",
    "run_name = pipeline_func.__name__ + ' run'\n",
    "run_result = client.run_pipeline(experiment.id, run_name, pipeline_filename, arguments)\n"
   ]
  }
 ],
 "metadata": {
  "kernelspec": {
   "display_name": "Python 3",
   "language": "python",
   "name": "python3"
  },
  "language_info": {
   "codemirror_mode": {
    "name": "ipython",
    "version": 3
   },
   "file_extension": ".py",
   "mimetype": "text/x-python",
   "name": "python",
   "nbconvert_exporter": "python",
   "pygments_lexer": "ipython3",
   "version": "3.6.7"
  }
 },
 "nbformat": 4,
 "nbformat_minor": 2
}
