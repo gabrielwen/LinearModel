{
 "cells": [
  {
   "cell_type": "markdown",
   "metadata": {},
   "source": [
    "## Taxi Ride Fare Prediction Using Kubeflow, Feast, and TFX\n",
    "\n",
    "* Predict taxi ride fares using Feast and Kubeflow"
   ]
  },
  {
   "cell_type": "markdown",
   "metadata": {},
   "source": [
    "Setup the notebook\n",
    "- Install `feast` with pip.\n",
    "- Activate user service account with credentials JSON.\n",
    "- Hacks to retrieve essential information for deployments and serving.\n",
    "\n",
    "**NOTE**: This code block might hangs for a long time."
   ]
  },
  {
   "cell_type": "code",
   "execution_count": 1,
   "metadata": {},
   "outputs": [],
   "source": [
    "import demo_util\n",
    "demo_util.notebook_setup()"
   ]
  },
  {
   "cell_type": "code",
   "execution_count": 2,
   "metadata": {},
   "outputs": [],
   "source": [
    "import importlib\n",
    "importlib.reload(demo_util)\n",
    "working_dir = \"/home/jovyan/LinearModel\""
   ]
  },
  {
   "cell_type": "code",
   "execution_count": 3,
   "metadata": {},
   "outputs": [
    {
     "name": "stdout",
     "output_type": "stream",
     "text": [
      "PROJECT = aliz-development\n",
      "APP_NAME = kubeflow-asia\n",
      "ZONE = asia-southeast1-a\n"
     ]
    }
   ],
   "source": [
    "PROJECT, ZONE, APP_NAME = demo_util.get_project_config()\n",
    "print('PROJECT =', PROJECT)\n",
    "print('APP_NAME =', APP_NAME)\n",
    "print('ZONE =', ZONE)"
   ]
  },
  {
   "cell_type": "code",
   "execution_count": 4,
   "metadata": {},
   "outputs": [
    {
     "name": "stderr",
     "output_type": "stream",
     "text": [
      "/opt/conda/lib/python3.6/site-packages/apache_beam/__init__.py:84: UserWarning: Running the Apache Beam SDK on Python 3 is not yet fully supported. You may encounter buggy behavior or missing features.\n",
      "  'Running the Apache Beam SDK on Python 3 is not yet fully supported. '\n"
     ]
    }
   ],
   "source": [
    "# fairing:include-cell\n",
    "from google.cloud import storage\n",
    "import datetime\n",
    "import demo_util\n",
    "import sys\n",
    "import importlib\n",
    "import uuid\n",
    "import logging\n",
    "import os\n",
    "import json\n",
    "import requests\n",
    "import pandas as pd\n",
    "import numpy as np\n",
    "from retrying import retry\n",
    "from feast.sdk.resources.entity import Entity\n",
    "from feast.sdk.resources.storage import Storage\n",
    "from feast.sdk.resources.feature import Feature, Datastore, ValueType\n",
    "from feast.sdk.resources.feature_set import FeatureSet, FileType\n",
    "import feast.specs.FeatureSpec_pb2 as feature_pb\n",
    "\n",
    "from feast.sdk.importer import Importer\n",
    "from feast.sdk.client import Client\n",
    "import tensorflow as tf\n",
    "import tensorflow_data_validation as tfdv"
   ]
  },
  {
   "cell_type": "code",
   "execution_count": 5,
   "metadata": {},
   "outputs": [],
   "source": [
    "# Keep this imports separate because we don't want to import in the container built by fairing\n",
    "import fairing\n",
    "from fairing.deployers import job"
   ]
  },
  {
   "cell_type": "code",
   "execution_count": 6,
   "metadata": {},
   "outputs": [],
   "source": [
    "# fairing:include-cell\n",
    "class TaxiFeast(object):\n",
    "    \"\"\"Taxi code.\"\"\"\n",
    "    # Connect to the Feast deployment\n",
    "    FEAST_CORE_URL = '10.148.0.99:6565'\n",
    "    FEAST_SERVING_URL = '10.148.0.100:6566'\n",
    "    STAGING_LOCATION = 'gs://kubecon-19-gojek/staging'\n",
    "    \n",
    "    STATS_KEY = \"training_stats\"\n",
    "\n",
    "    def __init__(self):\n",
    "        self._fs = None\n",
    "        self._train_feature_set = None\n",
    "    @property\n",
    "    def fs(self):\n",
    "        if not self._fs:\n",
    "            self._fs = Client(core_url=self.FEAST_CORE_URL,serving_url=self.FEAST_SERVING_URL, verbose=True)\n",
    "        return self._fs\n",
    "    \n",
    "    def compute_training_stats(self, stats_path=None):\n",
    "        \"\"\"compute training stats.\"\"\"\n",
    "        dataset = self.fs.create_dataset(self.train_feature_set, \"2009-01-01\", \"2016-01-01\")\n",
    "        training_df = self.fs.download_dataset_to_df(dataset, self.STAGING_LOCATION)\n",
    "        training_stats = tfdv.generate_statistics_from_dataframe(training_df)\n",
    "        \n",
    "        if stats_path:\n",
    "            logging.info(\"Saving training stats to %s\", stats_path)\n",
    "            demo_util.save_proto(training_stats, stats_path)\n",
    "        else:\n",
    "            logging.info(\"No stats_path provided; not saving stats\")\n",
    "        return training_stats\n",
    "    \n",
    "    @property\n",
    "    def train_feature_set(self):\n",
    "        if not self._train_feature_set:\n",
    "            self._train_feature_set = FeatureSet(entity=ENTITY_ID, \n",
    "                                                 features=TRAINING_FEATURES_SET)\n",
    "        return self._train_feature_set\n",
    "            "
   ]
  },
  {
   "cell_type": "code",
   "execution_count": 7,
   "metadata": {},
   "outputs": [],
   "source": [
    "fshelper = TaxiFeast()"
   ]
  },
  {
   "cell_type": "markdown",
   "metadata": {},
   "source": [
    "## Load raw data"
   ]
  },
  {
   "cell_type": "code",
   "execution_count": 8,
   "metadata": {},
   "outputs": [
    {
     "data": {
      "text/html": [
       "<div>\n",
       "<style scoped>\n",
       "    .dataframe tbody tr th:only-of-type {\n",
       "        vertical-align: middle;\n",
       "    }\n",
       "\n",
       "    .dataframe tbody tr th {\n",
       "        vertical-align: top;\n",
       "    }\n",
       "\n",
       "    .dataframe thead th {\n",
       "        text-align: right;\n",
       "    }\n",
       "</style>\n",
       "<table border=\"1\" class=\"dataframe\">\n",
       "  <thead>\n",
       "    <tr style=\"text-align: right;\">\n",
       "      <th></th>\n",
       "      <th>ride_id</th>\n",
       "      <th>fare_amount</th>\n",
       "      <th>pickup_datetime</th>\n",
       "      <th>pickup_longitude</th>\n",
       "      <th>pickup_latitude</th>\n",
       "      <th>dropoff_longitude</th>\n",
       "      <th>dropoff_latitude</th>\n",
       "      <th>passenger_count</th>\n",
       "    </tr>\n",
       "  </thead>\n",
       "  <tbody>\n",
       "    <tr>\n",
       "      <th>0</th>\n",
       "      <td>20090615_172621</td>\n",
       "      <td>4.5</td>\n",
       "      <td>2009-06-15T17:26:21Z</td>\n",
       "      <td>-73.844311</td>\n",
       "      <td>40.721319</td>\n",
       "      <td>-73.841610</td>\n",
       "      <td>40.712278</td>\n",
       "      <td>1</td>\n",
       "    </tr>\n",
       "    <tr>\n",
       "      <th>1</th>\n",
       "      <td>20100105_165216</td>\n",
       "      <td>16.9</td>\n",
       "      <td>2010-01-05T16:52:16Z</td>\n",
       "      <td>-74.016048</td>\n",
       "      <td>40.711303</td>\n",
       "      <td>-73.979268</td>\n",
       "      <td>40.782004</td>\n",
       "      <td>1</td>\n",
       "    </tr>\n",
       "    <tr>\n",
       "      <th>2</th>\n",
       "      <td>20110818_003500</td>\n",
       "      <td>5.7</td>\n",
       "      <td>2011-08-18T00:35:00Z</td>\n",
       "      <td>-73.982738</td>\n",
       "      <td>40.761270</td>\n",
       "      <td>-73.991242</td>\n",
       "      <td>40.750562</td>\n",
       "      <td>2</td>\n",
       "    </tr>\n",
       "    <tr>\n",
       "      <th>3</th>\n",
       "      <td>20120421_043042</td>\n",
       "      <td>7.7</td>\n",
       "      <td>2012-04-21T04:30:42Z</td>\n",
       "      <td>-73.987130</td>\n",
       "      <td>40.733143</td>\n",
       "      <td>-73.991567</td>\n",
       "      <td>40.758092</td>\n",
       "      <td>1</td>\n",
       "    </tr>\n",
       "    <tr>\n",
       "      <th>4</th>\n",
       "      <td>20100309_075100</td>\n",
       "      <td>5.3</td>\n",
       "      <td>2010-03-09T07:51:00Z</td>\n",
       "      <td>-73.968095</td>\n",
       "      <td>40.768008</td>\n",
       "      <td>-73.956655</td>\n",
       "      <td>40.783762</td>\n",
       "      <td>1</td>\n",
       "    </tr>\n",
       "  </tbody>\n",
       "</table>\n",
       "</div>"
      ],
      "text/plain": [
       "           ride_id  fare_amount       pickup_datetime  pickup_longitude  \\\n",
       "0  20090615_172621          4.5  2009-06-15T17:26:21Z        -73.844311   \n",
       "1  20100105_165216         16.9  2010-01-05T16:52:16Z        -74.016048   \n",
       "2  20110818_003500          5.7  2011-08-18T00:35:00Z        -73.982738   \n",
       "3  20120421_043042          7.7  2012-04-21T04:30:42Z        -73.987130   \n",
       "4  20100309_075100          5.3  2010-03-09T07:51:00Z        -73.968095   \n",
       "\n",
       "   pickup_latitude  dropoff_longitude  dropoff_latitude  passenger_count  \n",
       "0        40.721319         -73.841610         40.712278                1  \n",
       "1        40.711303         -73.979268         40.782004                1  \n",
       "2        40.761270         -73.991242         40.750562                2  \n",
       "3        40.733143         -73.991567         40.758092                1  \n",
       "4        40.768008         -73.956655         40.783762                1  "
      ]
     },
     "execution_count": 8,
     "metadata": {},
     "output_type": "execute_result"
    }
   ],
   "source": [
    "df = pd.read_csv('taxi_ride.csv', index_col=False)\n",
    "df.head()"
   ]
  },
  {
   "cell_type": "markdown",
   "metadata": {},
   "source": [
    "## Extract more features"
   ]
  },
  {
   "cell_type": "code",
   "execution_count": 9,
   "metadata": {},
   "outputs": [
    {
     "data": {
      "text/html": [
       "<div>\n",
       "<style scoped>\n",
       "    .dataframe tbody tr th:only-of-type {\n",
       "        vertical-align: middle;\n",
       "    }\n",
       "\n",
       "    .dataframe tbody tr th {\n",
       "        vertical-align: top;\n",
       "    }\n",
       "\n",
       "    .dataframe thead th {\n",
       "        text-align: right;\n",
       "    }\n",
       "</style>\n",
       "<table border=\"1\" class=\"dataframe\">\n",
       "  <thead>\n",
       "    <tr style=\"text-align: right;\">\n",
       "      <th></th>\n",
       "      <th>ride_id</th>\n",
       "      <th>fare_amount</th>\n",
       "      <th>pickup_datetime</th>\n",
       "      <th>passenger_count</th>\n",
       "      <th>distance_haversine</th>\n",
       "      <th>distance_dummy_manhattan</th>\n",
       "      <th>direction</th>\n",
       "      <th>month</th>\n",
       "      <th>day_of_month</th>\n",
       "      <th>hour</th>\n",
       "      <th>day_of_week</th>\n",
       "    </tr>\n",
       "  </thead>\n",
       "  <tbody>\n",
       "    <tr>\n",
       "      <th>0</th>\n",
       "      <td>20090615_172621</td>\n",
       "      <td>4.5</td>\n",
       "      <td>2009-06-15 17:26:21</td>\n",
       "      <td>1</td>\n",
       "      <td>1.030764</td>\n",
       "      <td>1.232937</td>\n",
       "      <td>167.240469</td>\n",
       "      <td>6</td>\n",
       "      <td>15</td>\n",
       "      <td>17</td>\n",
       "      <td>0</td>\n",
       "    </tr>\n",
       "    <tr>\n",
       "      <th>1</th>\n",
       "      <td>20100105_165216</td>\n",
       "      <td>16.9</td>\n",
       "      <td>2010-01-05 16:52:16</td>\n",
       "      <td>1</td>\n",
       "      <td>8.450134</td>\n",
       "      <td>10.961646</td>\n",
       "      <td>21.498365</td>\n",
       "      <td>1</td>\n",
       "      <td>5</td>\n",
       "      <td>16</td>\n",
       "      <td>1</td>\n",
       "    </tr>\n",
       "    <tr>\n",
       "      <th>2</th>\n",
       "      <td>20110818_003500</td>\n",
       "      <td>5.7</td>\n",
       "      <td>2011-08-18 00:35:00</td>\n",
       "      <td>2</td>\n",
       "      <td>1.389525</td>\n",
       "      <td>1.906909</td>\n",
       "      <td>-148.966789</td>\n",
       "      <td>8</td>\n",
       "      <td>18</td>\n",
       "      <td>0</td>\n",
       "      <td>3</td>\n",
       "    </tr>\n",
       "    <tr>\n",
       "      <th>3</th>\n",
       "      <td>20120421_043042</td>\n",
       "      <td>7.7</td>\n",
       "      <td>2012-04-21 04:30:42</td>\n",
       "      <td>1</td>\n",
       "      <td>2.799270</td>\n",
       "      <td>3.148058</td>\n",
       "      <td>-7.672164</td>\n",
       "      <td>4</td>\n",
       "      <td>21</td>\n",
       "      <td>4</td>\n",
       "      <td>5</td>\n",
       "    </tr>\n",
       "    <tr>\n",
       "      <th>4</th>\n",
       "      <td>20100309_075100</td>\n",
       "      <td>5.3</td>\n",
       "      <td>2010-03-09 07:51:00</td>\n",
       "      <td>1</td>\n",
       "      <td>1.999157</td>\n",
       "      <td>2.715180</td>\n",
       "      <td>28.802783</td>\n",
       "      <td>3</td>\n",
       "      <td>9</td>\n",
       "      <td>7</td>\n",
       "      <td>1</td>\n",
       "    </tr>\n",
       "  </tbody>\n",
       "</table>\n",
       "</div>"
      ],
      "text/plain": [
       "           ride_id  fare_amount     pickup_datetime  passenger_count  \\\n",
       "0  20090615_172621          4.5 2009-06-15 17:26:21                1   \n",
       "1  20100105_165216         16.9 2010-01-05 16:52:16                1   \n",
       "2  20110818_003500          5.7 2011-08-18 00:35:00                2   \n",
       "3  20120421_043042          7.7 2012-04-21 04:30:42                1   \n",
       "4  20100309_075100          5.3 2010-03-09 07:51:00                1   \n",
       "\n",
       "   distance_haversine  distance_dummy_manhattan   direction  month  \\\n",
       "0            1.030764                  1.232937  167.240469      6   \n",
       "1            8.450134                 10.961646   21.498365      1   \n",
       "2            1.389525                  1.906909 -148.966789      8   \n",
       "3            2.799270                  3.148058   -7.672164      4   \n",
       "4            1.999157                  2.715180   28.802783      3   \n",
       "\n",
       "   day_of_month  hour  day_of_week  \n",
       "0            15    17            0  \n",
       "1             5    16            1  \n",
       "2            18     0            3  \n",
       "3            21     4            5  \n",
       "4             9     7            1  "
      ]
     },
     "execution_count": 9,
     "metadata": {},
     "output_type": "execute_result"
    }
   ],
   "source": [
    "from distance_utils import haversine_array, dummy_manhattan_distance, bearing_array  \n",
    "\n",
    "# location features\n",
    "df.loc[:, 'distance_haversine'] = haversine_array(\n",
    "    df['pickup_latitude'].values, \n",
    "    df['pickup_longitude'].values, \n",
    "    df['dropoff_latitude'].values, \n",
    "    df['dropoff_longitude'].values)\n",
    "\n",
    "df.loc[:, 'distance_dummy_manhattan'] =  dummy_manhattan_distance(\n",
    "    df['pickup_latitude'].values, \n",
    "    df['pickup_longitude'].values, \n",
    "    df['dropoff_latitude'].values, \n",
    "    df['dropoff_longitude'].values)\n",
    "\n",
    "df.loc[:, 'direction'] = bearing_array(\n",
    "    df['pickup_latitude'].values, \n",
    "    df['pickup_longitude'].values, \n",
    "    df['dropoff_latitude'].values, \n",
    "    df['dropoff_longitude'].values)\n",
    "\n",
    "# time features\n",
    "df['pickup_datetime'] = pd.to_datetime(df['pickup_datetime']).apply(lambda d: d.replace(tzinfo=None))\n",
    "df['month'] = df['pickup_datetime'].dt.month\n",
    "df['day_of_month'] = df['pickup_datetime'].dt.day\n",
    "df['hour'] = df['pickup_datetime'].dt.hour\n",
    "df['day_of_week'] = df['pickup_datetime'].dt.dayofweek\n",
    "\n",
    "# drop unused columns\n",
    "df = df.drop(columns=['pickup_latitude', 'pickup_longitude', 'dropoff_latitude', 'dropoff_longitude'], axis=1)\n",
    "\n",
    "df.head()"
   ]
  },
  {
   "cell_type": "markdown",
   "metadata": {},
   "source": [
    "## Register entity and features"
   ]
  },
  {
   "cell_type": "code",
   "execution_count": 10,
   "metadata": {},
   "outputs": [
    {
     "name": "stdout",
     "output_type": "stream",
     "text": [
      "Successfully applied entity with name: taxi_ride\n",
      "---\n",
      "name: taxi_ride\n",
      "description: entity level description\n",
      "\n",
      "Successfully applied feature with id: taxi_ride.fare_amount\n",
      "---\n",
      "id: taxi_ride.fare_amount\n",
      "name: fare_amount\n",
      "owner: user@website.com\n",
      "description: feature level description\n",
      "valueType: DOUBLE\n",
      "entity: taxi_ride\n",
      "dataStores:\n",
      "  serving:\n",
      "    id: SERVING\n",
      "  warehouse:\n",
      "    id: WAREHOUSE\n",
      "\n",
      "Successfully applied feature with id: taxi_ride.passenger_count\n",
      "---\n",
      "id: taxi_ride.passenger_count\n",
      "name: passenger_count\n",
      "owner: user@website.com\n",
      "description: feature level description\n",
      "valueType: INT64\n",
      "entity: taxi_ride\n",
      "dataStores:\n",
      "  serving:\n",
      "    id: SERVING\n",
      "  warehouse:\n",
      "    id: WAREHOUSE\n",
      "\n",
      "Successfully applied feature with id: taxi_ride.distance_haversine\n",
      "---\n",
      "id: taxi_ride.distance_haversine\n",
      "name: distance_haversine\n",
      "owner: user@website.com\n",
      "description: feature level description\n",
      "valueType: DOUBLE\n",
      "entity: taxi_ride\n",
      "dataStores:\n",
      "  serving:\n",
      "    id: SERVING\n",
      "  warehouse:\n",
      "    id: WAREHOUSE\n",
      "\n",
      "Successfully applied feature with id: taxi_ride.distance_dummy_manhattan\n",
      "---\n",
      "id: taxi_ride.distance_dummy_manhattan\n",
      "name: distance_dummy_manhattan\n",
      "owner: user@website.com\n",
      "description: feature level description\n",
      "valueType: DOUBLE\n",
      "entity: taxi_ride\n",
      "dataStores:\n",
      "  serving:\n",
      "    id: SERVING\n",
      "  warehouse:\n",
      "    id: WAREHOUSE\n",
      "\n",
      "Successfully applied feature with id: taxi_ride.direction\n",
      "---\n",
      "id: taxi_ride.direction\n",
      "name: direction\n",
      "owner: user@website.com\n",
      "description: feature level description\n",
      "valueType: DOUBLE\n",
      "entity: taxi_ride\n",
      "dataStores:\n",
      "  serving:\n",
      "    id: SERVING\n",
      "  warehouse:\n",
      "    id: WAREHOUSE\n",
      "\n",
      "Successfully applied feature with id: taxi_ride.month\n",
      "---\n",
      "id: taxi_ride.month\n",
      "name: month\n",
      "owner: user@website.com\n",
      "description: feature level description\n",
      "valueType: INT64\n",
      "entity: taxi_ride\n",
      "dataStores:\n",
      "  serving:\n",
      "    id: SERVING\n",
      "  warehouse:\n",
      "    id: WAREHOUSE\n",
      "\n",
      "Successfully applied feature with id: taxi_ride.day_of_month\n",
      "---\n",
      "id: taxi_ride.day_of_month\n",
      "name: day_of_month\n",
      "owner: user@website.com\n",
      "description: feature level description\n",
      "valueType: INT64\n",
      "entity: taxi_ride\n",
      "dataStores:\n",
      "  serving:\n",
      "    id: SERVING\n",
      "  warehouse:\n",
      "    id: WAREHOUSE\n",
      "\n",
      "Successfully applied feature with id: taxi_ride.hour\n",
      "---\n",
      "id: taxi_ride.hour\n",
      "name: hour\n",
      "owner: user@website.com\n",
      "description: feature level description\n",
      "valueType: INT64\n",
      "entity: taxi_ride\n",
      "dataStores:\n",
      "  serving:\n",
      "    id: SERVING\n",
      "  warehouse:\n",
      "    id: WAREHOUSE\n",
      "\n",
      "Successfully applied feature with id: taxi_ride.day_of_week\n",
      "---\n",
      "id: taxi_ride.day_of_week\n",
      "name: day_of_week\n",
      "owner: user@website.com\n",
      "description: feature level description\n",
      "valueType: INT64\n",
      "entity: taxi_ride\n",
      "dataStores:\n",
      "  serving:\n",
      "    id: SERVING\n",
      "  warehouse:\n",
      "    id: WAREHOUSE\n",
      "\n",
      "Staging file to remote path gs://kubecon-19-gojek/staging/tmp_taxi_ride_1558529938147.csv\n",
      "Submitting job with spec:\n",
      " type: file.csv\n",
      "sourceOptions:\n",
      "  path: gs://kubecon-19-gojek/staging/tmp_taxi_ride_1558529938147.csv\n",
      "entities:\n",
      "- taxi_ride\n",
      "schema:\n",
      "  entityIdColumn: ride_id\n",
      "  fields:\n",
      "  - name: ride_id\n",
      "  - featureId: taxi_ride.fare_amount\n",
      "    name: fare_amount\n",
      "  - name: pickup_datetime\n",
      "  - featureId: taxi_ride.passenger_count\n",
      "    name: passenger_count\n",
      "  - featureId: taxi_ride.distance_haversine\n",
      "    name: distance_haversine\n",
      "  - featureId: taxi_ride.distance_dummy_manhattan\n",
      "    name: distance_dummy_manhattan\n",
      "  - featureId: taxi_ride.direction\n",
      "    name: direction\n",
      "  - featureId: taxi_ride.month\n",
      "    name: month\n",
      "  - featureId: taxi_ride.day_of_month\n",
      "    name: day_of_month\n",
      "  - featureId: taxi_ride.hour\n",
      "    name: hour\n",
      "  - featureId: taxi_ride.day_of_week\n",
      "    name: day_of_week\n",
      "  timestampColumn: pickup_datetime\n",
      "\n",
      "Submitted job with id: feastimport1558529939744\n"
     ]
    },
    {
     "data": {
      "text/plain": [
       "'feastimport1558529939744'"
      ]
     },
     "execution_count": 10,
     "metadata": {},
     "output_type": "execute_result"
    }
   ],
   "source": [
    "# Create importer\n",
    "importer = Importer.from_df(df, \n",
    "                           entity='taxi_ride', \n",
    "                           owner='user@website.com',  \n",
    "                           staging_location=fshelper.STAGING_LOCATION,\n",
    "                           id_column='ride_id', \n",
    "                           timestamp_column='pickup_datetime',\n",
    "                           serving_store=Datastore(id='SERVING'),\n",
    "                           warehouse_store=Datastore(id='WAREHOUSE'))\n",
    "\n",
    "# Update feature and entity metadata. Ideally you want to update these manually\n",
    "# so that they contain adequate information for the next user\n",
    "importer.entity.description = 'entity level description' \n",
    "for feature_id in importer.features:\n",
    "    importer.features[feature_id].description = 'feature level description'\n",
    "    \n",
    "# Ingest the feature data into the store\n",
    "fshelper.fs.run(importer, apply_features=True, apply_entity=True)"
   ]
  },
  {
   "cell_type": "markdown",
   "metadata": {},
   "source": [
    "## Define a Feature Set for this project"
   ]
  },
  {
   "cell_type": "code",
   "execution_count": 11,
   "metadata": {},
   "outputs": [],
   "source": [
    "# fairing:include-cell\n",
    "ENTITY_ID = 'taxi_ride'\n",
    "TRAINING_FEATURES_SET = [\n",
    "    'taxi_ride.passenger_count',\n",
    "    'taxi_ride.distance_haversine',\n",
    "    'taxi_ride.distance_dummy_manhattan',\n",
    "    'taxi_ride.direction',\n",
    "    'taxi_ride.month',\n",
    "    'taxi_ride.day_of_month',\n",
    "    'taxi_ride.day_of_week',\n",
    "    'taxi_ride.hour',\n",
    "    'taxi_ride.fare_amount'\n",
    "]"
   ]
  },
  {
   "cell_type": "code",
   "execution_count": 12,
   "metadata": {},
   "outputs": [],
   "source": [
    "feature_set = FeatureSet(entity=ENTITY_ID, \n",
    "                         features=TRAINING_FEATURES_SET)"
   ]
  },
  {
   "cell_type": "markdown",
   "metadata": {},
   "source": [
    "## Retrieve a Training Set from Feast"
   ]
  },
  {
   "cell_type": "code",
   "execution_count": 13,
   "metadata": {},
   "outputs": [
    {
     "name": "stdout",
     "output_type": "stream",
     "text": [
      "creating training dataset for features: ['taxi_ride.passenger_count', 'taxi_ride.distance_haversine', 'taxi_ride.distance_dummy_manhattan', 'taxi_ride.direction', 'taxi_ride.month', 'taxi_ride.day_of_month', 'taxi_ride.day_of_week', 'taxi_ride.hour', 'taxi_ride.fare_amount']\n",
      "created dataset taxi_ride_1558529954536_20090101_20160101: aliz-development.fs_taxi_ride.1558529954536_20090101_20160101\n"
     ]
    },
    {
     "data": {
      "text/html": [
       "<div>\n",
       "<style scoped>\n",
       "    .dataframe tbody tr th:only-of-type {\n",
       "        vertical-align: middle;\n",
       "    }\n",
       "\n",
       "    .dataframe tbody tr th {\n",
       "        vertical-align: top;\n",
       "    }\n",
       "\n",
       "    .dataframe thead th {\n",
       "        text-align: right;\n",
       "    }\n",
       "</style>\n",
       "<table border=\"1\" class=\"dataframe\">\n",
       "  <thead>\n",
       "    <tr style=\"text-align: right;\">\n",
       "      <th></th>\n",
       "      <th>id</th>\n",
       "      <th>event_timestamp</th>\n",
       "      <th>fare_amount</th>\n",
       "      <th>passenger_count</th>\n",
       "      <th>distance_haversine</th>\n",
       "      <th>distance_dummy_manhattan</th>\n",
       "      <th>direction</th>\n",
       "      <th>month</th>\n",
       "      <th>day_of_month</th>\n",
       "      <th>hour</th>\n",
       "      <th>day_of_week</th>\n",
       "    </tr>\n",
       "  </thead>\n",
       "  <tbody>\n",
       "    <tr>\n",
       "      <th>0</th>\n",
       "      <td>20090119_103800</td>\n",
       "      <td>2009-01-19 10:38:00 UTC</td>\n",
       "      <td>3.7</td>\n",
       "      <td>1</td>\n",
       "      <td>0.605668</td>\n",
       "      <td>0.823081</td>\n",
       "      <td>-151.064653</td>\n",
       "      <td>1</td>\n",
       "      <td>19</td>\n",
       "      <td>10</td>\n",
       "      <td>0</td>\n",
       "    </tr>\n",
       "    <tr>\n",
       "      <th>1</th>\n",
       "      <td>20090119_103800</td>\n",
       "      <td>2009-01-19 10:38:00 UTC</td>\n",
       "      <td>3.7</td>\n",
       "      <td>1</td>\n",
       "      <td>0.605668</td>\n",
       "      <td>0.823081</td>\n",
       "      <td>-151.064653</td>\n",
       "      <td>1</td>\n",
       "      <td>19</td>\n",
       "      <td>10</td>\n",
       "      <td>0</td>\n",
       "    </tr>\n",
       "    <tr>\n",
       "      <th>2</th>\n",
       "      <td>20090119_103800</td>\n",
       "      <td>2009-01-19 10:38:00 UTC</td>\n",
       "      <td>3.7</td>\n",
       "      <td>1</td>\n",
       "      <td>0.605668</td>\n",
       "      <td>0.823081</td>\n",
       "      <td>-151.064653</td>\n",
       "      <td>1</td>\n",
       "      <td>19</td>\n",
       "      <td>10</td>\n",
       "      <td>0</td>\n",
       "    </tr>\n",
       "    <tr>\n",
       "      <th>3</th>\n",
       "      <td>20090119_103800</td>\n",
       "      <td>2009-01-19 10:38:00 UTC</td>\n",
       "      <td>3.7</td>\n",
       "      <td>1</td>\n",
       "      <td>0.605668</td>\n",
       "      <td>0.823081</td>\n",
       "      <td>-151.064653</td>\n",
       "      <td>1</td>\n",
       "      <td>19</td>\n",
       "      <td>10</td>\n",
       "      <td>0</td>\n",
       "    </tr>\n",
       "    <tr>\n",
       "      <th>4</th>\n",
       "      <td>20090126_004442</td>\n",
       "      <td>2009-01-26 00:44:42 UTC</td>\n",
       "      <td>10.6</td>\n",
       "      <td>1</td>\n",
       "      <td>2.808451</td>\n",
       "      <td>3.967896</td>\n",
       "      <td>-42.383166</td>\n",
       "      <td>1</td>\n",
       "      <td>26</td>\n",
       "      <td>0</td>\n",
       "      <td>0</td>\n",
       "    </tr>\n",
       "  </tbody>\n",
       "</table>\n",
       "</div>"
      ],
      "text/plain": [
       "                id          event_timestamp  fare_amount  passenger_count  \\\n",
       "0  20090119_103800  2009-01-19 10:38:00 UTC          3.7                1   \n",
       "1  20090119_103800  2009-01-19 10:38:00 UTC          3.7                1   \n",
       "2  20090119_103800  2009-01-19 10:38:00 UTC          3.7                1   \n",
       "3  20090119_103800  2009-01-19 10:38:00 UTC          3.7                1   \n",
       "4  20090126_004442  2009-01-26 00:44:42 UTC         10.6                1   \n",
       "\n",
       "   distance_haversine  distance_dummy_manhattan   direction  month  \\\n",
       "0            0.605668                  0.823081 -151.064653      1   \n",
       "1            0.605668                  0.823081 -151.064653      1   \n",
       "2            0.605668                  0.823081 -151.064653      1   \n",
       "3            0.605668                  0.823081 -151.064653      1   \n",
       "4            2.808451                  3.967896  -42.383166      1   \n",
       "\n",
       "   day_of_month  hour  day_of_week  \n",
       "0            19    10            0  \n",
       "1            19    10            0  \n",
       "2            19    10            0  \n",
       "3            19    10            0  \n",
       "4            26     0            0  "
      ]
     },
     "execution_count": 13,
     "metadata": {},
     "output_type": "execute_result"
    }
   ],
   "source": [
    "# Retrieve feature data for training from Feast\n",
    "dataset = fshelper.fs.create_dataset(feature_set, \"2009-01-01\", \"2016-01-01\")\n",
    "training_df =  fshelper.fs.download_dataset_to_df(dataset, fshelper.STAGING_LOCATION)\n",
    "\n",
    "training_df.head()"
   ]
  },
  {
   "cell_type": "markdown",
   "metadata": {},
   "source": [
    "## Visualize statistics with TFDV"
   ]
  },
  {
   "cell_type": "code",
   "execution_count": 14,
   "metadata": {},
   "outputs": [
    {
     "name": "stdout",
     "output_type": "stream",
     "text": [
      "creating training dataset for features: ['taxi_ride.passenger_count', 'taxi_ride.distance_haversine', 'taxi_ride.distance_dummy_manhattan', 'taxi_ride.direction', 'taxi_ride.month', 'taxi_ride.day_of_month', 'taxi_ride.day_of_week', 'taxi_ride.hour', 'taxi_ride.fare_amount']\n",
      "created dataset taxi_ride_1558529964229_20090101_20160101: aliz-development.fs_taxi_ride.1558529964229_20090101_20160101\n"
     ]
    },
    {
     "name": "stderr",
     "output_type": "stream",
     "text": [
      "INFO:root:Saving training stats to gs://kubecon-19-gojek/data/training_stats/190522_125924/training_stats.hdf5\n",
      "INFO:root:Saving proto to /tmp/training_stats.hdf5\n",
      "INFO:root:Uploading proto to gs://kubecon-19-gojek/data/training_stats/190522_125924/training_stats.hdf5\n",
      "INFO:root:Saved proto to gs://kubecon-19-gojek/data/training_stats/190522_125924/training_stats.hdf5\n"
     ]
    },
    {
     "data": {
      "text/html": [
       "<iframe id='facets-iframe' width=\"100%\" height=\"500px\"></iframe>\n",
       "        <script>\n",
       "        facets_iframe = document.getElementById('facets-iframe');\n",
       "        facets_html = '<link rel=\"import\" href=\"https://raw.githubusercontent.com/PAIR-code/facets/master/facets-dist/facets-jupyter.html\"><facets-overview proto-input=\"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\"></facets-overview>';\n",
       "        facets_iframe.contentWindow.document.write(facets_html);\n",
       "         facets_iframe.id = \"\";\n",
       "         setTimeout(() => {\n",
       "           facets_iframe.setAttribute('height', facets_iframe.contentWindow.document.body.offsetHeight + 'px')\n",
       "         }, 1500)\n",
       "         </script>"
      ],
      "text/plain": [
       "<IPython.core.display.HTML object>"
      ]
     },
     "metadata": {},
     "output_type": "display_data"
    }
   ],
   "source": [
    "now = datetime.datetime.now().strftime(\"%y%m%d_%H%M%S\")\n",
    "training_stats_path = \"gs://kubecon-19-gojek/data/training_stats/{0}/training_stats.hdf5\".format(now)\n",
    "\n",
    "training_stats = fshelper.compute_training_stats(training_stats_path)\n",
    "tfdv.visualize_statistics(training_stats)"
   ]
  },
  {
   "cell_type": "markdown",
   "metadata": {},
   "source": [
    "## Train Linear Model"
   ]
  },
  {
   "cell_type": "code",
   "execution_count": 15,
   "metadata": {},
   "outputs": [],
   "source": [
    "# fairing:include-cell\n",
    "class TaxiRideModel(TaxiFeast):\n",
    "  \"\"\"Model class.\"\"\"\n",
    "  SERVING_FEATURE_SET = [\n",
    "        'taxi_ride.passenger_count',\n",
    "        'taxi_ride.distance_haversine',\n",
    "        'taxi_ride.distance_dummy_manhattan',\n",
    "        'taxi_ride.direction',\n",
    "        'taxi_ride.month',\n",
    "        'taxi_ride.day_of_month',\n",
    "        'taxi_ride.day_of_week',\n",
    "        'taxi_ride.hour']\n",
    "\n",
    "  def __init__(self):\n",
    "    super(TaxiRideModel, self).__init__()\n",
    "    self.m = None\n",
    "    self.b = None\n",
    "    self.serving_fs = None\n",
    "\n",
    "    logging.basicConfig(level=logging.INFO,\n",
    "        format=('%(levelname)s|%(asctime)s'\n",
    "                '|%(pathname)s|%(lineno)d| %(message)s'),\n",
    "        datefmt='%Y-%m-%dT%H:%M:%S',\n",
    "        )\n",
    "    logging.getLogger().setLevel(logging.INFO)\n",
    "\n",
    "  # Train model \n",
    "  def train(self, training_df, model_path):\n",
    "    np.set_printoptions(precision=3)\n",
    "    train_data = training_df[[x.split('.')[1] for x in TRAINING_FEATURES_SET]].to_numpy()\n",
    "    train_data[:, len(train_data[0]) - 1] = 1\n",
    "    Y = training_df['fare_amount'].to_numpy()\n",
    "\n",
    "    x = np.linalg.lstsq(train_data, Y, rcond=0)[0]\n",
    "    m, b = x[:len(train_data[0])-1], x[len(train_data[0])-1]\n",
    "\n",
    "    self.m = m\n",
    "    self.b = b\n",
    "    \n",
    "    self.save_model(model_path)\n",
    "    \n",
    "    return m,b\n",
    "\n",
    "  def train_on_time_range(self, start_day, end_day, model_path):\n",
    "    dataset = self.fs.create_dataset(self.train_feature_set, start_day, end_day)\n",
    "    training_df =  self.fs.download_dataset_to_df(dataset, self.STAGING_LOCATION)\n",
    "    return self.train(training_df, model_path)\n",
    "    \n",
    "  def predict(self, feature_id, feature_names):\n",
    "    logging.info('feature_id = %s', feature_id)\n",
    "    logging.info('feature_names = %s', feature_names)\n",
    "    if any([i is None for i in [self.m, self.b, self.fs, self.serving_fs]]):      \n",
    "      with open('simple_model.dat', 'r') as f:\n",
    "        model = json.load(f)\n",
    "        self.m = np.array(model.get('m', []))\n",
    "        self.b = float(model.get('b', 0))\n",
    "\n",
    "        _FEAST_CORE_URL = model['FEAST_CORE_URL']\n",
    "        _FEAST_SERVING_URL = model['FEAST_SERVING_URL']\n",
    "        _ENTITY_ID = model['ENTITY_ID']\n",
    "\n",
    "        logging.info('FEAST_CORE_URL: %s', _FEAST_CORE_URL)\n",
    "        logging.info('FEAST_SERVING_URL: %s', _FEAST_SERVING_URL)\n",
    "        logging.info('ENTITY_ID: %s', _ENTITY_ID)\n",
    "        logging.info('FEATURES_SET: %s', self.SERVING_FEATURE_SET)\n",
    "\n",
    "        self.serving_fs = FeatureSet(\n",
    "            entity=_ENTITY_ID,\n",
    "            features=self.SERVING_FEATURE_SET)\n",
    "\n",
    "    features = self.fs.get_serving_data(\n",
    "        self.serving_fs,\n",
    "        entity_keys=[feature_id])\n",
    "    X = features.to_numpy()[0][1:]\n",
    "    logging.info('X: %s', str(X))\n",
    "\n",
    "    return [sum(self.m * X) + self.b]\n",
    "\n",
    "  def save_model(self, model_path):\n",
    "    \"\"\"Save the model to a json file.\"\"\"\n",
    "    MODEL_FILE = 'simple_model.dat'\n",
    "\n",
    "    model = {\n",
    "        'm': self.m.tolist(),\n",
    "        'b': self.b,\n",
    "        'FEAST_CORE_URL': self.FEAST_CORE_URL,\n",
    "        'FEAST_SERVING_URL': self.FEAST_SERVING_URL,\n",
    "        'ENTITY_ID': ENTITY_ID,\n",
    "    }\n",
    "    \n",
    "    logging.info('Saving model to %s', model_path)\n",
    "\n",
    "    demo_util.save_as_json(model, model_path)"
   ]
  },
  {
   "cell_type": "markdown",
   "metadata": {},
   "source": [
    "## Train Locally"
   ]
  },
  {
   "cell_type": "code",
   "execution_count": 18,
   "metadata": {},
   "outputs": [
    {
     "name": "stderr",
     "output_type": "stream",
     "text": [
      "INFO:root:Saving model to gs://kubecon-19-gojek/models/linear_model/190522_130025/model.json\n",
      "INFO:root:Saving data to: /tmp/model.json\n",
      "INFO:root:Uploading data to gs://kubecon-19-gojek/models/linear_model/190522_130025/model.json\n"
     ]
    },
    {
     "name": "stdout",
     "output_type": "stream",
     "text": [
      "[ 1.764e-01  1.292e+01 -8.776e+00  4.971e-03  8.376e-02 -3.989e-03\n",
      "  1.175e-01 -5.744e-03] 5.571301543075358\n"
     ]
    }
   ],
   "source": [
    "now = datetime.datetime.now().strftime(\"%y%m%d_%H%M%S\")\n",
    "model_path = 'gs://kubecon-19-gojek/models/linear_model/{0}/model.json'.format(now)\n",
    "\n",
    "model = TaxiRideModel()\n",
    "m, b = model.train(training_df, model_path)\n",
    "print(m, b)"
   ]
  },
  {
   "cell_type": "markdown",
   "metadata": {},
   "source": [
    "## Local Prediction"
   ]
  },
  {
   "cell_type": "code",
   "execution_count": 19,
   "metadata": {},
   "outputs": [
    {
     "name": "stderr",
     "output_type": "stream",
     "text": [
      "INFO:root:feature_id = 20090202_084343\n",
      "INFO:root:feature_names = None\n",
      "INFO:root:FEAST_CORE_URL: 10.148.0.99:6565\n",
      "INFO:root:FEAST_SERVING_URL: 10.148.0.100:6566\n",
      "INFO:root:ENTITY_ID: taxi_ride\n",
      "INFO:root:FEATURES_SET: ['taxi_ride.passenger_count', 'taxi_ride.distance_haversine', 'taxi_ride.distance_dummy_manhattan', 'taxi_ride.direction', 'taxi_ride.month', 'taxi_ride.day_of_month', 'taxi_ride.day_of_week', 'taxi_ride.hour']\n",
      "INFO:root:X: [1 8.677072903409417 10.460815704762517 13.462847407418641 2 2 0 8]\n"
     ]
    },
    {
     "data": {
      "text/plain": [
       "[26.20793146551558]"
      ]
     },
     "execution_count": 19,
     "metadata": {},
     "output_type": "execute_result"
    }
   ],
   "source": [
    "model.predict('20090202_084343', None)\n"
   ]
  },
  {
   "cell_type": "markdown",
   "metadata": {},
   "source": [
    "## Train and Deploy on Kubernetes"
   ]
  },
  {
   "cell_type": "markdown",
   "metadata": {},
   "source": [
    "### Use fairing to build the docker image\n",
    "\n",
    "* This uses the append builder to rapidly build docker images"
   ]
  },
  {
   "cell_type": "code",
   "execution_count": 20,
   "metadata": {},
   "outputs": [],
   "source": [
    "GCP_PROJECT = fairing.cloud.gcp.guess_project_name()\n",
    "DOCKER_REGISTRY = 'gcr.io/{}/fairing-job'.format(GCP_PROJECT)\n",
    "PY_VERSION = \".\".join([str(x) for x in sys.version_info[0:3]])\n",
    "base_image = \"gcr.io/aliz-development/kubecon-demo/notebook:v20190521-2a6d5e9-dirty-20b776\""
   ]
  },
  {
   "cell_type": "code",
   "execution_count": 21,
   "metadata": {
    "scrolled": true
   },
   "outputs": [
    {
     "name": "stderr",
     "output_type": "stream",
     "text": [
      "WARNING:fairing.builders.append.append:Building image...\n",
      "INFO:root:Creating docker context: /tmp/fairing.context.tar.gz\n",
      "INFO:root:Adding files to context: [PosixPath('ames-feast-taxi-job.py'), 'simple_model.dat', 'demo_util.py']\n",
      "INFO:root:Context: /tmp/fairing.context.tar.gz, Adding /home/jovyan/LinearModel/fairing/fairing/__init__.py at /app/fairing/__init__.py\n",
      "INFO:root:Context: /tmp/fairing.context.tar.gz, Adding /home/jovyan/LinearModel/fairing/fairing/runtime_config.py at /app/fairing/runtime_config.py\n",
      "INFO:root:Context: /tmp/fairing.context.tar.gz, Adding ames-feast-taxi-job.py at /app/ames-feast-taxi-job.py\n",
      "INFO:root:Context: /tmp/fairing.context.tar.gz, Adding simple_model.dat at /app/simple_model.dat\n",
      "INFO:root:Context: /tmp/fairing.context.tar.gz, Adding demo_util.py at /app/demo_util.py\n",
      "INFO:root:Loading Docker credentials for repository 'gcr.io/aliz-development/kubecon-demo/notebook:v20190521-2a6d5e9-dirty-20b776'\n",
      "INFO:root:Invoking 'docker-credential-gcloud' to obtain Docker credentials.\n",
      "INFO:root:Successfully obtained Docker credentials.\n",
      "WARNING:fairing.builders.append.append:Image successfully built in 2.4477406829828396s.\n",
      "WARNING:fairing.builders.append.append:Pushing image gcr.io/aliz-development/fairing-job/fairing-job:4039BC9F...\n",
      "INFO:root:Loading Docker credentials for repository 'gcr.io/aliz-development/fairing-job/fairing-job:4039BC9F'\n",
      "INFO:root:Invoking 'docker-credential-gcloud' to obtain Docker credentials.\n",
      "INFO:root:Successfully obtained Docker credentials.\n",
      "WARNING:fairing.builders.append.append:Uploading gcr.io/aliz-development/fairing-job/fairing-job:4039BC9F\n",
      "INFO:root:Layer sha256:22ea01b3a354ebdcf4386e6d2f53b6cf65bd9cdcb34a70f32e00b90a477589d0 exists, skipping\n",
      "INFO:root:Layer sha256:147c5bbff888fc9cddffd4078daa35bba0d1d6f6c7175a1acb144412a43b3fce exists, skipping\n",
      "INFO:root:Layer sha256:969fc9c5501e60432ca0bc4b635493feb2f90e14822d2f3e3f79742fed96757d exists, skipping\n",
      "INFO:root:Layer sha256:0421886249c7cc5004753186a5584fd7150561176a33eff030b01f0172f397ab exists, skipping\n",
      "INFO:root:Layer sha256:59951887a0c1d1a227f43219b3bc84562a6f2a7e0ab5c276fbd9eaba6ebec02d exists, skipping\n",
      "INFO:root:Layer sha256:8485e620dff15e8a69076ac02f6b23ffb3408161cdc2c0572905838765a84854 exists, skipping\n",
      "INFO:root:Layer sha256:62228d5c51598033083adbf71e8ee3d8d523d7d6d8c9d789b8c8a2d71ca988ac exists, skipping\n",
      "INFO:root:Layer sha256:86db56dbcdfc4e5ba205e00f3de178548dd0fcd3d1d9ec011747ca0bb08a8177 exists, skipping\n",
      "INFO:root:Layer sha256:547e89bdafacadd9655a394a9d73c49c9890233c0cd244cbc5b1cb859be1395c exists, skipping\n",
      "INFO:root:Layer sha256:bd5e67bf2947497b4a4347d2751797d6b3a40f0dc5d355185815ee6da1b8ae0c exists, skipping\n",
      "INFO:root:Layer sha256:167108358fe643eea57fc595ff9b76a1a7e09e022c84d724346ce5b41d0148bc exists, skipping\n",
      "INFO:root:Layer sha256:9ad0c8331ed7f0f76b54d8e91e66661a3ca35e02a25cc83ccb48d51fa89e5573 exists, skipping\n",
      "INFO:root:Layer sha256:398d32b153e84fe343f0c5b07d65e89b05551aae6cb8b3a03bb2b662976eb3b8 exists, skipping\n",
      "INFO:root:Layer sha256:afde35469481d2bc446d649a7a3d099147bbf7696b66333e76a411686b617ea1 exists, skipping\n",
      "INFO:root:Layer sha256:83e8c152376ce74ac2a8a9f0054cbbddc702d6e85780bbe50913983efa3b0e71 exists, skipping\n",
      "INFO:root:Layer sha256:ff51e784988b3a953df5d6ba36b982436c2b16a77eb081ce7a589ca67d04144c exists, skipping\n",
      "INFO:root:Layer sha256:124c757242f88002a858c23fc79f8262f9587fa30fd92507e586ad074afb42b6 exists, skipping\n",
      "INFO:root:Layer sha256:c451d20886c33c47dab7b01b05ece292ee5173a9a4aced925035401a6b1de62e exists, skipping\n",
      "INFO:root:Layer sha256:cf9db4ad6f99c5c0d5ea61a3b4ce21bd15e780dee9594dd186916d206e5f1a4a exists, skipping\n",
      "INFO:root:Layer sha256:432f7fba907384de9a5c1c23aed93fa3eff7d6a8d89a91f5eab99f41aa889323 exists, skipping\n",
      "INFO:root:Layer sha256:47956fc6abae87d70180bc4f0efdad014b8e2a3b617a447ac01f674336737dfc exists, skipping\n",
      "INFO:root:Layer sha256:fa3f2f277e67c5cbbf1dac21dc27111a60d3cd2ef494d94aa1515d3319f2a245 exists, skipping\n",
      "INFO:root:Layer sha256:9ab35225e174496943b6a86bf62d004409479cf722ef1d3e01ca48afc8cfaa79 exists, skipping\n",
      "INFO:root:Layer sha256:720b4ec43dd4080a670e55dac6932701c771a8e0ba02041285383aa3f5881900 exists, skipping\n",
      "INFO:root:Layer sha256:fdaf36c10e861c3d9a6bf4cb4a2324b789d94ba8c2548c546becb960ab6e26d9 exists, skipping\n",
      "INFO:root:Layer sha256:9d866f8bde2a0d607a6d17edc0fbd5e00b58306efc2b0a57e0ba72f269e7c6be exists, skipping\n",
      "INFO:root:Layer sha256:beeef0e8b06be1a1b53125982e34e90d66c4433742d0dae51d07bd3f278f4bf9 pushed.\n",
      "INFO:root:Layer sha256:e9efd870c747791fed2d293b069834d5f73b739f4fb646ca4cdd15884acfad21 pushed.\n",
      "INFO:root:Finished upload of: gcr.io/aliz-development/fairing-job/fairing-job:4039BC9F\n",
      "WARNING:fairing.builders.append.append:Pushed image gcr.io/aliz-development/fairing-job/fairing-job:4039BC9F in 9.243001483031549s.\n"
     ]
    }
   ],
   "source": [
    "from fairing.builders import append\n",
    "import fairing_util\n",
    "preprocessor = fairing_util.ConvertNotebookPreprocessorWithFire(\"TaxiRideModel\")\n",
    "\n",
    "if not preprocessor.input_files:\n",
    "    preprocessor.input_files = set()\n",
    "\n",
    "# Bake the model into the container    \n",
    "input_files=[\"simple_model.dat\", \"demo_util.py\"]\n",
    "preprocessor.input_files =  set([os.path.normpath(f) for f in input_files])\n",
    "preprocessor.preprocess()\n",
    "builder = append.append.AppendBuilder(registry=DOCKER_REGISTRY,\n",
    "                                      base_image=base_image, preprocessor=preprocessor)\n",
    "builder.build()\n"
   ]
  },
  {
   "cell_type": "markdown",
   "metadata": {},
   "source": [
    "### Launch a K8s job to compute the stats"
   ]
  },
  {
   "cell_type": "code",
   "execution_count": 22,
   "metadata": {},
   "outputs": [
    {
     "data": {
      "text/plain": [
       "<module 'demo_util' from '/home/jovyan/LinearModel/demo_util.py'>"
      ]
     },
     "execution_count": 22,
     "metadata": {},
     "output_type": "execute_result"
    }
   ],
   "source": [
    "from importlib import reload\n",
    "reload(demo_util)\n",
    "#df.head()"
   ]
  },
  {
   "cell_type": "code",
   "execution_count": 23,
   "metadata": {},
   "outputs": [
    {
     "name": "stderr",
     "output_type": "stream",
     "text": [
      "WARNING:fairing.deployers.job.job:Training job fairing-job-rw8fd launched.\n",
      "WARNING:fairing.kubernetes.manager:Waiting for fairing-job-rw8fd-7snhx to start...\n",
      "WARNING:fairing.kubernetes.manager:Waiting for fairing-job-rw8fd-7snhx to start...\n",
      "WARNING:fairing.kubernetes.manager:Waiting for fairing-job-rw8fd-7snhx to start...\n",
      "INFO:fairing.kubernetes.manager:Pod started running True\n"
     ]
    },
    {
     "name": "stdout",
     "output_type": "stream",
     "text": [
      "/opt/conda/lib/python3.6/site-packages/apache_beam/__init__.py:84: UserWarning: Running the Apache Beam SDK on Python 3 is not yet fully supported. You may encounter buggy behavior or missing features.\n",
      "  'Running the Apache Beam SDK on Python 3 is not yet fully supported. '\n",
      "Saving model to gs://kubecon-19-gojek/model/190522_130038/model.json\n",
      "Saving data to: /tmp/model.json\n",
      "Uploading data to gs://kubecon-19-gojek/model/190522_130038/model.json\n",
      "creating training dataset for features: ['taxi_ride.passenger_count', 'taxi_ride.distance_haversine', 'taxi_ride.distance_dummy_manhattan', 'taxi_ride.direction', 'taxi_ride.month', 'taxi_ride.day_of_month', 'taxi_ride.day_of_week', 'taxi_ride.hour', 'taxi_ride.fare_amount']\n",
      "created dataset taxi_ride_1558530047508_20090101_20160101: aliz-development.fs_taxi_ride.1558530047508_20090101_20160101\n",
      "(array([ 1.764e-01,  1.292e+01, -8.776e+00,  4.971e-03,  8.376e-02,        -3.989e-03,  1.175e-01, -5.744e-03]), 5.5713015430753625)\n"
     ]
    }
   ],
   "source": [
    "now = datetime.datetime.now().strftime(\"%y%m%d_%H%M%S\")\n",
    "training_model_path = 'gs://kubecon-19-gojek/model/{0}/model.json'.format(now)\n",
    "pod_spec = builder.generate_pod_spec()\n",
    "train_deployer = job.job.Job(namespace=\"kubeflow\", \n",
    "                             cleanup=False,\n",
    "                             pod_spec_mutators=[\n",
    "                             fairing.cloud.gcp.add_gcp_credentials_if_exists,])\n",
    "\n",
    "# Add command line arguments\n",
    "pod_spec.containers[0].command.extend([\"train-on-time-range\", \"2009-01-01\", \"2016-01-01\", training_model_path])\n",
    "result = train_deployer.deploy(pod_spec)"
   ]
  },
  {
   "cell_type": "code",
   "execution_count": 24,
   "metadata": {},
   "outputs": [
    {
     "name": "stdout",
     "output_type": "stream",
     "text": [
      "E0522 13:01:08.151468252    9501 backup_poller.cc:124]       Run client channel backup poller: {\"created\":\"@1558530068.151158130\",\"description\":\"pollset_work\",\"file\":\"src/core/lib/iomgr/ev_epoll1_linux.cc\",\"file_line\":242,\"referenced_errors\":[{\"created\":\"@1558530068.151154546\",\"description\":\"Bad file descriptor\",\"errno\":9,\"file\":\"src/core/lib/iomgr/ev_epoll1_linux.cc\",\"file_line\":723,\"os_error\":\"Bad file descriptor\",\"syscall\":\"epoll_wait\"}]}\n",
      "apiVersion: v1\n",
      "items:\n",
      "- apiVersion: batch/v1\n",
      "  kind: Job\n",
      "  metadata:\n",
      "    creationTimestamp: \"2019-05-22T13:00:38Z\"\n",
      "    generateName: fairing-job-\n",
      "    labels:\n",
      "      fairing-deployer: job\n",
      "      fairing-id: 98b53420-7c91-11e9-8823-a6a881dd7379\n",
      "    name: fairing-job-rw8fd\n",
      "    namespace: kubeflow\n",
      "    resourceVersion: \"2981722\"\n",
      "    selfLink: /apis/batch/v1/namespaces/kubeflow/jobs/fairing-job-rw8fd\n",
      "    uid: 98bed70b-7c91-11e9-852c-42010a9400a1\n",
      "  spec:\n",
      "    backoffLimit: 6\n",
      "    completions: 1\n",
      "    parallelism: 1\n",
      "    selector:\n",
      "      matchLabels:\n",
      "        controller-uid: 98bed70b-7c91-11e9-852c-42010a9400a1\n",
      "    template:\n",
      "      metadata:\n",
      "        creationTimestamp: null\n",
      "        labels:\n",
      "          controller-uid: 98bed70b-7c91-11e9-852c-42010a9400a1\n",
      "          fairing-deployer: job\n",
      "          fairing-id: 98b53420-7c91-11e9-8823-a6a881dd7379\n",
      "          job-name: fairing-job-rw8fd\n",
      "        name: fairing-deployer\n",
      "      spec:\n",
      "        containers:\n",
      "        - command:\n",
      "          - python\n",
      "          - /app/ames-feast-taxi-job.py\n",
      "          - train-on-time-range\n",
      "          - \"2009-01-01\"\n",
      "          - \"2016-01-01\"\n",
      "          - gs://kubecon-19-gojek/model/190522_130038/model.json\n",
      "          env:\n",
      "          - name: FAIRING_RUNTIME\n",
      "            value: \"1\"\n",
      "          - name: GOOGLE_APPLICATION_CREDENTIALS\n",
      "            value: /etc/secrets/user-gcp-sa.json\n",
      "          image: gcr.io/aliz-development/fairing-job/fairing-job:4039BC9F\n",
      "          imagePullPolicy: IfNotPresent\n",
      "          name: model\n",
      "          resources: {}\n",
      "          securityContext:\n",
      "            runAsUser: 0\n",
      "          terminationMessagePath: /dev/termination-log\n",
      "          terminationMessagePolicy: File\n",
      "          volumeMounts:\n",
      "          - mountPath: /etc/secrets\n",
      "            name: user-gcp-sa\n",
      "            readOnly: true\n",
      "          workingDir: /app\n",
      "        dnsPolicy: ClusterFirst\n",
      "        restartPolicy: Never\n",
      "        schedulerName: default-scheduler\n",
      "        securityContext: {}\n",
      "        terminationGracePeriodSeconds: 30\n",
      "        volumes:\n",
      "        - name: user-gcp-sa\n",
      "          secret:\n",
      "            defaultMode: 420\n",
      "            secretName: user-gcp-sa\n",
      "  status:\n",
      "    completionTime: \"2019-05-22T13:01:04Z\"\n",
      "    conditions:\n",
      "    - lastProbeTime: \"2019-05-22T13:01:04Z\"\n",
      "      lastTransitionTime: \"2019-05-22T13:01:04Z\"\n",
      "      status: \"True\"\n",
      "      type: Complete\n",
      "    startTime: \"2019-05-22T13:00:38Z\"\n",
      "    succeeded: 1\n",
      "kind: List\n",
      "metadata:\n",
      "  resourceVersion: \"\"\n",
      "  selfLink: \"\"\n"
     ]
    }
   ],
   "source": [
    "!kubectl get jobs -l fairing-id={train_deployer.job_id} -o yaml"
   ]
  },
  {
   "cell_type": "markdown",
   "metadata": {},
   "source": [
    "## Deploy with Kubeflow"
   ]
  },
  {
   "cell_type": "code",
   "execution_count": 25,
   "metadata": {},
   "outputs": [
    {
     "name": "stderr",
     "output_type": "stream",
     "text": [
      "INFO:root:Cluster endpoint: http://fairing-service-44whd.kubeflow.svc.cluster.local\n",
      "INFO:root:Created deployment None\n"
     ]
    },
    {
     "name": "stdout",
     "output_type": "stream",
     "text": [
      "fairing-deployer-qvcmr\n"
     ]
    }
   ],
   "source": [
    "from fairing.deployers import serving\n",
    "import fairing_util\n",
    "pod_spec = builder.generate_pod_spec()\n",
    "\n",
    "module_name = os.path.splitext(preprocessor.executable.name)[0]\n",
    "deployer = serving.serving.Serving(module_name + \".TaxiRideModel\",\n",
    "                                   service_type=\"ClusterIP\",\n",
    "                                   labels={\"app\": \"ames\"})\n",
    "\n",
    "url = deployer.deploy(pod_spec)\n",
    "\n",
    "logging.info(\"Created deployment %s\", print(deployer.deployment.metadata.name))"
   ]
  },
  {
   "cell_type": "code",
   "execution_count": 26,
   "metadata": {},
   "outputs": [
    {
     "name": "stdout",
     "output_type": "stream",
     "text": [
      "apiVersion: extensions/v1beta1\r\n",
      "kind: Deployment\r\n",
      "metadata:\r\n",
      "  annotations:\r\n",
      "    deployment.kubernetes.io/revision: \"1\"\r\n",
      "  creationTimestamp: \"2019-05-22T13:01:09Z\"\r\n",
      "  generateName: fairing-deployer-\r\n",
      "  generation: 1\r\n",
      "  labels:\r\n",
      "    app: ames\r\n",
      "    fairing-deployer: serving\r\n",
      "    fairing-id: ab550bd2-7c91-11e9-8823-a6a881dd7379\r\n",
      "  name: fairing-deployer-qvcmr\r\n",
      "  namespace: kubeflow\r\n",
      "  resourceVersion: \"2981759\"\r\n",
      "  selfLink: /apis/extensions/v1beta1/namespaces/kubeflow/deployments/fairing-deployer-qvcmr\r\n",
      "  uid: ab57edab-7c91-11e9-852c-42010a9400a1\r\n",
      "spec:\r\n",
      "  progressDeadlineSeconds: 600\r\n",
      "  replicas: 1\r\n",
      "  revisionHistoryLimit: 10\r\n",
      "  selector:\r\n",
      "    matchLabels:\r\n",
      "      app: ames\r\n",
      "      fairing-deployer: serving\r\n",
      "      fairing-id: ab550bd2-7c91-11e9-8823-a6a881dd7379\r\n",
      "  strategy:\r\n",
      "    rollingUpdate:\r\n",
      "      maxSurge: 25%\r\n",
      "      maxUnavailable: 25%\r\n",
      "    type: RollingUpdate\r\n",
      "  template:\r\n",
      "    metadata:\r\n",
      "      creationTimestamp: null\r\n",
      "      labels:\r\n",
      "        app: ames\r\n",
      "        fairing-deployer: serving\r\n",
      "        fairing-id: ab550bd2-7c91-11e9-8823-a6a881dd7379\r\n",
      "      name: fairing-deployer\r\n",
      "    spec:\r\n",
      "      containers:\r\n",
      "      - command:\r\n",
      "        - seldon-core-microservice\r\n",
      "        - ames-feast-taxi-job.TaxiRideModel\r\n",
      "        - REST\r\n",
      "        - --service-type=MODEL\r\n",
      "        - --persistence=0\r\n",
      "        env:\r\n",
      "        - name: FAIRING_RUNTIME\r\n",
      "          value: \"1\"\r\n",
      "        image: gcr.io/aliz-development/fairing-job/fairing-job:4039BC9F\r\n",
      "        imagePullPolicy: IfNotPresent\r\n",
      "        name: model\r\n",
      "        resources: {}\r\n",
      "        securityContext:\r\n",
      "          runAsUser: 0\r\n",
      "        terminationMessagePath: /dev/termination-log\r\n",
      "        terminationMessagePolicy: File\r\n",
      "        workingDir: /app\r\n",
      "      dnsPolicy: ClusterFirst\r\n",
      "      restartPolicy: Always\r\n",
      "      schedulerName: default-scheduler\r\n",
      "      securityContext: {}\r\n",
      "      terminationGracePeriodSeconds: 30\r\n",
      "status:\r\n",
      "  conditions:\r\n",
      "  - lastTransitionTime: \"2019-05-22T13:01:09Z\"\r\n",
      "    lastUpdateTime: \"2019-05-22T13:01:09Z\"\r\n",
      "    message: Deployment does not have minimum availability.\r\n",
      "    reason: MinimumReplicasUnavailable\r\n",
      "    status: \"False\"\r\n",
      "    type: Available\r\n",
      "  - lastTransitionTime: \"2019-05-22T13:01:09Z\"\r\n",
      "    lastUpdateTime: \"2019-05-22T13:01:09Z\"\r\n",
      "    message: ReplicaSet \"fairing-deployer-qvcmr-859d9b4446\" is progressing.\r\n",
      "    reason: ReplicaSetUpdated\r\n",
      "    status: \"True\"\r\n",
      "    type: Progressing\r\n",
      "  observedGeneration: 1\r\n",
      "  replicas: 1\r\n",
      "  unavailableReplicas: 1\r\n",
      "  updatedReplicas: 1\r\n"
     ]
    }
   ],
   "source": [
    "!kubectl get deploy -o yaml {deployer.deployment.metadata.name}"
   ]
  },
  {
   "cell_type": "markdown",
   "metadata": {},
   "source": [
    "## Call the prediction endpoint"
   ]
  },
  {
   "cell_type": "code",
   "execution_count": 27,
   "metadata": {},
   "outputs": [],
   "source": [
    "@retry(wait_exponential_multiplier=1000, wait_exponential_max=5000,\n",
    "       stop_max_delay=2*60*1000)\n",
    "def predict(url, id):\n",
    "    pdata={\n",
    "        'strData': id,\n",
    "    }\n",
    "    serialized_data = json.dumps(pdata)\n",
    "    r = requests.post(url, data={'json':serialized_data}, timeout=5)\n",
    "    return r"
   ]
  },
  {
   "cell_type": "code",
   "execution_count": 28,
   "metadata": {
    "scrolled": true
   },
   "outputs": [
    {
     "name": "stderr",
     "output_type": "stream",
     "text": [
      "INFO:root:Response: b'{\"data\":{\"tensor\":{\"shape\":[1],\"values\":[26.20793146551558]}},\"meta\":{}}\\n'\n"
     ]
    }
   ],
   "source": [
    "full_url = url + \":5000/predict\"\n",
    "r = predict(full_url, '20090202_084343')\n",
    "if r.ok:\n",
    "    logging.info(\"Response: %s\", r.content)\n",
    "else:\n",
    "    logging.error(\"Prediction failed; %s\", r.content)"
   ]
  }
 ],
 "metadata": {
  "kernelspec": {
   "display_name": "Python 3",
   "language": "python",
   "name": "python3"
  },
  "language_info": {
   "codemirror_mode": {
    "name": "ipython",
    "version": 3
   },
   "file_extension": ".py",
   "mimetype": "text/x-python",
   "name": "python",
   "nbconvert_exporter": "python",
   "pygments_lexer": "ipython3",
   "version": "3.6.7"
  }
 },
 "nbformat": 4,
 "nbformat_minor": 2
}
