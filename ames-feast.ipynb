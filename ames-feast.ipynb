{
 "cells": [
  {
   "cell_type": "markdown",
   "metadata": {},
   "source": [
    "## Housing Price Prediction Using Kubeflow and Feast\n",
    "\n",
    "* Predict housing prices using Feast and Kubeflow"
   ]
  },
  {
   "cell_type": "markdown",
   "metadata": {},
   "source": [
    "Setup the notebook\n",
    "- Install `feast` with pip.\n",
    "- Activate user service account with credentials JSON.\n",
    "- Hacks to retrieve essential information for deployments and serving.\n",
    "\n",
    "**NOTE**: This code block might hangs for a long time."
   ]
  },
  {
   "cell_type": "code",
   "execution_count": 6,
   "metadata": {},
   "outputs": [
    {
     "name": "stderr",
     "output_type": "stream",
     "text": [
      "INFO:root:Adding /home/jovyan/LinearModel/fairing to path\n"
     ]
    }
   ],
   "source": [
    "import demo_util\n",
    "demo_util.notebook_setup()"
   ]
  },
  {
   "cell_type": "code",
   "execution_count": 7,
   "metadata": {},
   "outputs": [],
   "source": [
    "import importlib\n",
    "importlib.reload(demo_util)\n",
    "working_dir = \"/home/jovyan/LinearModel\""
   ]
  },
  {
   "cell_type": "code",
   "execution_count": 8,
   "metadata": {},
   "outputs": [
    {
     "name": "stdout",
     "output_type": "stream",
     "text": [
      "PROJECT = aliz-development\n",
      "APP_NAME = kubeflow-asia\n",
      "ZONE = asia-southeast1-a\n"
     ]
    }
   ],
   "source": [
    "PROJECT, ZONE, APP_NAME = demo_util.get_project_config()\n",
    "print('PROJECT =', PROJECT)\n",
    "print('APP_NAME =', APP_NAME)\n",
    "print('ZONE =', ZONE)"
   ]
  },
  {
   "cell_type": "code",
   "execution_count": 30,
   "metadata": {},
   "outputs": [],
   "source": [
    "# fairing:include-cell\n",
    "import fairing\n",
    "import sys\n",
    "import importlib\n",
    "import uuid\n",
    "import logging\n",
    "import os\n",
    "import json\n",
    "import requests\n",
    "import pandas as pd\n",
    "import numpy as np\n",
    "from retrying import retry\n",
    "from feast.sdk.resources.entity import Entity\n",
    "from feast.sdk.resources.storage import Storage\n",
    "from feast.sdk.resources.feature import Feature, Datastore, ValueType\n",
    "from feast.sdk.resources.feature_set import FeatureSet, FileType\n",
    "import feast.specs.FeatureSpec_pb2 as feature_pb\n",
    "\n",
    "from feast.sdk.importer import Importer\n",
    "from feast.sdk.client import Client"
   ]
  },
  {
   "cell_type": "code",
   "execution_count": 10,
   "metadata": {},
   "outputs": [],
   "source": [
    "# Connect to the Feast deployment\n",
    "FEAST_CORE_URL = '10.148.0.99:6565'\n",
    "FEAST_SERVING_URL = '10.148.0.100:6566'\n",
    "STAGING_LOCATION = 'gs://kubecon-19-gojek/staging'\n",
    "fs = Client(core_url=FEAST_CORE_URL,serving_url=FEAST_SERVING_URL, verbose=True)"
   ]
  },
  {
   "cell_type": "markdown",
   "metadata": {},
   "source": [
    "## Load precomputed feature data"
   ]
  },
  {
   "cell_type": "code",
   "execution_count": 11,
   "metadata": {},
   "outputs": [
    {
     "data": {
      "text/html": [
       "<div>\n",
       "<style scoped>\n",
       "    .dataframe tbody tr th:only-of-type {\n",
       "        vertical-align: middle;\n",
       "    }\n",
       "\n",
       "    .dataframe tbody tr th {\n",
       "        vertical-align: top;\n",
       "    }\n",
       "\n",
       "    .dataframe thead th {\n",
       "        text-align: right;\n",
       "    }\n",
       "</style>\n",
       "<table border=\"1\" class=\"dataframe\">\n",
       "  <thead>\n",
       "    <tr style=\"text-align: right;\">\n",
       "      <th></th>\n",
       "      <th>avg_area_income</th>\n",
       "      <th>avg_area_house_age</th>\n",
       "      <th>avg_area_number_of_rooms</th>\n",
       "      <th>avg_area_number_of_bedrooms</th>\n",
       "      <th>area_population</th>\n",
       "      <th>price</th>\n",
       "      <th>area_code</th>\n",
       "      <th>timestamp</th>\n",
       "    </tr>\n",
       "  </thead>\n",
       "  <tbody>\n",
       "    <tr>\n",
       "      <th>0</th>\n",
       "      <td>79545.458574</td>\n",
       "      <td>5.682861</td>\n",
       "      <td>7.009188</td>\n",
       "      <td>4.09</td>\n",
       "      <td>23086.800503</td>\n",
       "      <td>1.059034e+06</td>\n",
       "      <td>NE 37010-5101</td>\n",
       "      <td>2018-01-01T00:00:00</td>\n",
       "    </tr>\n",
       "    <tr>\n",
       "      <th>1</th>\n",
       "      <td>79248.642455</td>\n",
       "      <td>6.002900</td>\n",
       "      <td>6.730821</td>\n",
       "      <td>3.09</td>\n",
       "      <td>40173.072174</td>\n",
       "      <td>1.505891e+06</td>\n",
       "      <td>CA 48958</td>\n",
       "      <td>2018-01-01T00:00:00</td>\n",
       "    </tr>\n",
       "    <tr>\n",
       "      <th>2</th>\n",
       "      <td>61287.067179</td>\n",
       "      <td>5.865890</td>\n",
       "      <td>8.512727</td>\n",
       "      <td>5.13</td>\n",
       "      <td>36882.159400</td>\n",
       "      <td>1.058988e+06</td>\n",
       "      <td>WI 06482-3489</td>\n",
       "      <td>2018-01-01T00:00:00</td>\n",
       "    </tr>\n",
       "    <tr>\n",
       "      <th>3</th>\n",
       "      <td>63345.240046</td>\n",
       "      <td>7.188236</td>\n",
       "      <td>5.586729</td>\n",
       "      <td>3.26</td>\n",
       "      <td>34310.242831</td>\n",
       "      <td>1.260617e+06</td>\n",
       "      <td>FPO AP 44820</td>\n",
       "      <td>2018-01-01T00:00:00</td>\n",
       "    </tr>\n",
       "    <tr>\n",
       "      <th>4</th>\n",
       "      <td>59982.197226</td>\n",
       "      <td>5.040555</td>\n",
       "      <td>7.839388</td>\n",
       "      <td>4.23</td>\n",
       "      <td>26354.109472</td>\n",
       "      <td>6.309435e+05</td>\n",
       "      <td>FPO AE 09386</td>\n",
       "      <td>2018-01-01T00:00:00</td>\n",
       "    </tr>\n",
       "  </tbody>\n",
       "</table>\n",
       "</div>"
      ],
      "text/plain": [
       "   avg_area_income  avg_area_house_age  avg_area_number_of_rooms  \\\n",
       "0     79545.458574            5.682861                  7.009188   \n",
       "1     79248.642455            6.002900                  6.730821   \n",
       "2     61287.067179            5.865890                  8.512727   \n",
       "3     63345.240046            7.188236                  5.586729   \n",
       "4     59982.197226            5.040555                  7.839388   \n",
       "\n",
       "   avg_area_number_of_bedrooms  area_population         price      area_code  \\\n",
       "0                         4.09     23086.800503  1.059034e+06  NE 37010-5101   \n",
       "1                         3.09     40173.072174  1.505891e+06       CA 48958   \n",
       "2                         5.13     36882.159400  1.058988e+06  WI 06482-3489   \n",
       "3                         3.26     34310.242831  1.260617e+06   FPO AP 44820   \n",
       "4                         4.23     26354.109472  6.309435e+05   FPO AE 09386   \n",
       "\n",
       "             timestamp  \n",
       "0  2018-01-01T00:00:00  \n",
       "1  2018-01-01T00:00:00  \n",
       "2  2018-01-01T00:00:00  \n",
       "3  2018-01-01T00:00:00  \n",
       "4  2018-01-01T00:00:00  "
      ]
     },
     "execution_count": 11,
     "metadata": {},
     "output_type": "execute_result"
    }
   ],
   "source": [
    "df = pd.read_csv('usa_housing.csv', index_col=False)\n",
    "df.head()"
   ]
  },
  {
   "cell_type": "markdown",
   "metadata": {},
   "source": [
    "## Register entity and features"
   ]
  },
  {
   "cell_type": "code",
   "execution_count": 12,
   "metadata": {},
   "outputs": [
    {
     "name": "stdout",
     "output_type": "stream",
     "text": [
      "Successfully applied entity with name: usa_housing\n",
      "---\n",
      "name: usa_housing\n",
      "description: entity level description\n",
      "\n",
      "Successfully applied feature with id: usa_housing.avg_area_income\n",
      "---\n",
      "id: usa_housing.avg_area_income\n",
      "name: avg_area_income\n",
      "owner: user@website.com\n",
      "description: feature level description\n",
      "valueType: DOUBLE\n",
      "entity: usa_housing\n",
      "dataStores:\n",
      "  serving:\n",
      "    id: SERVING\n",
      "  warehouse:\n",
      "    id: WAREHOUSE\n",
      "\n",
      "Successfully applied feature with id: usa_housing.avg_area_house_age\n",
      "---\n",
      "id: usa_housing.avg_area_house_age\n",
      "name: avg_area_house_age\n",
      "owner: user@website.com\n",
      "description: feature level description\n",
      "valueType: DOUBLE\n",
      "entity: usa_housing\n",
      "dataStores:\n",
      "  serving:\n",
      "    id: SERVING\n",
      "  warehouse:\n",
      "    id: WAREHOUSE\n",
      "\n",
      "Successfully applied feature with id: usa_housing.avg_area_number_of_rooms\n",
      "---\n",
      "id: usa_housing.avg_area_number_of_rooms\n",
      "name: avg_area_number_of_rooms\n",
      "owner: user@website.com\n",
      "description: feature level description\n",
      "valueType: DOUBLE\n",
      "entity: usa_housing\n",
      "dataStores:\n",
      "  serving:\n",
      "    id: SERVING\n",
      "  warehouse:\n",
      "    id: WAREHOUSE\n",
      "\n",
      "Successfully applied feature with id: usa_housing.avg_area_number_of_bedrooms\n",
      "---\n",
      "id: usa_housing.avg_area_number_of_bedrooms\n",
      "name: avg_area_number_of_bedrooms\n",
      "owner: user@website.com\n",
      "description: feature level description\n",
      "valueType: DOUBLE\n",
      "entity: usa_housing\n",
      "dataStores:\n",
      "  serving:\n",
      "    id: SERVING\n",
      "  warehouse:\n",
      "    id: WAREHOUSE\n",
      "\n",
      "Successfully applied feature with id: usa_housing.area_population\n",
      "---\n",
      "id: usa_housing.area_population\n",
      "name: area_population\n",
      "owner: user@website.com\n",
      "description: feature level description\n",
      "valueType: DOUBLE\n",
      "entity: usa_housing\n",
      "dataStores:\n",
      "  serving:\n",
      "    id: SERVING\n",
      "  warehouse:\n",
      "    id: WAREHOUSE\n",
      "\n",
      "Successfully applied feature with id: usa_housing.price\n",
      "---\n",
      "id: usa_housing.price\n",
      "name: price\n",
      "owner: user@website.com\n",
      "description: feature level description\n",
      "valueType: DOUBLE\n",
      "entity: usa_housing\n",
      "dataStores:\n",
      "  serving:\n",
      "    id: SERVING\n",
      "  warehouse:\n",
      "    id: WAREHOUSE\n",
      "\n",
      "Staging file to remote path gs://kubecon-19-gojek/staging/tmp_usa_housing_1558387884432.csv\n",
      "Submitting job with spec:\n",
      " type: file.csv\n",
      "sourceOptions:\n",
      "  path: gs://kubecon-19-gojek/staging/tmp_usa_housing_1558387884432.csv\n",
      "entities:\n",
      "- usa_housing\n",
      "schema:\n",
      "  entityIdColumn: area_code\n",
      "  fields:\n",
      "  - featureId: usa_housing.avg_area_income\n",
      "    name: avg_area_income\n",
      "  - featureId: usa_housing.avg_area_house_age\n",
      "    name: avg_area_house_age\n",
      "  - featureId: usa_housing.avg_area_number_of_rooms\n",
      "    name: avg_area_number_of_rooms\n",
      "  - featureId: usa_housing.avg_area_number_of_bedrooms\n",
      "    name: avg_area_number_of_bedrooms\n",
      "  - featureId: usa_housing.area_population\n",
      "    name: area_population\n",
      "  - featureId: usa_housing.price\n",
      "    name: price\n",
      "  - name: area_code\n",
      "  - name: timestamp\n",
      "  timestampColumn: timestamp\n",
      "\n",
      "Submitted job with id: feastimport1558387886119\n"
     ]
    },
    {
     "data": {
      "text/plain": [
       "'feastimport1558387886119'"
      ]
     },
     "execution_count": 12,
     "metadata": {},
     "output_type": "execute_result"
    }
   ],
   "source": [
    "# Create importer\n",
    "importer = Importer.from_df(df, \n",
    "                           entity='usa_housing', \n",
    "                           owner='user@website.com',  \n",
    "                           staging_location=STAGING_LOCATION,\n",
    "                           id_column='area_code', \n",
    "                           timestamp_column='timestamp',\n",
    "                           serving_store=Datastore(id='SERVING'),\n",
    "                           warehouse_store=Datastore(id='WAREHOUSE'))\n",
    "\n",
    "# Update feature and entity metadata. Ideally you want to update these manually\n",
    "# so that they contain adequate information for the next user\n",
    "importer.entity.description = 'entity level description' \n",
    "for feature_id in importer.features:\n",
    "    importer.features[feature_id].description = 'feature level description'\n",
    "    \n",
    "# Ingest the feature data into the store\n",
    "fs.run(importer, apply_features=True, apply_entity=True)"
   ]
  },
  {
   "cell_type": "markdown",
   "metadata": {},
   "source": [
    "## Define a Feature Set for this project"
   ]
  },
  {
   "cell_type": "code",
   "execution_count": 13,
   "metadata": {},
   "outputs": [],
   "source": [
    "ENTITY_ID = 'usa_housing'\n",
    "TRAINING_FEATURES_SET = [\n",
    "    'usa_housing.avg_area_income',\n",
    "    'usa_housing.avg_area_house_age',\n",
    "    'usa_housing.avg_area_number_of_rooms',\n",
    "    'usa_housing.avg_area_number_of_bedrooms',\n",
    "    'usa_housing.area_population',\n",
    "    'usa_housing.price'\n",
    "]\n",
    "\n",
    "feature_set = FeatureSet(entity=ENTITY_ID, \n",
    "                         features=TRAINING_FEATURES_SET)"
   ]
  },
  {
   "cell_type": "markdown",
   "metadata": {},
   "source": [
    "## Retrieve a Training Set from Feast"
   ]
  },
  {
   "cell_type": "code",
   "execution_count": 14,
   "metadata": {},
   "outputs": [
    {
     "name": "stdout",
     "output_type": "stream",
     "text": [
      "creating training dataset for features: ['usa_housing.avg_area_income', 'usa_housing.avg_area_house_age', 'usa_housing.avg_area_number_of_rooms', 'usa_housing.avg_area_number_of_bedrooms', 'usa_housing.area_population', 'usa_housing.price']\n",
      "created dataset usa_housing_1558387901327_20180101_20180131: aliz-development.fs_usa_housing.1558387901327_20180101_20180131\n"
     ]
    }
   ],
   "source": [
    "# Retrieve feature data for training from Feast\n",
    "dataset = fs.create_dataset(feature_set, \"2018-01-01\", \"2018-01-31\")\n",
    "training_df = fs.download_dataset_to_df(dataset, STAGING_LOCATION)"
   ]
  },
  {
   "cell_type": "markdown",
   "metadata": {},
   "source": [
    "## Train Linear Model"
   ]
  },
  {
   "cell_type": "code",
   "execution_count": 72,
   "metadata": {},
   "outputs": [],
   "source": [
    "# fairing:include-cell\n",
    "class HousingModel(object):\n",
    "  \"\"\"Model class.\"\"\"\n",
    "  SERVING_FEATURE_SET = [\n",
    "        'usa_housing.avg_area_income',\n",
    "        'usa_housing.avg_area_house_age',\n",
    "        'usa_housing.avg_area_number_of_rooms',\n",
    "        'usa_housing.avg_area_number_of_bedrooms',\n",
    "        'usa_housing.area_population']\n",
    "\n",
    "  def __init__(self):\n",
    "    self.m = None\n",
    "    self.b = None\n",
    "    self.fs = None\n",
    "    self.serving_fs = None\n",
    "\n",
    "    logging.basicConfig(level=logging.INFO,\n",
    "        format=('%(levelname)s|%(asctime)s'\n",
    "                '|%(pathname)s|%(lineno)d| %(message)s'),\n",
    "        datefmt='%Y-%m-%dT%H:%M:%S',\n",
    "        )\n",
    "    logging.getLogger().setLevel(logging.INFO)\n",
    "\n",
    "  # Train model \n",
    "  def train(self, training_df):\n",
    "    np.set_printoptions(precision=3)\n",
    "    train_data = training_df[[x.split('.')[1] for x in TRAINING_FEATURES_SET]].to_numpy()\n",
    "    train_data[:, len(train_data[0]) - 1] = 1\n",
    "    Y = training_df['price'].to_numpy()\n",
    "\n",
    "    x = np.linalg.lstsq(train_data, Y, rcond=0)[0]\n",
    "    m, b = x[:len(train_data[0])-1], x[len(train_data[0])-1]\n",
    "\n",
    "    self.m = m\n",
    "    self.b = b\n",
    "    return m,b\n",
    "\n",
    "  def predict(self, feature_id, feature_names):\n",
    "    logging.info('feature_id = %s', feature_id)\n",
    "    logging.info('feature_names = %s', feature_names)\n",
    "    if any([i is None for i in [self.m, self.b, self.fs, self.serving_fs]]):\n",
    "      with open('simple_model.dat', 'r') as f:\n",
    "        model = json.load(f)\n",
    "        self.m = np.array(model.get('m', []))\n",
    "        self.b = float(model.get('b', 0))\n",
    "\n",
    "        _FEAST_CORE_URL = model['FEAST_CORE_URL']\n",
    "        _FEAST_SERVING_URL = model['FEAST_SERVING_URL']\n",
    "        _ENTITY_ID = model['ENTITY_ID']\n",
    "\n",
    "        logging.info('FEAST_CORE_URL: %s', _FEAST_CORE_URL)\n",
    "        logging.info('FEAST_SERVING_URL: %s', _FEAST_SERVING_URL)\n",
    "        logging.info('ENTITY_ID: %s', _ENTITY_ID)\n",
    "        logging.info('FEATURES_SET: %s', self.SERVING_FEATURE_SET)\n",
    "\n",
    "        self.fs = Client(core_url=_FEAST_CORE_URL,\n",
    "            serving_url=_FEAST_SERVING_URL,\n",
    "            verbose=True)\n",
    "        self.serving_fs = FeatureSet(\n",
    "            entity=_ENTITY_ID,\n",
    "            features=self.SERVING_FEATURE_SET)\n",
    "\n",
    "    features = self.fs.get_serving_data(\n",
    "        self.serving_fs,\n",
    "        entity_keys=[feature_id])\n",
    "    X = features.to_numpy()[0][1:]\n",
    "    logging.info('X: %s', str(X))\n",
    "\n",
    "    return [sum(self.m * X) + self.b]\n",
    "\n",
    "  def save_model(self, model_path):\n",
    "    \"\"\"Save the model to a json file.\"\"\"\n",
    "    MODEL_FILE = 'simple_model.dat'\n",
    "\n",
    "    model = {\n",
    "        'm': self.m.tolist(),\n",
    "        'b': self.b,\n",
    "        'FEAST_CORE_URL': FEAST_CORE_URL,\n",
    "        'FEAST_SERVING_URL': FEAST_SERVING_URL,\n",
    "        'ENTITY_ID': ENTITY_ID,\n",
    "    }\n",
    "    \n",
    "    logging.info('Saving model to %s', model_path)\n",
    "\n",
    "    with open(model_path, 'w+') as f:\n",
    "        json.dump(model, f)"
   ]
  },
  {
   "cell_type": "markdown",
   "metadata": {},
   "source": [
    "## Train Locally "
   ]
  },
  {
   "cell_type": "code",
   "execution_count": 81,
   "metadata": {},
   "outputs": [
    {
     "name": "stdout",
     "output_type": "stream",
     "text": [
      "[2.158e+01 1.656e+05 1.207e+05 1.651e+03 1.520e+01] -2637299.0333282975\n"
     ]
    }
   ],
   "source": [
    "model = HousingModel()\n",
    "m, b = model.train(training_df)\n",
    "print(m, b)"
   ]
  },
  {
   "cell_type": "markdown",
   "metadata": {},
   "source": [
    "## Save the model"
   ]
  },
  {
   "cell_type": "code",
   "execution_count": 20,
   "metadata": {},
   "outputs": [
    {
     "name": "stderr",
     "output_type": "stream",
     "text": [
      "INFO:root:Saving model to /home/jovyan/LinearModel/simple_model.dat\n"
     ]
    }
   ],
   "source": [
    "MODEL_FILE = 'simple_model.dat'\n",
    "\n",
    "\n",
    "model_path = os.path.join(os.getcwd(), MODEL_FILE)\n",
    "model.save_model(model_path)"
   ]
  },
  {
   "cell_type": "markdown",
   "metadata": {},
   "source": [
    "## Local Prediction"
   ]
  },
  {
   "cell_type": "code",
   "execution_count": 82,
   "metadata": {},
   "outputs": [
    {
     "name": "stderr",
     "output_type": "stream",
     "text": [
      "INFO:root:feature_id = FPO AE 09386\n",
      "INFO:root:feature_names = None\n",
      "INFO:root:FEAST_CORE_URL: 10.148.0.99:6565\n",
      "INFO:root:FEAST_SERVING_URL: 10.148.0.100:6566\n",
      "INFO:root:ENTITY_ID: usa_housing\n",
      "INFO:root:FEATURES_SET: ['usa_housing.avg_area_income', 'usa_housing.avg_area_house_age', 'usa_housing.avg_area_number_of_rooms', 'usa_housing.avg_area_number_of_bedrooms', 'usa_housing.area_population']\n",
      "INFO:root:X: [59982.19722570803 5.040554523106283 7.839387785120487 4.23\n",
      " 26354.109472103148]\n"
     ]
    },
    {
     "data": {
      "text/plain": [
       "[845388.7662961711]"
      ]
     },
     "execution_count": 82,
     "metadata": {},
     "output_type": "execute_result"
    }
   ],
   "source": [
    "model.predict('FPO AE 09386', None)\n"
   ]
  },
  {
   "cell_type": "markdown",
   "metadata": {},
   "source": [
    "## Use fairing to build the docker image\n",
    "\n",
    "* This uses the append builder to rapidly build docker images"
   ]
  },
  {
   "cell_type": "code",
   "execution_count": 43,
   "metadata": {},
   "outputs": [],
   "source": [
    "GCP_PROJECT = fairing.cloud.gcp.guess_project_name()\n",
    "DOCKER_REGISTRY = 'gcr.io/{}/fairing-job'.format(GCP_PROJECT)\n",
    "PY_VERSION = \".\".join([str(x) for x in sys.version_info[0:3]])\n",
    "base_image = \"gcr.io/aliz-development/kubecon-demo/notebook:v20190520-67db96e-dirty-c5f145\""
   ]
  },
  {
   "cell_type": "code",
   "execution_count": 83,
   "metadata": {
    "scrolled": true
   },
   "outputs": [
    {
     "name": "stderr",
     "output_type": "stream",
     "text": [
      "WARNING:fairing.builders.append.append:Building image...\n",
      "INFO:root:Creating docker context: /tmp/fairing.context.tar.gz\n",
      "INFO:root:Adding files to context: [PosixPath('ames-feast.py'), 'simple_model.dat']\n",
      "INFO:root:Context: /tmp/fairing.context.tar.gz, Adding /home/jovyan/LinearModel/fairing/fairing/__init__.py at /app/fairing/__init__.py\n",
      "INFO:root:Context: /tmp/fairing.context.tar.gz, Adding /home/jovyan/LinearModel/fairing/fairing/runtime_config.py at /app/fairing/runtime_config.py\n",
      "INFO:root:Context: /tmp/fairing.context.tar.gz, Adding ames-feast.py at /app/ames-feast.py\n",
      "INFO:root:Context: /tmp/fairing.context.tar.gz, Adding simple_model.dat at /app/simple_model.dat\n",
      "INFO:root:Loading Docker credentials for repository 'gcr.io/aliz-development/kubecon-demo/notebook:v20190520-67db96e-dirty-c5f145'\n",
      "INFO:root:Invoking 'docker-credential-gcloud' to obtain Docker credentials.\n",
      "INFO:root:Successfully obtained Docker credentials.\n",
      "WARNING:fairing.builders.append.append:Image successfully built in 2.3349590330617502s.\n",
      "WARNING:fairing.builders.append.append:Pushing image gcr.io/aliz-development/fairing-job/fairing-job:31CB2869...\n",
      "INFO:root:Loading Docker credentials for repository 'gcr.io/aliz-development/fairing-job/fairing-job:31CB2869'\n",
      "INFO:root:Invoking 'docker-credential-gcloud' to obtain Docker credentials.\n",
      "INFO:root:Successfully obtained Docker credentials.\n",
      "WARNING:fairing.builders.append.append:Uploading gcr.io/aliz-development/fairing-job/fairing-job:31CB2869\n",
      "INFO:root:Layer sha256:398d32b153e84fe343f0c5b07d65e89b05551aae6cb8b3a03bb2b662976eb3b8 exists, skipping\n",
      "INFO:root:Layer sha256:167108358fe643eea57fc595ff9b76a1a7e09e022c84d724346ce5b41d0148bc exists, skipping\n",
      "INFO:root:Layer sha256:9920fcde0b7e7263704dc9a152f74235611c82f8560fd3bf111bc4853e60f42e exists, skipping\n",
      "INFO:root:Layer sha256:3ea14655de30bedf456511f8e503c1069b7ea0870a85f8b392fd29beccc19d8b exists, skipping\n",
      "INFO:root:Layer sha256:62228d5c51598033083adbf71e8ee3d8d523d7d6d8c9d789b8c8a2d71ca988ac exists, skipping\n",
      "INFO:root:Layer sha256:ff51e784988b3a953df5d6ba36b982436c2b16a77eb081ce7a589ca67d04144c exists, skipping\n",
      "INFO:root:Layer sha256:121befbd806bd48384fe0bc49df9732095fca8b21626d5f120d83e9d3c6a14b4 exists, skipping\n",
      "INFO:root:Layer sha256:86db56dbcdfc4e5ba205e00f3de178548dd0fcd3d1d9ec011747ca0bb08a8177 exists, skipping\n",
      "INFO:root:Layer sha256:432f7fba907384de9a5c1c23aed93fa3eff7d6a8d89a91f5eab99f41aa889323 exists, skipping\n",
      "INFO:root:Layer sha256:47956fc6abae87d70180bc4f0efdad014b8e2a3b617a447ac01f674336737dfc exists, skipping\n",
      "INFO:root:Layer sha256:147c5bbff888fc9cddffd4078daa35bba0d1d6f6c7175a1acb144412a43b3fce exists, skipping\n",
      "INFO:root:Layer sha256:9ab35225e174496943b6a86bf62d004409479cf722ef1d3e01ca48afc8cfaa79 exists, skipping\n",
      "INFO:root:Layer sha256:713b679712cafccde5e69f91161d29eec0617b5c5532e70af3940b9ae4394ed2 exists, skipping\n",
      "INFO:root:Layer sha256:3e5869d916e06bd6f8cd83ef0144d98e9693befe183a393a82ac48257e5c2c32 exists, skipping\n",
      "INFO:root:Layer sha256:22ea01b3a354ebdcf4386e6d2f53b6cf65bd9cdcb34a70f32e00b90a477589d0 exists, skipping\n",
      "INFO:root:Layer sha256:9ad0c8331ed7f0f76b54d8e91e66661a3ca35e02a25cc83ccb48d51fa89e5573 exists, skipping\n",
      "INFO:root:Layer sha256:c451d20886c33c47dab7b01b05ece292ee5173a9a4aced925035401a6b1de62e exists, skipping\n",
      "INFO:root:Layer sha256:9d866f8bde2a0d607a6d17edc0fbd5e00b58306efc2b0a57e0ba72f269e7c6be exists, skipping\n",
      "INFO:root:Layer sha256:124c757242f88002a858c23fc79f8262f9587fa30fd92507e586ad074afb42b6 exists, skipping\n",
      "INFO:root:Layer sha256:59951887a0c1d1a227f43219b3bc84562a6f2a7e0ab5c276fbd9eaba6ebec02d exists, skipping\n",
      "INFO:root:Layer sha256:afde35469481d2bc446d649a7a3d099147bbf7696b66333e76a411686b617ea1 exists, skipping\n",
      "INFO:root:Layer sha256:8485e620dff15e8a69076ac02f6b23ffb3408161cdc2c0572905838765a84854 exists, skipping\n",
      "INFO:root:Layer sha256:bd5e67bf2947497b4a4347d2751797d6b3a40f0dc5d355185815ee6da1b8ae0c exists, skipping\n",
      "INFO:root:Layer sha256:547e89bdafacadd9655a394a9d73c49c9890233c0cd244cbc5b1cb859be1395c exists, skipping\n",
      "INFO:root:Layer sha256:fa3f2f277e67c5cbbf1dac21dc27111a60d3cd2ef494d94aa1515d3319f2a245 exists, skipping\n",
      "INFO:root:Layer sha256:969fc9c5501e60432ca0bc4b635493feb2f90e14822d2f3e3f79742fed96757d exists, skipping\n",
      "INFO:root:Layer sha256:733c4407f1237f59deb0bb951e6545c422af66601522be5e423652025d75d7ea pushed.\n",
      "INFO:root:Layer sha256:a1fd48097ddc7c201f8527a439e5d7f138cd300484f4f9d55bba6dd17079894d pushed.\n",
      "INFO:root:Finished upload of: gcr.io/aliz-development/fairing-job/fairing-job:31CB2869\n",
      "WARNING:fairing.builders.append.append:Pushed image gcr.io/aliz-development/fairing-job/fairing-job:31CB2869 in 9.500897060963325s.\n"
     ]
    }
   ],
   "source": [
    "from fairing.builders import append\n",
    "import fairing_util\n",
    "preprocessor = fairing_util.ConvertNotebookPreprocessorWithFire(\"HouingModel\")\n",
    "\n",
    "if not preprocessor.input_files:\n",
    "    preprocessor.input_files = set()\n",
    "\n",
    "# Bake the model into the container    \n",
    "input_files=[\"simple_model.dat\"]\n",
    "preprocessor.input_files =  set([os.path.normpath(f) for f in input_files])\n",
    "preprocessor.preprocess()\n",
    "builder = append.append.AppendBuilder(registry=DOCKER_REGISTRY,\n",
    "                                      base_image=base_image, preprocessor=preprocessor)\n",
    "builder.build()\n"
   ]
  },
  {
   "cell_type": "markdown",
   "metadata": {},
   "source": [
    "## Deploy with Kubeflow"
   ]
  },
  {
   "cell_type": "code",
   "execution_count": 87,
   "metadata": {},
   "outputs": [
    {
     "name": "stderr",
     "output_type": "stream",
     "text": [
      "INFO:root:Cluster endpoint: http://fairing-service-m6k78.kubeflow.svc.cluster.local\n",
      "INFO:root:Created deployment None\n"
     ]
    },
    {
     "name": "stdout",
     "output_type": "stream",
     "text": [
      "fairing-deployer-mh9kb\n"
     ]
    }
   ],
   "source": [
    "from fairing.deployers import serving\n",
    "import fairing_util\n",
    "pod_spec = builder.generate_pod_spec()\n",
    "\n",
    "module_name = os.path.splitext(preprocessor.executable.name)[0]\n",
    "deployer = serving.serving.Serving(module_name + \".HousingModel\",\n",
    "                                   service_type=\"ClusterIP\",\n",
    "                                   labels={\"app\": \"ames\"})\n",
    "\n",
    "url = deployer.deploy(pod_spec)\n",
    "\n",
    "logging.info(\"Created deployment %s\", print(deployer.deployment.metadata.name))"
   ]
  },
  {
   "cell_type": "code",
   "execution_count": 78,
   "metadata": {},
   "outputs": [
    {
     "name": "stdout",
     "output_type": "stream",
     "text": [
      "Name:                   fairing-deployer-sxhqp\r\n",
      "Namespace:              kubeflow\r\n",
      "CreationTimestamp:      Mon, 20 May 2019 22:23:30 +0000\r\n",
      "Labels:                 app=ames\r\n",
      "                        fairing-deployer=serving\r\n",
      "                        fairing-id=e53c78f2-7b4d-11e9-91dd-a6a881dd7379\r\n",
      "Annotations:            deployment.kubernetes.io/revision: 1\r\n",
      "Selector:               app=ames,fairing-deployer=serving,fairing-id=e53c78f2-7b4d-11e9-91dd-a6a881dd7379\r\n",
      "Replicas:               1 desired | 1 updated | 1 total | 1 available | 0 unavailable\r\n",
      "StrategyType:           RollingUpdate\r\n",
      "MinReadySeconds:        0\r\n",
      "RollingUpdateStrategy:  25% max unavailable, 25% max surge\r\n",
      "Pod Template:\r\n",
      "  Labels:  app=ames\r\n",
      "           fairing-deployer=serving\r\n",
      "           fairing-id=e53c78f2-7b4d-11e9-91dd-a6a881dd7379\r\n",
      "  Containers:\r\n",
      "   model:\r\n",
      "    Image:      gcr.io/aliz-development/fairing-job/fairing-job:18E3B5BE\r\n",
      "    Port:       <none>\r\n",
      "    Host Port:  <none>\r\n",
      "    Command:\r\n",
      "      seldon-core-microservice\r\n",
      "      ames-feast.HousingModel\r\n",
      "      REST\r\n",
      "      --service-type=MODEL\r\n",
      "      --persistence=0\r\n",
      "    Environment:\r\n",
      "      FAIRING_RUNTIME:  1\r\n",
      "    Mounts:             <none>\r\n",
      "  Volumes:              <none>\r\n",
      "Conditions:\r\n",
      "  Type           Status  Reason\r\n",
      "  ----           ------  ------\r\n",
      "  Available      True    MinimumReplicasAvailable\r\n",
      "  Progressing    True    NewReplicaSetAvailable\r\n",
      "OldReplicaSets:  <none>\r\n",
      "NewReplicaSet:   fairing-deployer-sxhqp-5b7768557f (1/1 replicas created)\r\n",
      "Events:\r\n",
      "  Type    Reason             Age   From                   Message\r\n",
      "  ----    ------             ----  ----                   -------\r\n",
      "  Normal  ScalingReplicaSet  15s   deployment-controller  Scaled up replica set fairing-deployer-sxhqp-5b7768557f to 1\r\n"
     ]
    }
   ],
   "source": [
    "!kubectl describe deploy {deployer.deployment.metadata.name}"
   ]
  },
  {
   "cell_type": "code",
   "execution_count": 25,
   "metadata": {},
   "outputs": [
    {
     "name": "stdout",
     "output_type": "stream",
     "text": [
      "apiVersion: extensions/v1beta1\r\n",
      "kind: Deployment\r\n",
      "metadata:\r\n",
      "  annotations:\r\n",
      "    deployment.kubernetes.io/revision: \"1\"\r\n",
      "  creationTimestamp: \"2019-05-20T21:34:08Z\"\r\n",
      "  generateName: fairing-deployer-\r\n",
      "  generation: 1\r\n",
      "  labels:\r\n",
      "    app: ames\r\n",
      "    fairing-deployer: serving\r\n",
      "    fairing-id: ffd4b492-7b46-11e9-91dd-a6a881dd7379\r\n",
      "  name: fairing-deployer-hfk9z\r\n",
      "  namespace: kubeflow\r\n",
      "  resourceVersion: \"2319324\"\r\n",
      "  selfLink: /apis/extensions/v1beta1/namespaces/kubeflow/deployments/fairing-deployer-hfk9z\r\n",
      "  uid: ffd70fc7-7b46-11e9-852c-42010a9400a1\r\n",
      "spec:\r\n",
      "  progressDeadlineSeconds: 600\r\n",
      "  replicas: 1\r\n",
      "  revisionHistoryLimit: 10\r\n",
      "  selector:\r\n",
      "    matchLabels:\r\n",
      "      app: ames\r\n",
      "      fairing-deployer: serving\r\n",
      "      fairing-id: ffd4b492-7b46-11e9-91dd-a6a881dd7379\r\n",
      "  strategy:\r\n",
      "    rollingUpdate:\r\n",
      "      maxSurge: 25%\r\n",
      "      maxUnavailable: 25%\r\n",
      "    type: RollingUpdate\r\n",
      "  template:\r\n",
      "    metadata:\r\n",
      "      creationTimestamp: null\r\n",
      "      labels:\r\n",
      "        app: ames\r\n",
      "        fairing-deployer: serving\r\n",
      "        fairing-id: ffd4b492-7b46-11e9-91dd-a6a881dd7379\r\n",
      "      name: fairing-deployer\r\n",
      "    spec:\r\n",
      "      containers:\r\n",
      "      - command:\r\n",
      "        - seldon-core-microservice\r\n",
      "        - ames-feast.HousingModel\r\n",
      "        - REST\r\n",
      "        - --service-type=MODEL\r\n",
      "        - --persistence=0\r\n",
      "        env:\r\n",
      "        - name: FAIRING_RUNTIME\r\n",
      "          value: \"1\"\r\n",
      "        image: gcr.io/aliz-development/fairing-job/fairing-job:D960E7\r\n",
      "        imagePullPolicy: IfNotPresent\r\n",
      "        name: model\r\n",
      "        resources: {}\r\n",
      "        securityContext:\r\n",
      "          runAsUser: 0\r\n",
      "        terminationMessagePath: /dev/termination-log\r\n",
      "        terminationMessagePolicy: File\r\n",
      "        workingDir: /app\r\n",
      "      dnsPolicy: ClusterFirst\r\n",
      "      restartPolicy: Always\r\n",
      "      schedulerName: default-scheduler\r\n",
      "      securityContext: {}\r\n",
      "      terminationGracePeriodSeconds: 30\r\n",
      "status:\r\n",
      "  conditions:\r\n",
      "  - lastTransitionTime: \"2019-05-20T21:34:08Z\"\r\n",
      "    lastUpdateTime: \"2019-05-20T21:34:08Z\"\r\n",
      "    message: Deployment does not have minimum availability.\r\n",
      "    reason: MinimumReplicasUnavailable\r\n",
      "    status: \"False\"\r\n",
      "    type: Available\r\n",
      "  - lastTransitionTime: \"2019-05-20T21:34:08Z\"\r\n",
      "    lastUpdateTime: \"2019-05-20T21:34:08Z\"\r\n",
      "    message: ReplicaSet \"fairing-deployer-hfk9z-7f6fb6fdbc\" is progressing.\r\n",
      "    reason: ReplicaSetUpdated\r\n",
      "    status: \"True\"\r\n",
      "    type: Progressing\r\n",
      "  observedGeneration: 1\r\n",
      "  replicas: 1\r\n",
      "  unavailableReplicas: 1\r\n",
      "  updatedReplicas: 1\r\n"
     ]
    }
   ],
   "source": [
    "!kubectl get deploy -o yaml {deployer.deployment.metadata.name}"
   ]
  },
  {
   "cell_type": "markdown",
   "metadata": {},
   "source": [
    "## Call the prediction endpoint"
   ]
  },
  {
   "cell_type": "code",
   "execution_count": 85,
   "metadata": {},
   "outputs": [],
   "source": [
    "@retry(wait_exponential_multiplier=1000, wait_exponential_max=5000,\n",
    "       stop_max_delay=2*60*1000)\n",
    "def predict(url, id):\n",
    "    pdata={\n",
    "        'strData': id,\n",
    "    }\n",
    "    serialized_data = json.dumps(pdata)\n",
    "    r = requests.post(url, data={'json':serialized_data}, timeout=5)\n",
    "    return r"
   ]
  },
  {
   "cell_type": "code",
   "execution_count": 86,
   "metadata": {
    "scrolled": true
   },
   "outputs": [
    {
     "name": "stderr",
     "output_type": "stream",
     "text": [
      "INFO:root:Response: b'{\"data\":{\"tensor\":{\"shape\":[1],\"values\":[1494937.691618489]}},\"meta\":{}}\\n'\n"
     ]
    }
   ],
   "source": [
    "full_url = url + \":5000/predict\"\n",
    "r = predict(full_url, 'CA 48958')\n",
    "if r.ok:\n",
    "    logging.info(\"Response: %s\", r.content)\n",
    "else:\n",
    "    logging.error(\"Prediction failed; %s\", r.content)"
   ]
  }
 ],
 "metadata": {
  "kernelspec": {
   "display_name": "Python 3",
   "language": "python",
   "name": "python3"
  },
  "language_info": {
   "codemirror_mode": {
    "name": "ipython",
    "version": 3
   },
   "file_extension": ".py",
   "mimetype": "text/x-python",
   "name": "python",
   "nbconvert_exporter": "python",
   "pygments_lexer": "ipython3",
   "version": "3.6.7"
  }
 },
 "nbformat": 4,
 "nbformat_minor": 2
}
